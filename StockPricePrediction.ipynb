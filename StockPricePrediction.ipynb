{
 "cells": [
  {
   "cell_type": "markdown",
   "metadata": {},
   "source": [
    "# Time Series Forecasting Using NN, LSTM and CNN"
   ]
  },
  {
   "cell_type": "markdown",
   "metadata": {},
   "source": [
    "# DataPreProcessing"
   ]
  },
  {
   "cell_type": "code",
   "execution_count": 2,
   "metadata": {},
   "outputs": [],
   "source": [
    "import numpy as np\n",
    "import pandas as pd\n",
    "\n",
    "dataset=pd.read_csv('C://Users//Amit//Desktop//CSC215_P2_Stock_Price.csv')"
   ]
  },
  {
   "cell_type": "code",
   "execution_count": 3,
   "metadata": {},
   "outputs": [],
   "source": [
    "dataset= dataset.drop(columns=['Date','Adj_Close'])"
   ]
  },
  {
   "cell_type": "code",
   "execution_count": 4,
   "metadata": {},
   "outputs": [
    {
     "data": {
      "text/html": [
       "<div>\n",
       "<style scoped>\n",
       "    .dataframe tbody tr th:only-of-type {\n",
       "        vertical-align: middle;\n",
       "    }\n",
       "\n",
       "    .dataframe tbody tr th {\n",
       "        vertical-align: top;\n",
       "    }\n",
       "\n",
       "    .dataframe thead th {\n",
       "        text-align: right;\n",
       "    }\n",
       "</style>\n",
       "<table border=\"1\" class=\"dataframe\">\n",
       "  <thead>\n",
       "    <tr style=\"text-align: right;\">\n",
       "      <th></th>\n",
       "      <th>Open</th>\n",
       "      <th>High</th>\n",
       "      <th>Low</th>\n",
       "      <th>Volume</th>\n",
       "      <th>Close</th>\n",
       "    </tr>\n",
       "  </thead>\n",
       "  <tbody>\n",
       "    <tr>\n",
       "      <th>0</th>\n",
       "      <td>3.812500</td>\n",
       "      <td>4.156250</td>\n",
       "      <td>3.812500</td>\n",
       "      <td>3675600</td>\n",
       "      <td>4.125000</td>\n",
       "    </tr>\n",
       "    <tr>\n",
       "      <th>1</th>\n",
       "      <td>4.125000</td>\n",
       "      <td>4.125000</td>\n",
       "      <td>4.000000</td>\n",
       "      <td>1077600</td>\n",
       "      <td>4.015625</td>\n",
       "    </tr>\n",
       "    <tr>\n",
       "      <th>2</th>\n",
       "      <td>4.000000</td>\n",
       "      <td>4.031250</td>\n",
       "      <td>3.953125</td>\n",
       "      <td>437200</td>\n",
       "      <td>4.000000</td>\n",
       "    </tr>\n",
       "    <tr>\n",
       "      <th>3</th>\n",
       "      <td>4.000000</td>\n",
       "      <td>4.000000</td>\n",
       "      <td>3.843750</td>\n",
       "      <td>1883600</td>\n",
       "      <td>3.843750</td>\n",
       "    </tr>\n",
       "    <tr>\n",
       "      <th>4</th>\n",
       "      <td>3.734375</td>\n",
       "      <td>3.734375</td>\n",
       "      <td>3.390625</td>\n",
       "      <td>7931600</td>\n",
       "      <td>3.390625</td>\n",
       "    </tr>\n",
       "  </tbody>\n",
       "</table>\n",
       "</div>"
      ],
      "text/plain": [
       "       Open      High       Low   Volume     Close\n",
       "0  3.812500  4.156250  3.812500  3675600  4.125000\n",
       "1  4.125000  4.125000  4.000000  1077600  4.015625\n",
       "2  4.000000  4.031250  3.953125   437200  4.000000\n",
       "3  4.000000  4.000000  3.843750  1883600  3.843750\n",
       "4  3.734375  3.734375  3.390625  7931600  3.390625"
      ]
     },
     "execution_count": 4,
     "metadata": {},
     "output_type": "execute_result"
    }
   ],
   "source": [
    "dataset = dataset[['Open','High','Low','Volume','Close']]\n",
    "dataset.head()"
   ]
  },
  {
   "cell_type": "code",
   "execution_count": 5,
   "metadata": {},
   "outputs": [],
   "source": [
    "from scipy.stats import zscore\n",
    "\n",
    "dataset['Open'] = zscore(dataset['Open'])\n",
    "dataset['High'] = zscore(dataset['High'])\n",
    "dataset['Low'] = zscore(dataset['Low'])\n",
    "dataset['Volume'] = zscore(dataset['Volume'])"
   ]
  },
  {
   "cell_type": "code",
   "execution_count": 6,
   "metadata": {},
   "outputs": [],
   "source": [
    "X = dataset.iloc[:,:].values\n",
    "y = dataset.iloc[:,4].values"
   ]
  },
  {
   "cell_type": "code",
   "execution_count": 7,
   "metadata": {},
   "outputs": [],
   "source": [
    "xtrain = dataset.iloc[0:3074,:].values\n",
    "ytrain = dataset.iloc[0:3074,4].values\n",
    "\n",
    "xtest = dataset.iloc[3074:4393,:].values\n",
    "ytest = dataset.iloc[3074:4393,4].values"
   ]
  },
  {
   "cell_type": "code",
   "execution_count": 8,
   "metadata": {},
   "outputs": [],
   "source": [
    "x_train=xtrain\n",
    "y_train=ytrain\n",
    "x_test=xtest\n",
    "y_test=ytest"
   ]
  },
  {
   "cell_type": "code",
   "execution_count": 9,
   "metadata": {},
   "outputs": [],
   "source": [
    "X_train =[]\n",
    "Y_train = []\n",
    "\n",
    "\n",
    "for i in range(7, len(x_train)):\n",
    "    X_train.append(x_train[i-7:i ,:])\n",
    "    Y_train.append(xtrain[i,4])"
   ]
  },
  {
   "cell_type": "code",
   "execution_count": 10,
   "metadata": {},
   "outputs": [],
   "source": [
    "for i in range(7, 14):\n",
    "    X_train.append(x_train[i-7:i ,:])\n",
    "    Y_train.append(xtrain[i,4])"
   ]
  },
  {
   "cell_type": "code",
   "execution_count": 11,
   "metadata": {},
   "outputs": [],
   "source": [
    "X_train=np.array(X_train)"
   ]
  },
  {
   "cell_type": "code",
   "execution_count": 12,
   "metadata": {},
   "outputs": [
    {
     "data": {
      "text/plain": [
       "(3074, 7, 5)"
      ]
     },
     "execution_count": 12,
     "metadata": {},
     "output_type": "execute_result"
    }
   ],
   "source": [
    "X_train.shape"
   ]
  },
  {
   "cell_type": "code",
   "execution_count": 13,
   "metadata": {},
   "outputs": [],
   "source": [
    "X_test =[]\n",
    "Y_test = []\n",
    "\n",
    "\n",
    "for i in range(7, len(x_test)):\n",
    "    X_test.append(x_test[i-7:i ,:])\n",
    "    Y_test.append(xtest[i,4])"
   ]
  },
  {
   "cell_type": "code",
   "execution_count": 14,
   "metadata": {},
   "outputs": [],
   "source": [
    "for i in range(7,14):\n",
    "    X_test.append(x_test[i-7:i ,:])\n",
    "    Y_test.append(xtest[i,4])"
   ]
  },
  {
   "cell_type": "code",
   "execution_count": 15,
   "metadata": {},
   "outputs": [],
   "source": [
    "X_test=np.array(X_test)\n",
    "Y_test=np.array(Y_test)"
   ]
  },
  {
   "cell_type": "code",
   "execution_count": 16,
   "metadata": {},
   "outputs": [
    {
     "data": {
      "text/plain": [
       "(1318, 7, 5)"
      ]
     },
     "execution_count": 16,
     "metadata": {},
     "output_type": "execute_result"
    }
   ],
   "source": [
    "X_test.shape"
   ]
  },
  {
   "cell_type": "code",
   "execution_count": 17,
   "metadata": {},
   "outputs": [
    {
     "data": {
      "text/plain": [
       "(1318,)"
      ]
     },
     "execution_count": 17,
     "metadata": {},
     "output_type": "execute_result"
    }
   ],
   "source": [
    "Y_test.shape"
   ]
  },
  {
   "cell_type": "code",
   "execution_count": 18,
   "metadata": {},
   "outputs": [],
   "source": [
    "Y_train=np.array(Y_train)"
   ]
  },
  {
   "cell_type": "code",
   "execution_count": 19,
   "metadata": {},
   "outputs": [],
   "source": [
    "array = X_train.reshape(3074,35)\n",
    "arraytest = X_test.reshape(1318, 35)"
   ]
  },
  {
   "cell_type": "markdown",
   "metadata": {},
   "source": [
    "# Fully Connected Neural Network"
   ]
  },
  {
   "cell_type": "code",
   "execution_count": 51,
   "metadata": {},
   "outputs": [],
   "source": [
    "from sklearn import metrics\n",
    "from sklearn.preprocessing import OneHotEncoder\n",
    "from sklearn.preprocessing import StandardScaler\n",
    "\n",
    "from tensorflow.keras.models import Sequential\n",
    "from tensorflow.keras.layers import Dense, Activation\n",
    "from tensorflow.keras.callbacks import EarlyStopping\n",
    "from tensorflow.keras.callbacks import ModelCheckpoint"
   ]
  },
  {
   "cell_type": "code",
   "execution_count": 23,
   "metadata": {},
   "outputs": [
    {
     "name": "stderr",
     "output_type": "stream",
     "text": [
      "WARNING: Logging before flag parsing goes to stderr.\n",
      "W1007 23:33:52.137011 18440 deprecation.py:506] From C:\\Users\\Amit\\Anaconda3\\lib\\site-packages\\tensorflow\\python\\ops\\init_ops.py:1251: calling VarianceScaling.__init__ (from tensorflow.python.ops.init_ops) with dtype is deprecated and will be removed in a future version.\n",
      "Instructions for updating:\n",
      "Call initializer instance with the dtype argument instead of passing it to the constructor\n"
     ]
    }
   ],
   "source": [
    "model = Sequential()\n",
    "#Neural network model has 4 layers and 486 neurons\n",
    "#Layer 1 has 35 nerons Layer 2 has 300 neurons Layer 3 has 150 and Layer 4 has 1 neuron.\n",
    "\n",
    "model.add(Dense(300, input_dim = 35,activation='relu')) #hidden 1\n",
    "model.add(Dense(150, activation='relu'))\n",
    "model.add(Dense(1)) \n",
    "model.compile(loss='mean_squared_error', optimizer='adam', metrics = ['accuracy'])\n",
    "monitor = EarlyStopping(monitor='val_loss', min_delta=1e-3, patience=5, verbose=1, mode='auto')\n",
    "checkpointer = ModelCheckpoint(filepath=\"C://Users//Amit//Desktop//CSC215_P2_Stock_Price.csv\", verbose=0, save_best_only=True)"
   ]
  },
  {
   "cell_type": "code",
   "execution_count": 24,
   "metadata": {},
   "outputs": [
    {
     "name": "stdout",
     "output_type": "stream",
     "text": [
      "Train on 3074 samples, validate on 1318 samples\n",
      "Epoch 1/500\n",
      "3074/3074 - 2s - loss: 10.3207 - acc: 0.0000e+00 - val_loss: 5.8262 - val_acc: 0.0000e+00\n",
      "Epoch 2/500\n",
      "3074/3074 - 1s - loss: 0.3695 - acc: 0.0000e+00 - val_loss: 5.6972 - val_acc: 0.0000e+00\n",
      "Epoch 3/500\n",
      "3074/3074 - 2s - loss: 0.3034 - acc: 0.0000e+00 - val_loss: 3.6519 - val_acc: 0.0000e+00\n",
      "Epoch 4/500\n",
      "3074/3074 - 1s - loss: 0.2782 - acc: 0.0000e+00 - val_loss: 10.3396 - val_acc: 0.0000e+00\n",
      "Epoch 5/500\n",
      "3074/3074 - 2s - loss: 0.2503 - acc: 0.0000e+00 - val_loss: 2.8061 - val_acc: 0.0000e+00\n",
      "Epoch 6/500\n",
      "3074/3074 - 1s - loss: 0.2065 - acc: 0.0000e+00 - val_loss: 4.2672 - val_acc: 0.0000e+00\n",
      "Epoch 7/500\n",
      "3074/3074 - 1s - loss: 0.1987 - acc: 0.0000e+00 - val_loss: 2.4663 - val_acc: 0.0000e+00\n",
      "Epoch 8/500\n",
      "3074/3074 - 1s - loss: 0.1798 - acc: 0.0000e+00 - val_loss: 7.9833 - val_acc: 0.0000e+00\n",
      "Epoch 9/500\n",
      "3074/3074 - 1s - loss: 0.2320 - acc: 0.0000e+00 - val_loss: 2.7862 - val_acc: 0.0000e+00\n",
      "Epoch 10/500\n",
      "3074/3074 - 1s - loss: 0.1768 - acc: 0.0000e+00 - val_loss: 3.9782 - val_acc: 0.0000e+00\n",
      "Epoch 11/500\n",
      "3074/3074 - 1s - loss: 0.2041 - acc: 0.0000e+00 - val_loss: 2.4385 - val_acc: 0.0000e+00\n",
      "Epoch 12/500\n",
      "3074/3074 - 1s - loss: 0.2148 - acc: 0.0000e+00 - val_loss: 8.1927 - val_acc: 0.0000e+00\n",
      "Epoch 13/500\n",
      "3074/3074 - 1s - loss: 0.2179 - acc: 0.0000e+00 - val_loss: 10.3449 - val_acc: 0.0000e+00\n",
      "Epoch 14/500\n",
      "3074/3074 - 1s - loss: 0.3261 - acc: 0.0000e+00 - val_loss: 2.2907 - val_acc: 0.0000e+00\n",
      "Epoch 15/500\n",
      "3074/3074 - 1s - loss: 0.2030 - acc: 0.0000e+00 - val_loss: 6.2123 - val_acc: 0.0000e+00\n",
      "Epoch 16/500\n",
      "3074/3074 - 1s - loss: 0.2170 - acc: 0.0000e+00 - val_loss: 2.5040 - val_acc: 0.0000e+00\n",
      "Epoch 17/500\n",
      "3074/3074 - 1s - loss: 0.2001 - acc: 0.0000e+00 - val_loss: 2.2690 - val_acc: 0.0000e+00\n",
      "Epoch 18/500\n",
      "3074/3074 - 1s - loss: 0.2564 - acc: 0.0000e+00 - val_loss: 7.0938 - val_acc: 0.0000e+00\n",
      "Epoch 19/500\n",
      "3074/3074 - 1s - loss: 0.2369 - acc: 0.0000e+00 - val_loss: 3.6674 - val_acc: 0.0000e+00\n",
      "Epoch 20/500\n",
      "3074/3074 - 1s - loss: 0.2446 - acc: 0.0000e+00 - val_loss: 7.8079 - val_acc: 0.0000e+00\n",
      "Epoch 21/500\n",
      "3074/3074 - 1s - loss: 0.3369 - acc: 0.0000e+00 - val_loss: 6.2950 - val_acc: 0.0000e+00\n",
      "Epoch 22/500\n",
      "3074/3074 - 1s - loss: 0.1651 - acc: 0.0000e+00 - val_loss: 3.8076 - val_acc: 0.0000e+00\n",
      "Epoch 00022: early stopping\n"
     ]
    },
    {
     "data": {
      "text/plain": [
       "<tensorflow.python.keras.callbacks.History at 0x12d16237e48>"
      ]
     },
     "execution_count": 24,
     "metadata": {},
     "output_type": "execute_result"
    }
   ],
   "source": [
    "import os\n",
    "model.fit(array, Y_train,validation_data=(arraytest, Y_test),verbose=2,epochs=500,callbacks=[monitor,checkpointer])"
   ]
  },
  {
   "cell_type": "code",
   "execution_count": 25,
   "metadata": {},
   "outputs": [],
   "source": [
    "pred = model.predict(arraytest)"
   ]
  },
  {
   "cell_type": "code",
   "execution_count": 27,
   "metadata": {},
   "outputs": [
    {
     "name": "stdout",
     "output_type": "stream",
     "text": [
      "Score (RMSE): 1.9512996907865061\n"
     ]
    }
   ],
   "source": [
    "score1 = np.sqrt(metrics.mean_squared_error(pred.flatten(),Y_test))\n",
    "print(\"Score (RMSE): {}\".format(score1))"
   ]
  },
  {
   "cell_type": "code",
   "execution_count": 78,
   "metadata": {},
   "outputs": [
    {
     "name": "stdout",
     "output_type": "stream",
     "text": [
      "Regression Lift Chart\n"
     ]
    }
   ],
   "source": [
    "%matplotlib inline\n",
    "import matplotlib.pyplot as plt\n",
    "print(\"Regression Lift Chart\")\n",
    "def chart_regression(pred,y,sort=True):\n",
    "    t = pd.DataFrame({'pred' : pred, 'y' : y.flatten()})\n",
    "    if sort:\n",
    "        t.sort_values(by=['y'],inplace=True)\n",
    "    a = plt.plot(t['y'].tolist(),label='expected')\n",
    "    b = plt.plot(t['pred'].tolist(),label='prediction')\n",
    "    plt.ylabel('output')\n",
    "    plt.legend()\n",
    "    plt.show()"
   ]
  },
  {
   "cell_type": "code",
   "execution_count": 29,
   "metadata": {},
   "outputs": [
    {
     "data": {
      "image/png": "[encoded data removed]",
      "text/plain": [
       "<Figure size 432x288 with 1 Axes>"
      ]
     },
     "metadata": {
      "needs_background": "light"
     },
     "output_type": "display_data"
    }
   ],
   "source": [
    "chart_regression(pred.flatten(),Y_test)"
   ]
  },
  {
   "cell_type": "code",
   "execution_count": 204,
   "metadata": {},
   "outputs": [],
   "source": [
    "from tensorflow.keras import optimizers\n",
    "model2 = Sequential()\n",
    "#neural network models has 4 layers and 1836 neurons\n",
    "\n",
    "#Layer 1 has 35 nerons Layer 2 has 1200 neurons Layer 3 has 600 and Layer 4 has 1 neuron.\n",
    "\n",
    "model2.add(Dense(1200, input_dim = 35,activation='tanh')) #hidden 1\n",
    "model2.add(Dense(600, activation='sigmoid'))\n",
    "#model.add(Dense(150, activation='relu'))\n",
    "\n",
    "model2.add(Dense(1)) \n",
    "adam=optimizers.Adam(lr=0.001 , decay=0.0 , clipvalue=0.5, clipnorm=1.)\n",
    "model2.compile(loss='mean_squared_error', optimizer=adam, metrics = ['accuracy'])\n",
    "monitor = EarlyStopping(monitor='val_loss', min_delta=1e-3, patience=5, verbose=1, mode='auto')\n",
    "checkpointer = ModelCheckpoint(filepath=\"C://Users//Amit//Desktop//CSC215_P2_Stock_Price.csv\", verbose=0, save_best_only=True)"
   ]
  },
  {
   "cell_type": "code",
   "execution_count": 205,
   "metadata": {},
   "outputs": [
    {
     "name": "stdout",
     "output_type": "stream",
     "text": [
      "Train on 3074 samples, validate on 1318 samples\n",
      "Epoch 1/500\n",
      "3074/3074 - 4s - loss: 37.1038 - acc: 0.0000e+00 - val_loss: 1587.5583 - val_acc: 0.0000e+00\n",
      "Epoch 2/500\n",
      "3074/3074 - 1s - loss: 1.1386 - acc: 0.0000e+00 - val_loss: 1290.0116 - val_acc: 0.0000e+00\n",
      "Epoch 3/500\n",
      "3074/3074 - 1s - loss: 0.6530 - acc: 0.0000e+00 - val_loss: 1176.5771 - val_acc: 0.0000e+00\n",
      "Epoch 4/500\n",
      "3074/3074 - 1s - loss: 1.1502 - acc: 0.0000e+00 - val_loss: 1173.0343 - val_acc: 0.0000e+00\n",
      "Epoch 5/500\n",
      "3074/3074 - 1s - loss: 0.8403 - acc: 0.0000e+00 - val_loss: 1192.0765 - val_acc: 0.0000e+00\n",
      "Epoch 6/500\n",
      "3074/3074 - 1s - loss: 0.7246 - acc: 0.0000e+00 - val_loss: 1187.2788 - val_acc: 0.0000e+00\n",
      "Epoch 7/500\n",
      "3074/3074 - 2s - loss: 0.6427 - acc: 0.0000e+00 - val_loss: 1208.2046 - val_acc: 0.0000e+00\n",
      "Epoch 8/500\n",
      "3074/3074 - 2s - loss: 0.6019 - acc: 0.0000e+00 - val_loss: 1254.9954 - val_acc: 0.0000e+00\n",
      "Epoch 9/500\n",
      "3074/3074 - 2s - loss: 0.3901 - acc: 0.0000e+00 - val_loss: 1235.1052 - val_acc: 0.0000e+00\n",
      "Epoch 00009: early stopping\n"
     ]
    },
    {
     "data": {
      "text/plain": [
       "<tensorflow.python.keras.callbacks.History at 0x12d59491588>"
      ]
     },
     "execution_count": 205,
     "metadata": {},
     "output_type": "execute_result"
    }
   ],
   "source": [
    "import os\n",
    "model2.fit(array, Y_train,validation_data=(arraytest, Y_test),verbose=2,epochs=500,callbacks=[monitor,checkpointer])"
   ]
  },
  {
   "cell_type": "code",
   "execution_count": 206,
   "metadata": {},
   "outputs": [],
   "source": [
    "pred = model2.predict(arraytest)"
   ]
  },
  {
   "cell_type": "code",
   "execution_count": 208,
   "metadata": {},
   "outputs": [
    {
     "name": "stdout",
     "output_type": "stream",
     "text": [
      "Score (RMSE): 35.144063238783275\n"
     ]
    }
   ],
   "source": [
    "ns = np.sqrt(metrics.mean_squared_error(pred.flatten(),Y_test))\n",
    "print(\"Score (RMSE): {}\".format(ns))"
   ]
  },
  {
   "cell_type": "code",
   "execution_count": 209,
   "metadata": {},
   "outputs": [
    {
     "data": {
      "image/png": "[encoded data removed]",
      "text/plain": [
       "<Figure size 432x288 with 1 Axes>"
      ]
     },
     "metadata": {
      "needs_background": "light"
     },
     "output_type": "display_data"
    }
   ],
   "source": [
    "chart_regression(pred.flatten(),Y_test)"
   ]
  },
  {
   "cell_type": "code",
   "execution_count": 145,
   "metadata": {},
   "outputs": [],
   "source": [
    "model3 = Sequential()\n",
    "#neural network model has 5 layers and 836 neurons\n",
    "#Layer 1 has 35 nerons Layer 2 has 500 neurons Layer 3 has 150 and Layer 4 has 150 neurons Layer 5 has 1 neuron.\n",
    "\n",
    "model3.add(Dense(500, input_dim = 35,activation='sigmoid')) #hidden 1\n",
    "model3.add(Dense(150, activation='sigmoid'))\n",
    "model3.add(Dense(150, activation='relu'))\n",
    "#model.add(Dense(150, activation='relu'))\n",
    "\n",
    "model3.add(Dense(1)) \n",
    "model3.compile(loss='mean_squared_error', optimizer='adam', metrics = ['accuracy'])\n",
    "monitor = EarlyStopping(monitor='val_loss', min_delta=1e-3, patience=5, verbose=1, mode='auto')\n",
    "checkpointer = ModelCheckpoint(filepath=\"C://Users//Amit//Desktop//CSC215_P2_Stock_Price.csv\", verbose=0, save_best_only=True)"
   ]
  },
  {
   "cell_type": "code",
   "execution_count": 152,
   "metadata": {},
   "outputs": [
    {
     "name": "stdout",
     "output_type": "stream",
     "text": [
      "Train on 3074 samples, validate on 1318 samples\n",
      "Epoch 1/500\n",
      "3074/3074 - 1s - loss: 0.1987 - acc: 0.0000e+00 - val_loss: 1045.1965 - val_acc: 0.0000e+00\n",
      "Epoch 2/500\n",
      "3074/3074 - 1s - loss: 0.2445 - acc: 0.0000e+00 - val_loss: 1044.6767 - val_acc: 0.0000e+00\n",
      "Epoch 3/500\n",
      "3074/3074 - 1s - loss: 0.1861 - acc: 0.0000e+00 - val_loss: 1050.4284 - val_acc: 0.0000e+00\n",
      "Epoch 4/500\n",
      "3074/3074 - 0s - loss: 0.1903 - acc: 0.0000e+00 - val_loss: 1030.6729 - val_acc: 0.0000e+00\n",
      "Epoch 5/500\n",
      "3074/3074 - 1s - loss: 0.2415 - acc: 0.0000e+00 - val_loss: 1059.1319 - val_acc: 0.0000e+00\n",
      "Epoch 6/500\n",
      "3074/3074 - 1s - loss: 0.2025 - acc: 0.0000e+00 - val_loss: 1053.0172 - val_acc: 0.0000e+00\n",
      "Epoch 7/500\n",
      "3074/3074 - 0s - loss: 0.1945 - acc: 0.0000e+00 - val_loss: 1028.8986 - val_acc: 0.0000e+00\n",
      "Epoch 8/500\n",
      "3074/3074 - 0s - loss: 0.1966 - acc: 0.0000e+00 - val_loss: 1036.5094 - val_acc: 0.0000e+00\n",
      "Epoch 9/500\n",
      "3074/3074 - 0s - loss: 0.1935 - acc: 0.0000e+00 - val_loss: 1038.3445 - val_acc: 0.0000e+00\n",
      "Epoch 10/500\n",
      "3074/3074 - 1s - loss: 0.2060 - acc: 0.0000e+00 - val_loss: 1056.9072 - val_acc: 0.0000e+00\n",
      "Epoch 11/500\n",
      "3074/3074 - 1s - loss: 0.1927 - acc: 0.0000e+00 - val_loss: 1039.4096 - val_acc: 0.0000e+00\n",
      "Epoch 12/500\n",
      "3074/3074 - 1s - loss: 0.1971 - acc: 0.0000e+00 - val_loss: 1029.6550 - val_acc: 0.0000e+00\n",
      "Epoch 00012: early stopping\n"
     ]
    },
    {
     "data": {
      "text/plain": [
       "<tensorflow.python.keras.callbacks.History at 0x12d46f99c18>"
      ]
     },
     "execution_count": 152,
     "metadata": {},
     "output_type": "execute_result"
    }
   ],
   "source": [
    "import os\n",
    "model3.fit(array, Y_train,validation_data=(arraytest, Y_test),verbose=2,epochs=500, callbacks=[monitor,checkpointer])"
   ]
  },
  {
   "cell_type": "code",
   "execution_count": 153,
   "metadata": {},
   "outputs": [],
   "source": [
    "pred = model3.predict(arraytest)"
   ]
  },
  {
   "cell_type": "code",
   "execution_count": 154,
   "metadata": {},
   "outputs": [
    {
     "name": "stdout",
     "output_type": "stream",
     "text": [
      "Score (RMSE): 32.088237903279435\n"
     ]
    }
   ],
   "source": [
    "score3 = np.sqrt(metrics.mean_squared_error(pred.flatten(),Y_test))\n",
    "print(\"Score (RMSE): {}\".format(score3))"
   ]
  },
  {
   "cell_type": "code",
   "execution_count": 155,
   "metadata": {},
   "outputs": [
    {
     "data": {
      "image/png": "[encoded data removed]",
      "text/plain": [
       "<Figure size 432x288 with 1 Axes>"
      ]
     },
     "metadata": {
      "needs_background": "light"
     },
     "output_type": "display_data"
    }
   ],
   "source": [
    "chart_regression(pred.flatten(),Y_test)"
   ]
  },
  {
   "cell_type": "code",
   "execution_count": 193,
   "metadata": {},
   "outputs": [],
   "source": [
    "\n",
    "from tensorflow.keras import optimizers\n",
    "#from keras.optimizers import Adam, SGD\n",
    "\n",
    "model4 = Sequential()\n",
    "#neural network model has 5 layers and 536 neurons\n",
    "#Layer 1 has 35 nerons Layer 2 has 300 neurons Layer 3 has 150 and Layer 4 has 50 neurons, Layer 5 has 1 neuron.\n",
    "\n",
    "model4.add(Dense(300, input_dim = 35,activation='relu')) #hidden 1\n",
    "model4.add(Dense(150, activation='relu'))\n",
    "model.add(Dense(50, activation='relu'))\n",
    "\n",
    "model4.add(Dense(1)) \n",
    "sgd=optimizers.SGD(lr=0.01 , decay=0.0 , clipvalue=0.5, clipnorm=1.)\n",
    "model4.compile(loss='mean_squared_error', optimizer=sgd, metrics = ['accuracy'])\n",
    "monitor = EarlyStopping(monitor='val_loss', min_delta=1e-3, patience=5, verbose=1, mode='auto')\n",
    "checkpointer = ModelCheckpoint(filepath=\"C://Users//Amit//Desktop//CSC215_P2_Stock_Price.csv\", verbose=0, save_best_only=True)"
   ]
  },
  {
   "cell_type": "code",
   "execution_count": 194,
   "metadata": {},
   "outputs": [
    {
     "name": "stderr",
     "output_type": "stream",
     "text": [
      "W1008 00:57:09.559646 18440 deprecation.py:323] From C:\\Users\\Amit\\Anaconda3\\lib\\site-packages\\tensorflow\\python\\ops\\clip_ops.py:157: add_dispatch_support.<locals>.wrapper (from tensorflow.python.ops.array_ops) is deprecated and will be removed in a future version.\n",
      "Instructions for updating:\n",
      "Use tf.where in 2.0, which has the same broadcast rule as np.where\n"
     ]
    },
    {
     "name": "stdout",
     "output_type": "stream",
     "text": [
      "Train on 3074 samples, validate on 1318 samples\n",
      "Epoch 1/500\n",
      "3074/3074 - 3s - loss: 26.1491 - acc: 0.0000e+00 - val_loss: 11.3130 - val_acc: 0.0000e+00\n",
      "Epoch 2/500\n",
      "3074/3074 - 1s - loss: 0.6340 - acc: 0.0000e+00 - val_loss: 6.3764 - val_acc: 0.0000e+00\n",
      "Epoch 3/500\n",
      "3074/3074 - 0s - loss: 0.6260 - acc: 0.0000e+00 - val_loss: 8.7738 - val_acc: 0.0000e+00\n",
      "Epoch 4/500\n",
      "3074/3074 - 0s - loss: 0.5739 - acc: 0.0000e+00 - val_loss: 6.3848 - val_acc: 0.0000e+00\n",
      "Epoch 5/500\n",
      "3074/3074 - 0s - loss: 0.6015 - acc: 0.0000e+00 - val_loss: 5.8356 - val_acc: 0.0000e+00\n",
      "Epoch 6/500\n",
      "3074/3074 - 1s - loss: 0.5707 - acc: 0.0000e+00 - val_loss: 3.7964 - val_acc: 0.0000e+00\n",
      "Epoch 7/500\n",
      "3074/3074 - 0s - loss: 0.6185 - acc: 0.0000e+00 - val_loss: 7.9802 - val_acc: 0.0000e+00\n",
      "Epoch 8/500\n",
      "3074/3074 - 0s - loss: 0.5291 - acc: 0.0000e+00 - val_loss: 8.4088 - val_acc: 0.0000e+00\n",
      "Epoch 9/500\n",
      "3074/3074 - 0s - loss: 0.5144 - acc: 0.0000e+00 - val_loss: 6.8069 - val_acc: 0.0000e+00\n",
      "Epoch 10/500\n",
      "3074/3074 - 0s - loss: 0.4685 - acc: 0.0000e+00 - val_loss: 9.1327 - val_acc: 0.0000e+00\n",
      "Epoch 11/500\n",
      "3074/3074 - 0s - loss: 0.4972 - acc: 0.0000e+00 - val_loss: 6.8546 - val_acc: 0.0000e+00\n",
      "Epoch 00011: early stopping\n"
     ]
    },
    {
     "data": {
      "text/plain": [
       "<tensorflow.python.keras.callbacks.History at 0x12d56621748>"
      ]
     },
     "execution_count": 194,
     "metadata": {},
     "output_type": "execute_result"
    }
   ],
   "source": [
    "import os\n",
    "model4.fit(array, Y_train,validation_data=(arraytest, Y_test),verbose=2,epochs=500, callbacks=[monitor,checkpointer])"
   ]
  },
  {
   "cell_type": "code",
   "execution_count": 195,
   "metadata": {},
   "outputs": [],
   "source": [
    "pred = model4.predict(arraytest)"
   ]
  },
  {
   "cell_type": "code",
   "execution_count": 196,
   "metadata": {},
   "outputs": [
    {
     "name": "stdout",
     "output_type": "stream",
     "text": [
      "Score (RMSE): 2.6181349602251958\n"
     ]
    }
   ],
   "source": [
    "score4 = np.sqrt(metrics.mean_squared_error(pred.flatten(),Y_test))\n",
    "print(\"Score (RMSE): {}\".format(score4))"
   ]
  },
  {
   "cell_type": "code",
   "execution_count": 197,
   "metadata": {},
   "outputs": [
    {
     "data": {
      "image/png": "[encoded data removed]",
      "text/plain": [
       "<Figure size 432x288 with 1 Axes>"
      ]
     },
     "metadata": {
      "needs_background": "light"
     },
     "output_type": "display_data"
    }
   ],
   "source": [
    "chart_regression(pred.flatten(),Y_test)"
   ]
  },
  {
   "cell_type": "code",
   "execution_count": 211,
   "metadata": {},
   "outputs": [
    {
     "name": "stdout",
     "output_type": "stream",
     "text": [
      "RMSE SCORE COMPARISON:\n",
      "1.Activation-Relu,Relu, Opt-Adam:             1.9512996907865061\n",
      "2.Activation-tanh & sigmoid, Opt-adam:        35.144063238783275\n",
      "3.Activation-sigmoid, sigmoid, relu Opt-Adam: 32.088237903279435\n",
      "4.Activation-relu, relu, relu Opt-sgd:        2.6181349602251958\n"
     ]
    }
   ],
   "source": [
    "print(\"RMSE SCORE COMPARISON:\")\n",
    "print(\"1.Activation-Relu,Relu, Opt-Adam:             {}\".format(score1))\n",
    "print(\"2.Activation-tanh & sigmoid, Opt-adam:        {}\".format(ns))\n",
    "print(\"3.Activation-sigmoid, sigmoid, relu Opt-Adam: {}\".format(score3))\n",
    "print(\"4.Activation-relu, relu, relu Opt-sgd:        {}\".format(score4))"
   ]
  },
  {
   "cell_type": "code",
   "execution_count": 228,
   "metadata": {},
   "outputs": [
    {
     "name": "stdout",
     "output_type": "stream",
     "text": [
      "Best FNN Model is Activtion- Relu,Relu  Opt- Adam with 486 neurons has score:1.9512996907865061\n"
     ]
    }
   ],
   "source": [
    "print(\"Best FNN Model is Activtion- Relu,Relu  Opt- Adam with 486 neurons has score:{}\".format(score1) )"
   ]
  },
  {
   "cell_type": "markdown",
   "metadata": {},
   "source": [
    "# LSTM"
   ]
  },
  {
   "cell_type": "code",
   "execution_count": 212,
   "metadata": {},
   "outputs": [
    {
     "name": "stderr",
     "output_type": "stream",
     "text": [
      "W1008 01:27:41.133471 18440 deprecation.py:506] From C:\\Users\\Amit\\Anaconda3\\lib\\site-packages\\tensorflow\\python\\keras\\initializers.py:119: calling RandomUniform.__init__ (from tensorflow.python.ops.init_ops) with dtype is deprecated and will be removed in a future version.\n",
      "Instructions for updating:\n",
      "Call initializer instance with the dtype argument instead of passing it to the constructor\n"
     ]
    },
    {
     "name": "stdout",
     "output_type": "stream",
     "text": [
      "Build model...\n",
      "Train...\n",
      "Train on 3074 samples, validate on 1318 samples\n",
      "Epoch 1/100\n",
      "3074/3074 - 72s - loss: 4.1049 - val_loss: 6.6803\n",
      "Epoch 2/100\n",
      "3074/3074 - 61s - loss: 0.4107 - val_loss: 29.1158\n",
      "Epoch 3/100\n",
      "3074/3074 - 60s - loss: 0.4263 - val_loss: 15.3370\n",
      "Epoch 4/100\n",
      "3074/3074 - 64s - loss: 0.3592 - val_loss: 5.4004\n",
      "Epoch 5/100\n",
      "3074/3074 - 59s - loss: 0.3081 - val_loss: 4.2233\n",
      "Epoch 6/100\n",
      "3074/3074 - 59s - loss: 0.3728 - val_loss: 4.4834\n",
      "Epoch 7/100\n",
      "3074/3074 - 63s - loss: 0.3296 - val_loss: 3.7701\n",
      "Epoch 8/100\n",
      "3074/3074 - 66s - loss: 0.2548 - val_loss: 6.6094\n",
      "Epoch 9/100\n",
      "3074/3074 - 60s - loss: 0.2765 - val_loss: 20.6365\n",
      "Epoch 10/100\n",
      "3074/3074 - 60s - loss: 0.3582 - val_loss: 8.4259\n",
      "Epoch 11/100\n",
      "3074/3074 - 61s - loss: 0.3950 - val_loss: 37.1547\n",
      "Epoch 12/100\n",
      "3074/3074 - 73s - loss: 0.8831 - val_loss: 12.0739\n",
      "Epoch 00012: early stopping\n"
     ]
    },
    {
     "data": {
      "text/plain": [
       "<tensorflow.python.keras.callbacks.History at 0x12d5a63a5c0>"
      ]
     },
     "execution_count": 212,
     "metadata": {},
     "output_type": "execute_result"
    }
   ],
   "source": [
    "from tensorflow.keras.models import Sequential\n",
    "from tensorflow.keras.layers import Dense, Embedding ,Dropout\n",
    "from tensorflow.keras.layers import LSTM\n",
    "from tensorflow.keras.callbacks import EarlyStopping\n",
    "import numpy as np\n",
    "\n",
    "# Number of LSTM Layers are 6. Layer 1 : 35 neurons Layer2: 1200 neurons Layer 3: 600 neurons \n",
    "#Layer 4 has 300 neurons Layer 5: 100 neurons Layer 6 has 1 neuron\n",
    "\n",
    "print('Build model...')\n",
    "model = Sequential()\n",
    "\n",
    "model.add(LSTM(1200,activation='relu',dropout=0.0, recurrent_dropout=0.0, input_shape=(7, 5), kernel_initializer='random_uniform'))\n",
    "model.add(Dense(600,activation ='relu'))\n",
    "model.add(Dense(300))\n",
    "model.add(Dense(100))\n",
    "model.add(Dense(1))\n",
    "\n",
    "model.compile(loss='mean_squared_error', optimizer='adam')\n",
    "\n",
    "monitor = EarlyStopping(monitor='val_loss', min_delta=1e-3, patience=5, verbose=1, mode='auto')\n",
    "checkpointer = ModelCheckpoint(filepath=\"C://Users//Amit//Desktop//CSC215_P2_Stock_Price.csv\", verbose=0, save_best_only=True)\n",
    "print('Train...')\n",
    "\n",
    "model.fit(X_train,Y_train,validation_data=(X_test,Y_test), callbacks=[monitor],verbose=2, epochs=100)"
   ]
  },
  {
   "cell_type": "code",
   "execution_count": 213,
   "metadata": {},
   "outputs": [],
   "source": [
    "pred = model.predict(X_test)"
   ]
  },
  {
   "cell_type": "code",
   "execution_count": 214,
   "metadata": {},
   "outputs": [
    {
     "name": "stdout",
     "output_type": "stream",
     "text": [
      "Score (RMSE): 3.4747453138266513\n"
     ]
    }
   ],
   "source": [
    "score5 = np.sqrt(metrics.mean_squared_error(pred,Y_test))\n",
    "print(\"Score (RMSE): {}\".format(score5))"
   ]
  },
  {
   "cell_type": "code",
   "execution_count": 215,
   "metadata": {},
   "outputs": [
    {
     "data": {
      "image/png": "[encoded data removed]",
      "text/plain": [
       "<Figure size 432x288 with 1 Axes>"
      ]
     },
     "metadata": {
      "needs_background": "light"
     },
     "output_type": "display_data"
    }
   ],
   "source": [
    "chart_regression(pred.flatten(),Y_test)"
   ]
  },
  {
   "cell_type": "code",
   "execution_count": 216,
   "metadata": {},
   "outputs": [
    {
     "name": "stdout",
     "output_type": "stream",
     "text": [
      "Build model...\n",
      "Train...\n",
      "Train on 3074 samples, validate on 1318 samples\n",
      "Epoch 1/100\n",
      "3074/3074 - 72s - loss: 17.9744 - val_loss: 698.4317\n",
      "Epoch 2/100\n",
      "3074/3074 - 91s - loss: 0.4082 - val_loss: 666.7389\n",
      "Epoch 3/100\n",
      "3074/3074 - 88s - loss: 0.3059 - val_loss: 654.3381\n",
      "Epoch 4/100\n",
      "3074/3074 - 88s - loss: 0.3880 - val_loss: 622.7239\n",
      "Epoch 5/100\n",
      "3074/3074 - 88s - loss: 0.2735 - val_loss: 626.7676\n",
      "Epoch 6/100\n",
      "3074/3074 - 93s - loss: 0.2963 - val_loss: 615.0250\n",
      "Epoch 7/100\n",
      "3074/3074 - 90s - loss: 0.4279 - val_loss: 687.0720\n",
      "Epoch 8/100\n",
      "3074/3074 - 60s - loss: 0.3728 - val_loss: 736.5424\n",
      "Epoch 9/100\n",
      "3074/3074 - 61s - loss: 0.3384 - val_loss: 687.2990\n",
      "Epoch 10/100\n",
      "3074/3074 - 63s - loss: 0.3329 - val_loss: 596.7052\n",
      "Epoch 11/100\n",
      "3074/3074 - 63s - loss: 0.3714 - val_loss: 684.6696\n",
      "Epoch 12/100\n",
      "3074/3074 - 68s - loss: 0.3709 - val_loss: 565.1729\n",
      "Epoch 13/100\n",
      "3074/3074 - 64s - loss: 0.4851 - val_loss: 644.9619\n",
      "Epoch 14/100\n",
      "3074/3074 - 61s - loss: 0.2303 - val_loss: 623.2906\n",
      "Epoch 15/100\n",
      "3074/3074 - 68s - loss: 0.3177 - val_loss: 659.3689\n",
      "Epoch 16/100\n",
      "3074/3074 - 67s - loss: 0.2347 - val_loss: 593.6887\n",
      "Epoch 17/100\n",
      "3074/3074 - 61s - loss: 0.2985 - val_loss: 652.0432\n",
      "Epoch 00017: early stopping\n"
     ]
    },
    {
     "data": {
      "text/plain": [
       "<tensorflow.python.keras.callbacks.History at 0x12d98ef6940>"
      ]
     },
     "execution_count": 216,
     "metadata": {},
     "output_type": "execute_result"
    }
   ],
   "source": [
    "print('Build model...')\n",
    "model = Sequential()\n",
    "\n",
    "\n",
    "# Number of LSTM Layers are 5. Layer 1 : 35 neurons Layer2: 1200 neurons Layer 3: 600 neurons \n",
    "#Layer 4 has 300 neurons  Layer 5 has 1 neuron\n",
    "\n",
    "model.add(LSTM(1200,activation='sigmoid',dropout=0.0, recurrent_dropout=0.0, input_shape=(7, 5), kernel_initializer='random_uniform'))\n",
    "model.add(Dense(600))\n",
    "model.add(Dense(300))\n",
    "model.add(Dense(1))\n",
    "\n",
    "model.compile(loss='mean_squared_error', optimizer='adam')\n",
    "\n",
    "monitor = EarlyStopping(monitor='val_loss', min_delta=1e-3, patience=5, verbose=1, mode='auto')\n",
    "checkpointer = ModelCheckpoint(filepath=\"C://Users//Amit//Desktop//CSC215_P2_Stock_Price.csv\", verbose=0, save_best_only=True)\n",
    "print('Train...')\n",
    "\n",
    "model.fit(X_train,Y_train,validation_data=(X_test,Y_test), callbacks=[monitor,checkpointer],verbose=2, epochs=100)"
   ]
  },
  {
   "cell_type": "code",
   "execution_count": 217,
   "metadata": {},
   "outputs": [],
   "source": [
    "pred = model.predict(X_test)"
   ]
  },
  {
   "cell_type": "code",
   "execution_count": 218,
   "metadata": {},
   "outputs": [
    {
     "name": "stdout",
     "output_type": "stream",
     "text": [
      "Score (RMSE): 25.53513595017853\n"
     ]
    }
   ],
   "source": [
    "score6 = np.sqrt(metrics.mean_squared_error(pred,Y_test))\n",
    "print(\"Score (RMSE): {}\".format(score6))"
   ]
  },
  {
   "cell_type": "code",
   "execution_count": 219,
   "metadata": {},
   "outputs": [
    {
     "data": {
      "image/png": "[encoded data removed]",
      "text/plain": [
       "<Figure size 432x288 with 1 Axes>"
      ]
     },
     "metadata": {
      "needs_background": "light"
     },
     "output_type": "display_data"
    }
   ],
   "source": [
    "chart_regression(pred.flatten(),Y_test)"
   ]
  },
  {
   "cell_type": "code",
   "execution_count": 221,
   "metadata": {},
   "outputs": [
    {
     "name": "stdout",
     "output_type": "stream",
     "text": [
      "Build model...\n",
      "Train...\n",
      "Train on 3074 samples, validate on 1318 samples\n",
      "Epoch 1/100\n",
      "3074/3074 - 74s - loss: 46.2712 - val_loss: 1321.7972\n",
      "Epoch 2/100\n",
      "3074/3074 - 68s - loss: 0.6849 - val_loss: 1270.3308\n",
      "Epoch 3/100\n",
      "3074/3074 - 61s - loss: 0.6170 - val_loss: 1316.2268\n",
      "Epoch 4/100\n",
      "3074/3074 - 61s - loss: 0.6031 - val_loss: 1261.3028\n",
      "Epoch 5/100\n",
      "3074/3074 - 62s - loss: 0.5909 - val_loss: 1294.0585\n",
      "Epoch 6/100\n",
      "3074/3074 - 62s - loss: 0.5817 - val_loss: 1255.3045\n",
      "Epoch 7/100\n",
      "3074/3074 - 63s - loss: 0.5587 - val_loss: 1228.2772\n",
      "Epoch 8/100\n",
      "3074/3074 - 61s - loss: 0.5232 - val_loss: 1182.4991\n",
      "Epoch 9/100\n",
      "3074/3074 - 59s - loss: 0.5425 - val_loss: 1171.5685\n",
      "Epoch 10/100\n",
      "3074/3074 - 62s - loss: 0.5057 - val_loss: 1215.3769\n",
      "Epoch 11/100\n",
      "3074/3074 - 61s - loss: 0.5182 - val_loss: 1163.6559\n",
      "Epoch 12/100\n",
      "3074/3074 - 60s - loss: 0.4930 - val_loss: 1185.4374\n",
      "Epoch 13/100\n",
      "3074/3074 - 65s - loss: 0.4840 - val_loss: 1120.3370\n",
      "Epoch 14/100\n",
      "3074/3074 - 63s - loss: 0.4460 - val_loss: 1146.3566\n",
      "Epoch 15/100\n",
      "3074/3074 - 59s - loss: 0.4547 - val_loss: 1181.2670\n",
      "Epoch 16/100\n",
      "3074/3074 - 61s - loss: 0.4548 - val_loss: 1129.7340\n",
      "Epoch 17/100\n",
      "3074/3074 - 65s - loss: 0.4694 - val_loss: 1122.9682\n",
      "Epoch 18/100\n",
      "3074/3074 - 60s - loss: 0.4493 - val_loss: 1130.5036\n",
      "Epoch 00018: early stopping\n"
     ]
    },
    {
     "data": {
      "text/plain": [
       "<tensorflow.python.keras.callbacks.History at 0x12deb653eb8>"
      ]
     },
     "execution_count": 221,
     "metadata": {},
     "output_type": "execute_result"
    }
   ],
   "source": [
    "print('Build model...')\n",
    "model = Sequential()\n",
    "\n",
    "# Number of LSTM Layers are 5. Layer 1 : 35 neurons Layer2: 1200 neurons Layer 3: 600 neurons \n",
    "#Layer 4 has 300 neurons  Layer 5 has 1 neuron\n",
    "\n",
    "model.add(LSTM(1200,activation='tanh',dropout=0.0, recurrent_dropout=0.0, input_shape=(7, 5), kernel_initializer='random_uniform'))\n",
    "model.add(Dense(600))\n",
    "model.add(Dense(300))\n",
    "model.add(Dense(1))\n",
    "\n",
    "sgd=optimizers.SGD(lr=0.01 , decay=0.0 , clipvalue=0.5, clipnorm=1.)\n",
    "model.compile(loss='mean_squared_error', optimizer=sgd)\n",
    "\n",
    "monitor = EarlyStopping(monitor='val_loss', min_delta=1e-3, patience=5, verbose=1, mode='auto')\n",
    "checkpointer = ModelCheckpoint(filepath=\"C://Users//Amit//Desktop//CSC215_P2_Stock_Price.csv\", verbose=0, save_best_only=True)\n",
    "print('Train...')\n",
    "\n",
    "model.fit(X_train,Y_train,validation_data=(X_test,Y_test), callbacks=[monitor,checkpointer],verbose=2, epochs=100)"
   ]
  },
  {
   "cell_type": "code",
   "execution_count": null,
   "metadata": {},
   "outputs": [],
   "source": [
    "pred = model.predict(X_test)"
   ]
  },
  {
   "cell_type": "code",
   "execution_count": 222,
   "metadata": {},
   "outputs": [
    {
     "name": "stdout",
     "output_type": "stream",
     "text": [
      "Score (RMSE): 25.53513595017853\n"
     ]
    }
   ],
   "source": [
    "score7 = np.sqrt(metrics.mean_squared_error(pred,Y_test))\n",
    "print(\"Score (RMSE): {}\".format(score7))"
   ]
  },
  {
   "cell_type": "code",
   "execution_count": 223,
   "metadata": {},
   "outputs": [
    {
     "data": {
      "image/png": "[encoded data removed]",
      "text/plain": [
       "<Figure size 432x288 with 1 Axes>"
      ]
     },
     "metadata": {
      "needs_background": "light"
     },
     "output_type": "display_data"
    }
   ],
   "source": [
    "chart_regression(pred.flatten(),Y_test)"
   ]
  },
  {
   "cell_type": "code",
   "execution_count": 224,
   "metadata": {},
   "outputs": [
    {
     "name": "stdout",
     "output_type": "stream",
     "text": [
      "RMSE SCORE COMPARISON:\n",
      "1.Activation-Relu, Opt-Adam:                  3.4747453138266513\n",
      "2.Activation-sigmoid, Opt-adam:               25.53513595017853\n",
      "3.Activation-tanh , Opt-SGD:                  25.53513595017853\n"
     ]
    }
   ],
   "source": [
    "print(\"RMSE SCORE COMPARISON:\")\n",
    "print(\"1.Activation-Relu, Opt-Adam:                  {}\".format(score5))\n",
    "print(\"2.Activation-sigmoid, Opt-adam:               {}\".format(score6))\n",
    "print(\"3.Activation-tanh , Opt-SGD:                  {}\".format(score7))\n"
   ]
  },
  {
   "cell_type": "code",
   "execution_count": 226,
   "metadata": {},
   "outputs": [
    {
     "name": "stdout",
     "output_type": "stream",
     "text": [
      "Best LSTM Model is Activtion- Relu, Opt- Adam with 6 Layers has score:3.4747453138266513\n"
     ]
    }
   ],
   "source": [
    "print(\"Best LSTM Model is Activtion- Relu, Opt- Adam with 6 Layers has score:{}\".format(score5) )"
   ]
  },
  {
   "cell_type": "markdown",
   "metadata": {},
   "source": [
    "# CNN"
   ]
  },
  {
   "cell_type": "code",
   "execution_count": 63,
   "metadata": {},
   "outputs": [],
   "source": [
    "convx_train = X_train.reshape(3074,1,7,5)\n",
    "convx_test = X_test.reshape(1318,1,7,5)"
   ]
  },
  {
   "cell_type": "code",
   "execution_count": 64,
   "metadata": {},
   "outputs": [],
   "source": [
    "convx_train = x_train.astype('float32')\n",
    "convx_test = x_test.astype('float32')"
   ]
  },
  {
   "cell_type": "code",
   "execution_count": 65,
   "metadata": {},
   "outputs": [],
   "source": [
    "convmodel = Sequential()"
   ]
  },
  {
   "cell_type": "code",
   "execution_count": 66,
   "metadata": {},
   "outputs": [],
   "source": [
    "from tensorflow.keras.models import Sequential\n",
    "from tensorflow.keras.layers import Dense, Dropout, Flatten\n",
    "from tensorflow.keras.layers import Conv2D, MaxPooling2D"
   ]
  },
  {
   "cell_type": "code",
   "execution_count": 67,
   "metadata": {},
   "outputs": [],
   "source": [
    "# All CNN models have 2 Kernels with size of 3x3.\n",
    "convmodel.add(Conv2D(512, kernel_size=(3, 3), strides=(1, 1), padding='same',\n",
    "                 activation='relu',\n",
    "                 input_shape=(1,7,5)))"
   ]
  },
  {
   "cell_type": "code",
   "execution_count": 68,
   "metadata": {},
   "outputs": [],
   "source": [
    "convmodel.add(Conv2D(256, (3, 3), activation='relu', padding='same'))"
   ]
  },
  {
   "cell_type": "code",
   "execution_count": 69,
   "metadata": {},
   "outputs": [],
   "source": [
    "convmodel.add(MaxPooling2D(padding = 'same',pool_size=(2, 2), strides=None))"
   ]
  },
  {
   "cell_type": "code",
   "execution_count": 70,
   "metadata": {},
   "outputs": [],
   "source": [
    "convmodel.add(Flatten())"
   ]
  },
  {
   "cell_type": "code",
   "execution_count": 71,
   "metadata": {},
   "outputs": [],
   "source": [
    "convmodel.add(Dense(1000, activation='relu'))"
   ]
  },
  {
   "cell_type": "code",
   "execution_count": 72,
   "metadata": {},
   "outputs": [],
   "source": [
    "convmodel.add(Dense(1))"
   ]
  },
  {
   "cell_type": "code",
   "execution_count": 89,
   "metadata": {},
   "outputs": [],
   "source": [
    "import tensorflow as tf\n",
    "from tensorflow.keras.optimizers import Adam\n",
    "\n",
    "# show not only log loss but also accuracy for each epoch using metrics=['accuracy']\n",
    "\n",
    "convmodel.compile(loss=tf.keras.losses.mean_squared_error, optimizer=Adam(lr=0.01, decay=1e-3))"
   ]
  },
  {
   "cell_type": "code",
   "execution_count": 90,
   "metadata": {},
   "outputs": [
    {
     "name": "stdout",
     "output_type": "stream",
     "text": [
      "Train on 3074 samples, validate on 1318 samples\n",
      "Epoch 1/100\n",
      "3074/3074 - 12s - loss: 271.6816 - val_loss: 2812.7444\n",
      "Epoch 2/100\n",
      "3074/3074 - 10s - loss: 100.3505 - val_loss: 1156.3303\n",
      "Epoch 3/100\n",
      "3074/3074 - 9s - loss: 99.6000 - val_loss: 2010.9075\n",
      "Epoch 4/100\n",
      "3074/3074 - 9s - loss: 141.0956 - val_loss: 1488.5769\n",
      "Epoch 5/100\n",
      "3074/3074 - 10s - loss: 95.4136 - val_loss: 251.7738\n",
      "Epoch 6/100\n",
      "3074/3074 - 9s - loss: 13.4611 - val_loss: 787.2221\n",
      "Epoch 7/100\n",
      "3074/3074 - 10s - loss: 85.9915 - val_loss: 225.7300\n",
      "Epoch 8/100\n",
      "3074/3074 - 10s - loss: 27.4781 - val_loss: 58.8100\n",
      "Epoch 9/100\n",
      "3074/3074 - 9s - loss: 3.4935 - val_loss: 398.0479\n",
      "Epoch 10/100\n",
      "3074/3074 - 9s - loss: 23.3764 - val_loss: 482.5190\n",
      "Epoch 11/100\n",
      "3074/3074 - 10s - loss: 29.7128 - val_loss: 265.0686\n",
      "Epoch 12/100\n",
      "3074/3074 - 11s - loss: 16.9945 - val_loss: 19.8101\n",
      "Epoch 13/100\n",
      "3074/3074 - 10s - loss: 1.8315 - val_loss: 138.6413\n",
      "Epoch 14/100\n",
      "3074/3074 - 10s - loss: 8.1503 - val_loss: 338.5275\n",
      "Epoch 15/100\n",
      "3074/3074 - 9s - loss: 19.1193 - val_loss: 144.3843\n",
      "Epoch 16/100\n",
      "3074/3074 - 11s - loss: 7.2023 - val_loss: 6.3942\n",
      "Epoch 17/100\n",
      "3074/3074 - 10s - loss: 0.8129 - val_loss: 76.2230\n",
      "Epoch 18/100\n",
      "3074/3074 - 10s - loss: 7.3210 - val_loss: 131.3365\n",
      "Epoch 19/100\n",
      "3074/3074 - 9s - loss: 11.6849 - val_loss: 75.4348\n",
      "Epoch 20/100\n",
      "3074/3074 - 9s - loss: 7.6986 - val_loss: 7.1155\n",
      "Epoch 21/100\n",
      "3074/3074 - 9s - loss: 1.4144 - val_loss: 77.6122\n",
      "Epoch 00021: early stopping\n"
     ]
    },
    {
     "data": {
      "text/plain": [
       "<tensorflow.python.keras.callbacks.History at 0x205ae19aac8>"
      ]
     },
     "execution_count": 90,
     "metadata": {},
     "output_type": "execute_result"
    }
   ],
   "source": [
    "import os\n",
    "monitor = EarlyStopping(monitor='val_loss', min_delta=1e-3, patience=5, verbose=1, mode='auto')\n",
    "checkpointer = ModelCheckpoint(filepath=\"C://Users//Amit//Desktop//CSC215_P2_Stock_Price.csv\", verbose=0, save_best_only=True)\n",
    "\n",
    "convx_train = X_train.reshape(3074,1,7,5)\n",
    "convx_test = X_test.reshape(1318,1,7,5)\n",
    "convmodel.fit(convx_train, Y_train,\n",
    "              callbacks=[monitor,checkpointer],\n",
    "          batch_size=3074,\n",
    "          epochs=100,\n",
    "          verbose=2,\n",
    "          validation_data=(convx_test, Y_test))"
   ]
  },
  {
   "cell_type": "code",
   "execution_count": 91,
   "metadata": {},
   "outputs": [],
   "source": [
    "pred = convmodel.predict(convx_test)"
   ]
  },
  {
   "cell_type": "code",
   "execution_count": 92,
   "metadata": {},
   "outputs": [
    {
     "name": "stdout",
     "output_type": "stream",
     "text": [
      "Score (RMSE): 8.809782017243323\n"
     ]
    }
   ],
   "source": [
    "score = np.sqrt(metrics.mean_squared_error(pred,Y_test))\n",
    "print(\"Score (RMSE): {}\".format(score))"
   ]
  },
  {
   "cell_type": "code",
   "execution_count": 93,
   "metadata": {},
   "outputs": [
    {
     "data": {
      "image/png": "[encoded data removed]",
      "text/plain": [
       "<Figure size 432x288 with 1 Axes>"
      ]
     },
     "metadata": {
      "needs_background": "light"
     },
     "output_type": "display_data"
    }
   ],
   "source": [
    "chart_regression(pred.flatten(),Y_test)"
   ]
  },
  {
   "cell_type": "code",
   "execution_count": 94,
   "metadata": {},
   "outputs": [
    {
     "name": "stdout",
     "output_type": "stream",
     "text": [
      "Train on 3074 samples, validate on 1318 samples\n",
      "Epoch 1/100\n",
      "3074/3074 - 12s - loss: 331.7211 - val_loss: 4960.7051\n",
      "Epoch 2/100\n",
      "3074/3074 - 11s - loss: 318.1853 - val_loss: 4768.5034\n",
      "Epoch 3/100\n",
      "3074/3074 - 852s - loss: 305.4631 - val_loss: 4591.3809\n",
      "Epoch 4/100\n",
      "3074/3074 - 14s - loss: 293.6909 - val_loss: 4412.3950\n",
      "Epoch 5/100\n",
      "3074/3074 - 11s - loss: 281.9315 - val_loss: 4236.8369\n",
      "Epoch 6/100\n",
      "3074/3074 - 12s - loss: 270.2711 - val_loss: 4059.1646\n",
      "Epoch 7/100\n",
      "3074/3074 - 13s - loss: 258.4415 - val_loss: 3876.6650\n",
      "Epoch 8/100\n",
      "3074/3074 - 10s - loss: 246.2597 - val_loss: 3687.0630\n",
      "Epoch 9/100\n",
      "3074/3074 - 10s - loss: 233.7069 - val_loss: 3492.7644\n",
      "Epoch 10/100\n",
      "3074/3074 - 11s - loss: 220.8506 - val_loss: 3294.0259\n",
      "Epoch 11/100\n",
      "3074/3074 - 11s - loss: 207.7758 - val_loss: 3091.0620\n",
      "Epoch 12/100\n",
      "3074/3074 - 11s - loss: 194.4325 - val_loss: 2883.4802\n",
      "Epoch 13/100\n",
      "3074/3074 - 10s - loss: 180.7899 - val_loss: 2672.6348\n",
      "Epoch 14/100\n",
      "3074/3074 - 10s - loss: 166.9307 - val_loss: 2458.2021\n",
      "Epoch 15/100\n",
      "3074/3074 - 10s - loss: 152.8397 - val_loss: 2239.8687\n",
      "Epoch 16/100\n",
      "3074/3074 - 11s - loss: 138.5393 - val_loss: 2020.0374\n",
      "Epoch 17/100\n",
      "3074/3074 - 11s - loss: 124.2066 - val_loss: 1800.7845\n",
      "Epoch 18/100\n",
      "3074/3074 - 11s - loss: 109.9446 - val_loss: 1582.7292\n",
      "Epoch 19/100\n",
      "3074/3074 - 10s - loss: 95.8725 - val_loss: 1368.3707\n",
      "Epoch 20/100\n",
      "3074/3074 - 11s - loss: 82.0870 - val_loss: 1159.3813\n",
      "Epoch 21/100\n",
      "3074/3074 - 10s - loss: 68.7514 - val_loss: 958.6331\n",
      "Epoch 22/100\n",
      "3074/3074 - 10s - loss: 56.0240 - val_loss: 768.2284\n",
      "Epoch 23/100\n",
      "3074/3074 - 11s - loss: 44.0852 - val_loss: 591.3569\n",
      "Epoch 24/100\n",
      "3074/3074 - 13s - loss: 33.1101 - val_loss: 430.5677\n",
      "Epoch 25/100\n",
      "3074/3074 - 13s - loss: 23.3187 - val_loss: 289.7041\n",
      "Epoch 26/100\n",
      "3074/3074 - 12s - loss: 14.9380 - val_loss: 172.3885\n",
      "Epoch 27/100\n",
      "3074/3074 - 13s - loss: 8.2409 - val_loss: 82.9262\n",
      "Epoch 28/100\n",
      "3074/3074 - 15s - loss: 3.5051 - val_loss: 25.6883\n",
      "Epoch 29/100\n",
      "3074/3074 - 13s - loss: 1.0396 - val_loss: 5.5924\n",
      "Epoch 30/100\n",
      "3074/3074 - 13s - loss: 1.1030 - val_loss: 26.0322\n",
      "Epoch 31/100\n",
      "3074/3074 - 14s - loss: 1.0498 - val_loss: 5.5791\n",
      "Epoch 32/100\n",
      "3074/3074 - 13s - loss: 1.0398 - val_loss: 26.1271\n",
      "Epoch 33/100\n",
      "3074/3074 - 12s - loss: 1.0543 - val_loss: 5.5562\n",
      "Epoch 34/100\n",
      "3074/3074 - 14s - loss: 0.9930 - val_loss: 26.0492\n",
      "Epoch 35/100\n",
      "3074/3074 - 15s - loss: 1.0545 - val_loss: 5.5435\n",
      "Epoch 36/100\n",
      "3074/3074 - 13s - loss: 0.9526 - val_loss: 26.1260\n",
      "Epoch 37/100\n",
      "3074/3074 - 13s - loss: 1.0585 - val_loss: 5.5255\n",
      "Epoch 38/100\n",
      "3074/3074 - 13s - loss: 0.9177 - val_loss: 26.0686\n",
      "Epoch 39/100\n",
      "3074/3074 - 14s - loss: 1.0611 - val_loss: 5.5170\n",
      "Epoch 40/100\n",
      "3074/3074 - 13s - loss: 0.8881 - val_loss: 26.0331\n",
      "Epoch 41/100\n",
      "3074/3074 - 17s - loss: 1.0628 - val_loss: 5.4970\n",
      "Epoch 42/100\n",
      "3074/3074 - 12s - loss: 0.8622 - val_loss: 25.9859\n",
      "Epoch 43/100\n",
      "3074/3074 - 12s - loss: 1.0651 - val_loss: 5.5013\n",
      "Epoch 44/100\n",
      "3074/3074 - 13s - loss: 0.8377 - val_loss: 26.0186\n",
      "Epoch 45/100\n",
      "3074/3074 - 13s - loss: 1.0715 - val_loss: 5.4807\n",
      "Epoch 46/100\n",
      "3074/3074 - 12s - loss: 0.8166 - val_loss: 26.0096\n",
      "Epoch 47/100\n",
      "3074/3074 - 2206s - loss: 1.0734 - val_loss: 5.4790\n",
      "Epoch 48/100\n",
      "3074/3074 - 34s - loss: 0.7980 - val_loss: 25.9274\n",
      "Epoch 49/100\n",
      "3074/3074 - 14s - loss: 1.0758 - val_loss: 5.4646\n",
      "Epoch 50/100\n",
      "3074/3074 - 12s - loss: 0.7814 - val_loss: 25.8963\n",
      "Epoch 51/100\n",
      "3074/3074 - 13s - loss: 1.0775 - val_loss: 5.4676\n",
      "Epoch 52/100\n",
      "3074/3074 - 12s - loss: 0.7665 - val_loss: 25.7982\n",
      "Epoch 53/100\n",
      "3074/3074 - 16s - loss: 1.0785 - val_loss: 5.4488\n",
      "Epoch 54/100\n",
      "3074/3074 - 13s - loss: 0.7527 - val_loss: 25.7633\n",
      "Epoch 55/100\n",
      "3074/3074 - 14s - loss: 1.0791 - val_loss: 5.4529\n",
      "Epoch 56/100\n",
      "3074/3074 - 16s - loss: 0.7405 - val_loss: 25.6987\n",
      "Epoch 57/100\n",
      "3074/3074 - 14s - loss: 1.0795 - val_loss: 5.4411\n",
      "Epoch 58/100\n",
      "3074/3074 - 12s - loss: 0.7296 - val_loss: 25.5420\n",
      "Epoch 59/100\n",
      "3074/3074 - 14s - loss: 1.0784 - val_loss: 5.4332\n",
      "Epoch 60/100\n",
      "3074/3074 - 21s - loss: 0.7190 - val_loss: 25.5598\n",
      "Epoch 61/100\n",
      "3074/3074 - 17s - loss: 1.0805 - val_loss: 5.4277\n",
      "Epoch 62/100\n",
      "3074/3074 - 14s - loss: 0.7081 - val_loss: 25.4725\n",
      "Epoch 63/100\n",
      "3074/3074 - 15s - loss: 1.0822 - val_loss: 5.4289\n",
      "Epoch 64/100\n",
      "3074/3074 - 14s - loss: 0.6980 - val_loss: 25.4659\n",
      "Epoch 65/100\n",
      "3074/3074 - 15s - loss: 1.0837 - val_loss: 5.4187\n",
      "Epoch 66/100\n",
      "3074/3074 - 12s - loss: 0.6889 - val_loss: 25.3614\n",
      "Epoch 67/100\n",
      "3074/3074 - 14s - loss: 1.0833 - val_loss: 5.4132\n",
      "Epoch 68/100\n",
      "3074/3074 - 12s - loss: 0.6811 - val_loss: 25.2436\n",
      "Epoch 69/100\n",
      "3074/3074 - 13s - loss: 1.0819 - val_loss: 5.4051\n",
      "Epoch 70/100\n",
      "3074/3074 - 12s - loss: 0.6737 - val_loss: 25.1694\n",
      "Epoch 71/100\n",
      "3074/3074 - 14s - loss: 1.0803 - val_loss: 5.4053\n",
      "Epoch 72/100\n",
      "3074/3074 - 12s - loss: 0.6664 - val_loss: 25.0489\n",
      "Epoch 73/100\n",
      "3074/3074 - 14s - loss: 1.0806 - val_loss: 5.3945\n",
      "Epoch 74/100\n",
      "3074/3074 - 13s - loss: 0.6585 - val_loss: 25.0125\n",
      "Epoch 75/100\n",
      "3074/3074 - 13s - loss: 1.0806 - val_loss: 5.3972\n",
      "Epoch 76/100\n",
      "3074/3074 - 13s - loss: 0.6522 - val_loss: 24.9211\n",
      "Epoch 77/100\n",
      "3074/3074 - 16s - loss: 1.0793 - val_loss: 5.3861\n",
      "Epoch 78/100\n",
      "3074/3074 - 14s - loss: 0.6456 - val_loss: 24.8538\n",
      "Epoch 79/100\n",
      "3074/3074 - 12s - loss: 1.0783 - val_loss: 5.3882\n",
      "Epoch 80/100\n",
      "3074/3074 - 12s - loss: 0.6395 - val_loss: 24.7039\n",
      "Epoch 81/100\n",
      "3074/3074 - 13s - loss: 1.0777 - val_loss: 5.3742\n",
      "Epoch 82/100\n",
      "3074/3074 - 12s - loss: 0.6334 - val_loss: 24.6251\n",
      "Epoch 83/100\n",
      "3074/3074 - 13s - loss: 1.0756 - val_loss: 5.3757\n",
      "Epoch 84/100\n",
      "3074/3074 - 13s - loss: 0.6280 - val_loss: 24.5146\n",
      "Epoch 85/100\n",
      "3074/3074 - 16s - loss: 1.0743 - val_loss: 5.3623\n",
      "Epoch 86/100\n",
      "3074/3074 - 14s - loss: 0.6227 - val_loss: 24.4548\n",
      "Epoch 87/100\n",
      "3074/3074 - 12s - loss: 1.0726 - val_loss: 5.3658\n",
      "Epoch 88/100\n",
      "3074/3074 - 12s - loss: 0.6173 - val_loss: 24.3383\n",
      "Epoch 89/100\n",
      "3074/3074 - 12s - loss: 1.0728 - val_loss: 5.3498\n",
      "Epoch 90/100\n",
      "3074/3074 - 13s - loss: 0.6123 - val_loss: 24.2905\n",
      "Epoch 91/100\n",
      "3074/3074 - 12s - loss: 1.0711 - val_loss: 5.3535\n",
      "Epoch 92/100\n",
      "3074/3074 - 13s - loss: 0.6077 - val_loss: 24.1555\n",
      "Epoch 93/100\n",
      "3074/3074 - 12s - loss: 1.0699 - val_loss: 5.3411\n",
      "Epoch 94/100\n",
      "3074/3074 - 12s - loss: 0.6032 - val_loss: 24.1213\n",
      "Epoch 95/100\n",
      "3074/3074 - 12s - loss: 1.0682 - val_loss: 5.3432\n",
      "Epoch 96/100\n",
      "3074/3074 - 12s - loss: 0.5991 - val_loss: 23.9850\n",
      "Epoch 97/100\n",
      "3074/3074 - 12s - loss: 1.0663 - val_loss: 5.3278\n",
      "Epoch 98/100\n",
      "3074/3074 - 12s - loss: 0.5945 - val_loss: 23.9993\n",
      "Epoch 99/100\n",
      "3074/3074 - 12s - loss: 1.0667 - val_loss: 5.3390\n",
      "Epoch 100/100\n",
      "3074/3074 - 13s - loss: 0.5893 - val_loss: 23.8790\n"
     ]
    },
    {
     "data": {
      "text/plain": [
       "<tensorflow.python.keras.callbacks.History at 0x205ae4923c8>"
      ]
     },
     "execution_count": 94,
     "metadata": {},
     "output_type": "execute_result"
    }
   ],
   "source": [
    "convmodel = Sequential()\n",
    "convmodel.add(Conv2D(800, kernel_size=(3, 3), strides=(1, 1), padding='same',\n",
    "                 activation='relu',\n",
    "                 input_shape=(1,7,5)))\n",
    "convmodel.add(Conv2D(400, (3, 3), activation='relu', padding='same'))\n",
    "convmodel.add(MaxPooling2D(padding = 'same',pool_size=(2, 2), strides=None))\n",
    "convmodel.add(Flatten())\n",
    "convmodel.add(Dense(500, activation='relu'))\n",
    "convmodel.add(Dense(1))\n",
    "\n",
    "\n",
    "import tensorflow as tf\n",
    "from tensorflow.keras.optimizers import SGD\n",
    "\n",
    "# show not only log loss but also accuracy for each epoch using metrics=['accuracy']\n",
    "\n",
    "convmodel.compile(loss=tf.keras.losses.mean_squared_error, optimizer=SGD(lr=0.01, decay=1e-3, clipvalue=0.5, clipnorm=1.))\n",
    "\n",
    "\n",
    "import os\n",
    "monitor = EarlyStopping(monitor='val_loss', min_delta=1e-3, patience=5, verbose=1, mode='auto')\n",
    "checkpointer = ModelCheckpoint(filepath=\"C://Users//Amit//Desktop//CSC215_P2_Stock_Price.csv\", verbose=0, save_best_only=True)\n",
    "\n",
    "convx_train = X_train.reshape(3074,1,7,5)\n",
    "convx_test = X_test.reshape(1318,1,7,5)\n",
    "convmodel.fit(convx_train, Y_train,\n",
    "              callbacks=[monitor,checkpointer],\n",
    "          batch_size=3074,\n",
    "          epochs=100,\n",
    "          verbose=2,\n",
    "          validation_data=(convx_test, Y_test))\n"
   ]
  },
  {
   "cell_type": "code",
   "execution_count": 95,
   "metadata": {},
   "outputs": [],
   "source": [
    "pred = convmodel.predict(convx_test)"
   ]
  },
  {
   "cell_type": "code",
   "execution_count": 96,
   "metadata": {},
   "outputs": [
    {
     "name": "stdout",
     "output_type": "stream",
     "text": [
      "Score (RMSE): 4.886615217844237\n"
     ]
    }
   ],
   "source": [
    "cscore = np.sqrt(metrics.mean_squared_error(pred,Y_test))\n",
    "print(\"Score (RMSE): {}\".format(cscore))"
   ]
  },
  {
   "cell_type": "code",
   "execution_count": 97,
   "metadata": {},
   "outputs": [
    {
     "data": {
      "image/png": "[encoded data removed]",
      "text/plain": [
       "<Figure size 432x288 with 1 Axes>"
      ]
     },
     "metadata": {
      "needs_background": "light"
     },
     "output_type": "display_data"
    }
   ],
   "source": [
    "chart_regression(pred.flatten(),Y_test)"
   ]
  },
  {
   "cell_type": "code",
   "execution_count": 98,
   "metadata": {},
   "outputs": [
    {
     "name": "stdout",
     "output_type": "stream",
     "text": [
      "Train on 3074 samples, validate on 1318 samples\n",
      "Epoch 1/100\n",
      "3074/3074 - 18s - loss: 345.1819 - val_loss: 5259.9194\n",
      "Epoch 2/100\n",
      "3074/3074 - 13s - loss: 333.3496 - val_loss: 5196.5513\n",
      "Epoch 3/100\n",
      "3074/3074 - 13s - loss: 321.8751 - val_loss: 5135.3379\n",
      "Epoch 4/100\n",
      "3074/3074 - 13s - loss: 310.8308 - val_loss: 5076.5596\n",
      "Epoch 5/100\n",
      "3074/3074 - 12s - loss: 300.2607 - val_loss: 5018.2622\n",
      "Epoch 6/100\n",
      "3074/3074 - 14s - loss: 290.0738 - val_loss: 4960.1045\n",
      "Epoch 7/100\n",
      "3074/3074 - 12s - loss: 280.1814 - val_loss: 4902.3667\n",
      "Epoch 8/100\n",
      "3074/3074 - 12s - loss: 270.5261 - val_loss: 4845.2188\n",
      "Epoch 9/100\n",
      "3074/3074 - 12s - loss: 261.0930 - val_loss: 4788.8203\n",
      "Epoch 10/100\n",
      "3074/3074 - 12s - loss: 251.8933 - val_loss: 4733.3530\n",
      "Epoch 11/100\n",
      "3074/3074 - 12s - loss: 242.9421 - val_loss: 4678.4985\n",
      "Epoch 12/100\n",
      "3074/3074 - 13s - loss: 234.2353 - val_loss: 4623.5020\n",
      "Epoch 13/100\n",
      "3074/3074 - 14s - loss: 225.7519 - val_loss: 4569.0083\n",
      "Epoch 14/100\n",
      "3074/3074 - 14s - loss: 217.4799 - val_loss: 4514.7954\n",
      "Epoch 15/100\n",
      "3074/3074 - 12s - loss: 209.4341 - val_loss: 4460.6816\n",
      "Epoch 16/100\n",
      "3074/3074 - 12s - loss: 201.6122 - val_loss: 4406.4785\n",
      "Epoch 17/100\n",
      "3074/3074 - 12s - loss: 194.0015 - val_loss: 4352.3774\n",
      "Epoch 18/100\n",
      "3074/3074 - 15s - loss: 186.5900 - val_loss: 4298.3613\n",
      "Epoch 19/100\n",
      "3074/3074 - 13s - loss: 179.3932 - val_loss: 4244.5244\n",
      "Epoch 20/100\n",
      "3074/3074 - 17s - loss: 172.4116 - val_loss: 4190.4546\n",
      "Epoch 21/100\n",
      "3074/3074 - 14s - loss: 165.6648 - val_loss: 4136.4272\n",
      "Epoch 22/100\n",
      "3074/3074 - 14s - loss: 159.1475 - val_loss: 4082.1111\n",
      "Epoch 23/100\n",
      "3074/3074 - 14s - loss: 152.8485 - val_loss: 4027.7820\n",
      "Epoch 24/100\n",
      "3074/3074 - 13s - loss: 146.7741 - val_loss: 3973.1807\n",
      "Epoch 25/100\n",
      "3074/3074 - 12s - loss: 140.9459 - val_loss: 3918.4043\n",
      "Epoch 26/100\n",
      "3074/3074 - 13s - loss: 135.3620 - val_loss: 3863.2598\n",
      "Epoch 27/100\n",
      "3074/3074 - 14s - loss: 130.0318 - val_loss: 3808.0413\n",
      "Epoch 28/100\n",
      "3074/3074 - 12s - loss: 124.9659 - val_loss: 3752.9253\n",
      "Epoch 29/100\n",
      "3074/3074 - 13s - loss: 120.1867 - val_loss: 3697.4995\n",
      "Epoch 30/100\n",
      "3074/3074 - 14s - loss: 115.7067 - val_loss: 3642.0444\n",
      "Epoch 31/100\n",
      "3074/3074 - 13s - loss: 111.5271 - val_loss: 3586.3635\n",
      "Epoch 32/100\n",
      "3074/3074 - 13s - loss: 107.6618 - val_loss: 3530.3508\n",
      "Epoch 33/100\n",
      "3074/3074 - 15s - loss: 104.1173 - val_loss: 3474.5940\n",
      "Epoch 34/100\n",
      "3074/3074 - 13s - loss: 100.8968 - val_loss: 3418.9919\n",
      "Epoch 35/100\n",
      "3074/3074 - 14s - loss: 97.9925 - val_loss: 3363.6313\n",
      "Epoch 36/100\n",
      "3074/3074 - 15s - loss: 95.4349 - val_loss: 3309.0574\n",
      "Epoch 37/100\n",
      "3074/3074 - 12s - loss: 93.1808 - val_loss: 3256.6934\n",
      "Epoch 38/100\n",
      "3074/3074 - 13s - loss: 91.2501 - val_loss: 3205.4568\n",
      "Epoch 39/100\n",
      "3074/3074 - 15s - loss: 89.5595 - val_loss: 3158.6147\n",
      "Epoch 40/100\n",
      "3074/3074 - 13s - loss: 88.1375 - val_loss: 3116.6868\n",
      "Epoch 41/100\n",
      "3074/3074 - 12s - loss: 86.9205 - val_loss: 3079.8455\n",
      "Epoch 42/100\n",
      "3074/3074 - 13s - loss: 85.8114 - val_loss: 3051.9998\n",
      "Epoch 43/100\n",
      "3074/3074 - 14s - loss: 84.7736 - val_loss: 3027.8250\n",
      "Epoch 44/100\n",
      "3074/3074 - 14s - loss: 83.7061 - val_loss: 3009.1646\n",
      "Epoch 45/100\n",
      "3074/3074 - 18s - loss: 82.6616 - val_loss: 2992.2703\n",
      "Epoch 46/100\n",
      "3074/3074 - 17s - loss: 81.6058 - val_loss: 2976.7913\n",
      "Epoch 47/100\n",
      "3074/3074 - 12s - loss: 80.5563 - val_loss: 2961.1924\n",
      "Epoch 48/100\n",
      "3074/3074 - 14s - loss: 79.5063 - val_loss: 2946.2925\n",
      "Epoch 49/100\n",
      "3074/3074 - 13s - loss: 78.4555 - val_loss: 2930.9963\n",
      "Epoch 50/100\n",
      "3074/3074 - 16s - loss: 77.4022 - val_loss: 2915.8733\n",
      "Epoch 51/100\n",
      "3074/3074 - 15s - loss: 76.3430 - val_loss: 2900.4805\n",
      "Epoch 52/100\n",
      "3074/3074 - 13s - loss: 75.2812 - val_loss: 2885.0195\n",
      "Epoch 53/100\n",
      "3074/3074 - 13s - loss: 74.2202 - val_loss: 2869.5991\n",
      "Epoch 54/100\n",
      "3074/3074 - 13s - loss: 73.1585 - val_loss: 2854.1333\n",
      "Epoch 55/100\n",
      "3074/3074 - 13s - loss: 72.0923 - val_loss: 2838.3462\n",
      "Epoch 56/100\n",
      "3074/3074 - 13s - loss: 71.0290 - val_loss: 2822.5310\n",
      "Epoch 57/100\n",
      "3074/3074 - 13s - loss: 69.9587 - val_loss: 2806.7788\n",
      "Epoch 58/100\n",
      "3074/3074 - 14s - loss: 68.8845 - val_loss: 2790.5964\n",
      "Epoch 59/100\n",
      "3074/3074 - 13s - loss: 67.8063 - val_loss: 2774.7817\n",
      "Epoch 60/100\n",
      "3074/3074 - 12s - loss: 66.7220 - val_loss: 2758.4919\n",
      "Epoch 61/100\n",
      "3074/3074 - 14s - loss: 65.6315 - val_loss: 2742.3281\n",
      "Epoch 62/100\n",
      "3074/3074 - 13s - loss: 64.5315 - val_loss: 2725.9324\n",
      "Epoch 63/100\n",
      "3074/3074 - 13s - loss: 63.4196 - val_loss: 2709.5449\n",
      "Epoch 64/100\n",
      "3074/3074 - 13s - loss: 62.2931 - val_loss: 2692.7769\n",
      "Epoch 65/100\n",
      "3074/3074 - 14s - loss: 61.1606 - val_loss: 2676.0110\n",
      "Epoch 66/100\n",
      "3074/3074 - 13s - loss: 60.0329 - val_loss: 2658.8496\n",
      "Epoch 67/100\n",
      "3074/3074 - 13s - loss: 58.8962 - val_loss: 2641.8701\n",
      "Epoch 68/100\n",
      "3074/3074 - 12s - loss: 57.7804 - val_loss: 2624.7849\n",
      "Epoch 69/100\n",
      "3074/3074 - 13s - loss: 56.6537 - val_loss: 2607.7537\n",
      "Epoch 70/100\n",
      "3074/3074 - 14s - loss: 55.5153 - val_loss: 2590.5156\n",
      "Epoch 71/100\n",
      "3074/3074 - 13s - loss: 54.3956 - val_loss: 2573.3916\n",
      "Epoch 72/100\n",
      "3074/3074 - 13s - loss: 53.2735 - val_loss: 2556.1528\n",
      "Epoch 73/100\n",
      "3074/3074 - 13s - loss: 52.1478 - val_loss: 2538.9468\n",
      "Epoch 74/100\n",
      "3074/3074 - 14s - loss: 51.0202 - val_loss: 2521.6345\n",
      "Epoch 75/100\n",
      "3074/3074 - 13s - loss: 49.8902 - val_loss: 2504.2483\n",
      "Epoch 76/100\n",
      "3074/3074 - 13s - loss: 48.7607 - val_loss: 2486.3582\n",
      "Epoch 77/100\n",
      "3074/3074 - 12s - loss: 47.6275 - val_loss: 2468.7808\n",
      "Epoch 78/100\n",
      "3074/3074 - 12s - loss: 46.4940 - val_loss: 2450.6890\n",
      "Epoch 79/100\n",
      "3074/3074 - 12s - loss: 45.3588 - val_loss: 2432.6108\n",
      "Epoch 80/100\n",
      "3074/3074 - 13s - loss: 44.2226 - val_loss: 2414.3416\n",
      "Epoch 81/100\n",
      "3074/3074 - 12s - loss: 43.0882 - val_loss: 2396.3118\n",
      "Epoch 82/100\n",
      "3074/3074 - 12s - loss: 41.9561 - val_loss: 2377.6450\n",
      "Epoch 83/100\n",
      "3074/3074 - 12s - loss: 40.8244 - val_loss: 2359.2473\n",
      "Epoch 84/100\n",
      "3074/3074 - 13s - loss: 39.6950 - val_loss: 2340.5774\n",
      "Epoch 85/100\n",
      "3074/3074 - 12s - loss: 38.5670 - val_loss: 2321.8035\n",
      "Epoch 86/100\n",
      "3074/3074 - 13s - loss: 37.4414 - val_loss: 2302.6533\n",
      "Epoch 87/100\n",
      "3074/3074 - 14s - loss: 36.3214 - val_loss: 2283.4482\n",
      "Epoch 88/100\n",
      "3074/3074 - 14s - loss: 35.2052 - val_loss: 2264.0669\n",
      "Epoch 89/100\n",
      "3074/3074 - 13s - loss: 34.0928 - val_loss: 2244.3796\n",
      "Epoch 90/100\n",
      "3074/3074 - 13s - loss: 32.9844 - val_loss: 2224.7051\n",
      "Epoch 91/100\n",
      "3074/3074 - 14s - loss: 31.8814 - val_loss: 2204.7437\n",
      "Epoch 92/100\n",
      "3074/3074 - 14s - loss: 30.7865 - val_loss: 2184.7585\n",
      "Epoch 93/100\n",
      "3074/3074 - 11s - loss: 29.6983 - val_loss: 2164.5354\n",
      "Epoch 94/100\n",
      "3074/3074 - 12s - loss: 28.6153 - val_loss: 2144.1084\n",
      "Epoch 95/100\n",
      "3074/3074 - 11s - loss: 27.5398 - val_loss: 2123.4814\n",
      "Epoch 96/100\n",
      "3074/3074 - 13s - loss: 26.4748 - val_loss: 2102.6440\n",
      "Epoch 97/100\n",
      "3074/3074 - 13s - loss: 25.4216 - val_loss: 2081.6338\n",
      "Epoch 98/100\n",
      "3074/3074 - 12s - loss: 24.3826 - val_loss: 2060.3132\n",
      "Epoch 99/100\n",
      "3074/3074 - 12s - loss: 23.3623 - val_loss: 2038.9000\n",
      "Epoch 100/100\n",
      "3074/3074 - 11s - loss: 22.3565 - val_loss: 2017.4065\n"
     ]
    },
    {
     "data": {
      "text/plain": [
       "<tensorflow.python.keras.callbacks.History at 0x205d308edd8>"
      ]
     },
     "execution_count": 98,
     "metadata": {},
     "output_type": "execute_result"
    }
   ],
   "source": [
    "convmodel = Sequential()\n",
    "convmodel.add(Conv2D(800, kernel_size=(3, 3), strides=(1, 1), padding='same',\n",
    "                 activation='tanh',\n",
    "                 input_shape=(1,7,5)))\n",
    "convmodel.add(Conv2D(400, (3, 3), activation='sigmoid', padding='same'))\n",
    "convmodel.add(MaxPooling2D(padding = 'same',pool_size=(2, 2), strides=None))\n",
    "convmodel.add(Flatten())\n",
    "convmodel.add(Dense(500, activation='relu'))\n",
    "convmodel.add(Dense(1))\n",
    "\n",
    "\n",
    "import tensorflow as tf\n",
    "from tensorflow.keras.optimizers import SGD\n",
    "\n",
    "# show not only log loss but also accuracy for each epoch using metrics=['accuracy']\n",
    "\n",
    "convmodel.compile(loss=tf.keras.losses.mean_squared_error, optimizer=SGD(lr=0.01, decay=1e-3, clipvalue=0.5, clipnorm=1.))\n",
    "\n",
    "\n",
    "import os\n",
    "monitor = EarlyStopping(monitor='val_loss', min_delta=1e-3, patience=5, verbose=1, mode='auto')\n",
    "checkpointer = ModelCheckpoint(filepath=\"C://Users//Amit//Desktop//CSC215_P2_Stock_Price.csv\", verbose=0, save_best_only=True)\n",
    "\n",
    "convx_train = X_train.reshape(3074,1,7,5)\n",
    "convx_test = X_test.reshape(1318,1,7,5)\n",
    "convmodel.fit(convx_train, Y_train,\n",
    "              callbacks=[monitor,checkpointer],\n",
    "          batch_size=3074,\n",
    "          epochs=100,\n",
    "          verbose=2,\n",
    "          validation_data=(convx_test, Y_test))\n"
   ]
  },
  {
   "cell_type": "code",
   "execution_count": 99,
   "metadata": {},
   "outputs": [],
   "source": [
    "pred = convmodel.predict(convx_test)"
   ]
  },
  {
   "cell_type": "code",
   "execution_count": 100,
   "metadata": {},
   "outputs": [
    {
     "name": "stdout",
     "output_type": "stream",
     "text": [
      "Score (RMSE): 44.9155521449522\n"
     ]
    }
   ],
   "source": [
    "cscore1 = np.sqrt(metrics.mean_squared_error(pred,Y_test))\n",
    "print(\"Score (RMSE): {}\".format(cscore1))"
   ]
  },
  {
   "cell_type": "code",
   "execution_count": 101,
   "metadata": {},
   "outputs": [
    {
     "data": {
      "image/png": "[encoded data removed]",
      "text/plain": [
       "<Figure size 432x288 with 1 Axes>"
      ]
     },
     "metadata": {
      "needs_background": "light"
     },
     "output_type": "display_data"
    }
   ],
   "source": [
    "chart_regression(pred.flatten(),Y_test)"
   ]
  },
  {
   "cell_type": "code",
   "execution_count": 102,
   "metadata": {},
   "outputs": [
    {
     "name": "stdout",
     "output_type": "stream",
     "text": [
      "RMSE SCORE COMPARISON:\n",
      "1.Activation-Relu, Relu, Relu Opt-Adam:                 8.809782017243323\n",
      "2.Activation-Relu,Relu,Relu Opt-SGD:                    4.886615217844237\n",
      "3.Activation-tanh,Sigmoid, Relu  Opt-SGD:               44.9155521449522\n"
     ]
    }
   ],
   "source": [
    "print(\"RMSE SCORE COMPARISON:\")\n",
    "print(\"1.Activation-Relu, Relu, Relu Opt-Adam:                 {}\".format(score))\n",
    "print(\"2.Activation-Relu,Relu,Relu Opt-SGD:                    {}\".format(cscore))\n",
    "print(\"3.Activation-tanh,Sigmoid, Relu  Opt-SGD:               {}\".format(cscore1))"
   ]
  },
  {
   "cell_type": "code",
   "execution_count": 103,
   "metadata": {},
   "outputs": [
    {
     "name": "stdout",
     "output_type": "stream",
     "text": [
      "Best model has Activation-Relu,Relu,Relu Opt-SGD with score of              4.886615217844237\n"
     ]
    }
   ],
   "source": [
    "print(\"Best model has Activation-Relu,Relu,Relu Opt-SGD with score of              {}\".format(cscore))"
   ]
  },
  {
   "cell_type": "markdown",
   "metadata": {},
   "source": [
    "# Beyond Project"
   ]
  },
  {
   "cell_type": "markdown",
   "metadata": {},
   "source": [
    "# Reducing number of days to 4 gave better results on LSTM"
   ]
  },
  {
   "cell_type": "code",
   "execution_count": 104,
   "metadata": {},
   "outputs": [],
   "source": [
    "NX_train =[]\n",
    "NY_train = []\n",
    "\n",
    "\n",
    "for i in range(4, len(x_train)):\n",
    "    NX_train.append(x_train[i-4:i ,:])\n",
    "    NY_train.append(xtrain[i,4])"
   ]
  },
  {
   "cell_type": "code",
   "execution_count": 105,
   "metadata": {},
   "outputs": [],
   "source": [
    "for i in range(4, 8):\n",
    "    NX_train.append(x_train[i-4:i ,:])\n",
    "    NY_train.append(xtrain[i,4])"
   ]
  },
  {
   "cell_type": "code",
   "execution_count": 106,
   "metadata": {},
   "outputs": [],
   "source": [
    "NX_train=np.array(NX_train)"
   ]
  },
  {
   "cell_type": "code",
   "execution_count": 107,
   "metadata": {},
   "outputs": [
    {
     "data": {
      "text/plain": [
       "(3074, 4, 5)"
      ]
     },
     "execution_count": 107,
     "metadata": {},
     "output_type": "execute_result"
    }
   ],
   "source": [
    "NX_train.shape"
   ]
  },
  {
   "cell_type": "code",
   "execution_count": 108,
   "metadata": {},
   "outputs": [],
   "source": [
    "NX_test =[]\n",
    "NY_test = []\n",
    "\n",
    "\n",
    "for i in range(4, len(x_test)):\n",
    "    NX_test.append(x_test[i-4:i ,:])\n",
    "    NY_test.append(xtest[i,4])"
   ]
  },
  {
   "cell_type": "code",
   "execution_count": 109,
   "metadata": {},
   "outputs": [],
   "source": [
    "for i in range(4, 8):\n",
    "    NX_test.append(x_test[i-4:i ,:])\n",
    "    NY_test.append(xtest[i,4])"
   ]
  },
  {
   "cell_type": "code",
   "execution_count": 110,
   "metadata": {},
   "outputs": [],
   "source": [
    "NY_train=np.array(NY_train)\n",
    "NX_test=np.array(NX_test)\n",
    "NY_test=np.array(NY_test)"
   ]
  },
  {
   "cell_type": "code",
   "execution_count": 111,
   "metadata": {},
   "outputs": [
    {
     "data": {
      "text/plain": [
       "(3074,)"
      ]
     },
     "execution_count": 111,
     "metadata": {},
     "output_type": "execute_result"
    }
   ],
   "source": [
    "NY_train.shape"
   ]
  },
  {
   "cell_type": "code",
   "execution_count": 112,
   "metadata": {},
   "outputs": [
    {
     "data": {
      "text/plain": [
       "(1318, 4, 5)"
      ]
     },
     "execution_count": 112,
     "metadata": {},
     "output_type": "execute_result"
    }
   ],
   "source": [
    "NX_test.shape\n"
   ]
  },
  {
   "cell_type": "code",
   "execution_count": 113,
   "metadata": {},
   "outputs": [
    {
     "data": {
      "text/plain": [
       "(1318,)"
      ]
     },
     "execution_count": 113,
     "metadata": {},
     "output_type": "execute_result"
    }
   ],
   "source": [
    "NY_test.shape"
   ]
  },
  {
   "cell_type": "code",
   "execution_count": 114,
   "metadata": {},
   "outputs": [],
   "source": [
    "Narray = NX_train.reshape(3074,20)\n",
    "Narraytest = NX_test.reshape(1318, 20)"
   ]
  },
  {
   "cell_type": "code",
   "execution_count": 21,
   "metadata": {},
   "outputs": [],
   "source": [
    "from sklearn import metrics\n",
    "from sklearn.preprocessing import OneHotEncoder\n",
    "from sklearn.preprocessing import StandardScaler\n",
    "\n",
    "from tensorflow.keras.models import Sequential\n",
    "from tensorflow.keras.layers import Dense, Activation\n",
    "from tensorflow.keras.callbacks import EarlyStopping\n",
    "from tensorflow.keras.callbacks import ModelCheckpoint"
   ]
  },
  {
   "cell_type": "code",
   "execution_count": 24,
   "metadata": {},
   "outputs": [],
   "source": [
    "model = Sequential()\n",
    "#All 4 neural network models have 4 layers and 21 neurons\n",
    "#activations using Relu, and sigmoid and optimizer is Adam\n",
    "\n",
    "model.add(Dense(700, input_dim = 20,activation='relu')) #hidden 1\n",
    "model.add(Dense(350, activation='relu'))\n",
    "#model.add(Dense(125, activation='sigmoid'))\n",
    "#model.add(Dense(10, activation='relu')) \n",
    "#model.add(Dense(10, activation='relu')) \n",
    "model.add(Dense(1)) \n",
    "model.compile(loss='mean_squared_error', optimizer='adam', metrics = ['accuracy'])\n",
    "monitor = EarlyStopping(monitor='val_loss', min_delta=1e-3, patience=5, verbose=1, mode='auto')\n",
    "checkpointer = ModelCheckpoint(filepath=\"C://Users//Amit//Desktop//CSC215_P2_Stock_Price.csv\", verbose=0, save_best_only=True)"
   ]
  },
  {
   "cell_type": "code",
   "execution_count": 25,
   "metadata": {},
   "outputs": [
    {
     "name": "stdout",
     "output_type": "stream",
     "text": [
      "Train on 3074 samples, validate on 1318 samples\n",
      "Epoch 1/500\n",
      "3074/3074 - 1s - loss: 9.5129 - acc: 0.0000e+00 - val_loss: 3.1862 - val_acc: 0.0000e+00\n",
      "Epoch 2/500\n",
      "3074/3074 - 0s - loss: 0.2328 - acc: 0.0000e+00 - val_loss: 2.8790 - val_acc: 0.0000e+00\n",
      "Epoch 3/500\n",
      "3074/3074 - 0s - loss: 0.2176 - acc: 0.0000e+00 - val_loss: 3.9600 - val_acc: 0.0000e+00\n",
      "Epoch 4/500\n",
      "3074/3074 - 0s - loss: 0.2038 - acc: 0.0000e+00 - val_loss: 12.0067 - val_acc: 0.0000e+00\n",
      "Epoch 5/500\n",
      "3074/3074 - 0s - loss: 0.2245 - acc: 0.0000e+00 - val_loss: 2.3066 - val_acc: 0.0000e+00\n",
      "Epoch 6/500\n",
      "3074/3074 - 0s - loss: 0.1918 - acc: 0.0000e+00 - val_loss: 3.8533 - val_acc: 0.0000e+00\n",
      "Epoch 7/500\n",
      "3074/3074 - 1s - loss: 0.1941 - acc: 0.0000e+00 - val_loss: 2.3401 - val_acc: 0.0000e+00\n",
      "Epoch 8/500\n",
      "3074/3074 - 0s - loss: 0.2244 - acc: 0.0000e+00 - val_loss: 4.7712 - val_acc: 0.0000e+00\n",
      "Epoch 9/500\n",
      "3074/3074 - 0s - loss: 0.2116 - acc: 0.0000e+00 - val_loss: 2.2400 - val_acc: 0.0000e+00\n",
      "Epoch 10/500\n",
      "3074/3074 - 0s - loss: 0.2199 - acc: 0.0000e+00 - val_loss: 14.3749 - val_acc: 0.0000e+00\n",
      "Epoch 11/500\n",
      "3074/3074 - 0s - loss: 0.3421 - acc: 0.0000e+00 - val_loss: 4.2095 - val_acc: 0.0000e+00\n",
      "Epoch 12/500\n",
      "3074/3074 - 0s - loss: 0.2005 - acc: 0.0000e+00 - val_loss: 4.4464 - val_acc: 0.0000e+00\n",
      "Epoch 13/500\n",
      "3074/3074 - 1s - loss: 0.3718 - acc: 0.0000e+00 - val_loss: 5.2358 - val_acc: 0.0000e+00\n",
      "Epoch 14/500\n",
      "3074/3074 - 0s - loss: 0.2664 - acc: 0.0000e+00 - val_loss: 2.8142 - val_acc: 0.0000e+00\n",
      "Epoch 15/500\n",
      "3074/3074 - 0s - loss: 0.1928 - acc: 0.0000e+00 - val_loss: 6.7120 - val_acc: 0.0000e+00\n",
      "Epoch 16/500\n",
      "3074/3074 - 0s - loss: 0.2016 - acc: 0.0000e+00 - val_loss: 5.6282 - val_acc: 0.0000e+00\n",
      "Epoch 17/500\n",
      "3074/3074 - 0s - loss: 0.1562 - acc: 0.0000e+00 - val_loss: 4.3032 - val_acc: 0.0000e+00\n",
      "Epoch 18/500\n",
      "3074/3074 - 1s - loss: 0.1958 - acc: 0.0000e+00 - val_loss: 2.6338 - val_acc: 0.0000e+00\n",
      "Epoch 19/500\n",
      "3074/3074 - 1s - loss: 0.1808 - acc: 0.0000e+00 - val_loss: 2.3904 - val_acc: 0.0000e+00\n",
      "Epoch 20/500\n",
      "3074/3074 - 0s - loss: 0.1678 - acc: 0.0000e+00 - val_loss: 2.1082 - val_acc: 0.0000e+00\n",
      "Epoch 21/500\n",
      "3074/3074 - 0s - loss: 0.2185 - acc: 0.0000e+00 - val_loss: 2.3223 - val_acc: 0.0000e+00\n",
      "Epoch 22/500\n",
      "3074/3074 - 0s - loss: 0.2251 - acc: 0.0000e+00 - val_loss: 13.2978 - val_acc: 0.0000e+00\n",
      "Epoch 23/500\n",
      "3074/3074 - 0s - loss: 0.3251 - acc: 0.0000e+00 - val_loss: 9.2277 - val_acc: 0.0000e+00\n",
      "Epoch 24/500\n",
      "3074/3074 - 0s - loss: 0.2978 - acc: 0.0000e+00 - val_loss: 4.8010 - val_acc: 0.0000e+00\n",
      "Epoch 25/500\n",
      "3074/3074 - 0s - loss: 0.2227 - acc: 0.0000e+00 - val_loss: 5.0294 - val_acc: 0.0000e+00\n",
      "Epoch 26/500\n",
      "3074/3074 - 0s - loss: 0.2112 - acc: 0.0000e+00 - val_loss: 5.8142 - val_acc: 0.0000e+00\n",
      "Epoch 27/500\n",
      "3074/3074 - 0s - loss: 0.2531 - acc: 0.0000e+00 - val_loss: 54.2118 - val_acc: 0.0000e+00\n",
      "Epoch 28/500\n",
      "3074/3074 - 1s - loss: 0.5233 - acc: 0.0000e+00 - val_loss: 13.3780 - val_acc: 0.0000e+00\n",
      "Epoch 29/500\n",
      "3074/3074 - 0s - loss: 0.3347 - acc: 0.0000e+00 - val_loss: 6.6262 - val_acc: 0.0000e+00\n",
      "Epoch 30/500\n",
      "3074/3074 - 0s - loss: 0.2369 - acc: 0.0000e+00 - val_loss: 10.0637 - val_acc: 0.0000e+00\n",
      "Epoch 31/500\n",
      "3074/3074 - 0s - loss: 0.1604 - acc: 0.0000e+00 - val_loss: 4.6654 - val_acc: 0.0000e+00\n",
      "Epoch 32/500\n",
      "3074/3074 - 1s - loss: 0.1601 - acc: 0.0000e+00 - val_loss: 2.2523 - val_acc: 0.0000e+00\n",
      "Epoch 33/500\n",
      "3074/3074 - 0s - loss: 0.1675 - acc: 0.0000e+00 - val_loss: 2.6440 - val_acc: 0.0000e+00\n",
      "Epoch 34/500\n",
      "3074/3074 - 0s - loss: 0.1732 - acc: 0.0000e+00 - val_loss: 10.2718 - val_acc: 0.0000e+00\n",
      "Epoch 35/500\n",
      "3074/3074 - 0s - loss: 0.2285 - acc: 0.0000e+00 - val_loss: 2.1467 - val_acc: 0.0000e+00\n",
      "Epoch 36/500\n",
      "3074/3074 - 0s - loss: 0.1742 - acc: 0.0000e+00 - val_loss: 11.8216 - val_acc: 0.0000e+00\n",
      "Epoch 37/500\n",
      "3074/3074 - 1s - loss: 0.1819 - acc: 0.0000e+00 - val_loss: 2.4947 - val_acc: 0.0000e+00\n",
      "Epoch 38/500\n",
      "3074/3074 - 1s - loss: 0.2286 - acc: 0.0000e+00 - val_loss: 2.7370 - val_acc: 0.0000e+00\n",
      "Epoch 39/500\n",
      "3074/3074 - 1s - loss: 0.1642 - acc: 0.0000e+00 - val_loss: 77.4852 - val_acc: 0.0000e+00\n",
      "Epoch 40/500\n",
      "3074/3074 - 0s - loss: 0.8225 - acc: 0.0000e+00 - val_loss: 2.3451 - val_acc: 0.0000e+00\n",
      "Epoch 41/500\n",
      "3074/3074 - 0s - loss: 0.1870 - acc: 0.0000e+00 - val_loss: 4.2851 - val_acc: 0.0000e+00\n",
      "Epoch 42/500\n",
      "3074/3074 - 1s - loss: 0.2591 - acc: 0.0000e+00 - val_loss: 11.0792 - val_acc: 0.0000e+00\n",
      "Epoch 43/500\n",
      "3074/3074 - 1s - loss: 0.2286 - acc: 0.0000e+00 - val_loss: 21.0923 - val_acc: 0.0000e+00\n",
      "Epoch 44/500\n",
      "3074/3074 - 1s - loss: 0.4653 - acc: 0.0000e+00 - val_loss: 2.9640 - val_acc: 0.0000e+00\n",
      "Epoch 45/500\n",
      "3074/3074 - 0s - loss: 0.1937 - acc: 0.0000e+00 - val_loss: 2.1224 - val_acc: 0.0000e+00\n",
      "Epoch 46/500\n",
      "3074/3074 - 0s - loss: 0.1575 - acc: 0.0000e+00 - val_loss: 2.4321 - val_acc: 0.0000e+00\n",
      "Epoch 47/500\n",
      "3074/3074 - 0s - loss: 0.1764 - acc: 0.0000e+00 - val_loss: 4.4062 - val_acc: 0.0000e+00\n",
      "Epoch 48/500\n",
      "3074/3074 - 0s - loss: 0.1658 - acc: 0.0000e+00 - val_loss: 5.6491 - val_acc: 0.0000e+00\n",
      "Epoch 49/500\n",
      "3074/3074 - 0s - loss: 0.1817 - acc: 0.0000e+00 - val_loss: 5.0823 - val_acc: 0.0000e+00\n",
      "Epoch 50/500\n",
      "3074/3074 - 1s - loss: 0.1871 - acc: 0.0000e+00 - val_loss: 2.3453 - val_acc: 0.0000e+00\n",
      "Epoch 51/500\n",
      "3074/3074 - 1s - loss: 0.1636 - acc: 0.0000e+00 - val_loss: 4.7255 - val_acc: 0.0000e+00\n",
      "Epoch 52/500\n",
      "3074/3074 - 0s - loss: 0.2065 - acc: 0.0000e+00 - val_loss: 6.0594 - val_acc: 0.0000e+00\n",
      "Epoch 53/500\n",
      "3074/3074 - 0s - loss: 0.1596 - acc: 0.0000e+00 - val_loss: 2.0658 - val_acc: 0.0000e+00\n",
      "Epoch 54/500\n",
      "3074/3074 - 0s - loss: 0.2330 - acc: 0.0000e+00 - val_loss: 10.1503 - val_acc: 0.0000e+00\n",
      "Epoch 55/500\n",
      "3074/3074 - 0s - loss: 0.1875 - acc: 0.0000e+00 - val_loss: 2.3747 - val_acc: 0.0000e+00\n",
      "Epoch 56/500\n",
      "3074/3074 - 0s - loss: 0.1579 - acc: 0.0000e+00 - val_loss: 2.5794 - val_acc: 0.0000e+00\n",
      "Epoch 57/500\n",
      "3074/3074 - 0s - loss: 0.1634 - acc: 0.0000e+00 - val_loss: 6.0748 - val_acc: 0.0000e+00\n",
      "Epoch 58/500\n",
      "3074/3074 - 0s - loss: 0.2501 - acc: 0.0000e+00 - val_loss: 4.4702 - val_acc: 0.0000e+00\n",
      "Epoch 59/500\n",
      "3074/3074 - 0s - loss: 0.1853 - acc: 0.0000e+00 - val_loss: 4.7245 - val_acc: 0.0000e+00\n",
      "Epoch 60/500\n",
      "3074/3074 - 1s - loss: 0.2031 - acc: 0.0000e+00 - val_loss: 11.4163 - val_acc: 0.0000e+00\n",
      "Epoch 61/500\n",
      "3074/3074 - 1s - loss: 0.3994 - acc: 0.0000e+00 - val_loss: 2.0855 - val_acc: 0.0000e+00\n",
      "Epoch 62/500\n",
      "3074/3074 - 0s - loss: 0.1771 - acc: 0.0000e+00 - val_loss: 2.0685 - val_acc: 0.0000e+00\n",
      "Epoch 63/500\n",
      "3074/3074 - 0s - loss: 0.1715 - acc: 0.0000e+00 - val_loss: 2.0830 - val_acc: 0.0000e+00\n",
      "Epoch 64/500\n",
      "3074/3074 - 0s - loss: 0.2359 - acc: 0.0000e+00 - val_loss: 2.5355 - val_acc: 0.0000e+00\n",
      "Epoch 65/500\n",
      "3074/3074 - 0s - loss: 0.2578 - acc: 0.0000e+00 - val_loss: 2.3717 - val_acc: 0.0000e+00\n",
      "Epoch 66/500\n",
      "3074/3074 - 0s - loss: 0.1681 - acc: 0.0000e+00 - val_loss: 2.4681 - val_acc: 0.0000e+00\n",
      "Epoch 67/500\n",
      "3074/3074 - 0s - loss: 0.1671 - acc: 0.0000e+00 - val_loss: 2.6064 - val_acc: 0.0000e+00\n",
      "Epoch 68/500\n",
      "3074/3074 - 0s - loss: 0.2176 - acc: 0.0000e+00 - val_loss: 2.8094 - val_acc: 0.0000e+00\n",
      "Epoch 69/500\n",
      "3074/3074 - 0s - loss: 0.1747 - acc: 0.0000e+00 - val_loss: 2.4170 - val_acc: 0.0000e+00\n",
      "Epoch 70/500\n",
      "3074/3074 - 0s - loss: 0.1584 - acc: 0.0000e+00 - val_loss: 8.9074 - val_acc: 0.0000e+00\n",
      "Epoch 71/500\n",
      "3074/3074 - 0s - loss: 0.1719 - acc: 0.0000e+00 - val_loss: 3.6914 - val_acc: 0.0000e+00\n",
      "Epoch 72/500\n",
      "3074/3074 - 0s - loss: 0.2190 - acc: 0.0000e+00 - val_loss: 3.8405 - val_acc: 0.0000e+00\n",
      "Epoch 73/500\n",
      "3074/3074 - 0s - loss: 0.1729 - acc: 0.0000e+00 - val_loss: 3.4621 - val_acc: 0.0000e+00\n",
      "Epoch 74/500\n",
      "3074/3074 - 0s - loss: 0.1907 - acc: 0.0000e+00 - val_loss: 2.4061 - val_acc: 0.0000e+00\n",
      "Epoch 75/500\n",
      "3074/3074 - 0s - loss: 0.1951 - acc: 0.0000e+00 - val_loss: 10.3097 - val_acc: 0.0000e+00\n",
      "Epoch 76/500\n",
      "3074/3074 - 0s - loss: 0.2283 - acc: 0.0000e+00 - val_loss: 4.6721 - val_acc: 0.0000e+00\n",
      "Epoch 77/500\n",
      "3074/3074 - 0s - loss: 0.1585 - acc: 0.0000e+00 - val_loss: 6.5023 - val_acc: 0.0000e+00\n",
      "Epoch 78/500\n",
      "3074/3074 - 0s - loss: 0.1864 - acc: 0.0000e+00 - val_loss: 2.4054 - val_acc: 0.0000e+00\n",
      "Epoch 79/500\n",
      "3074/3074 - 0s - loss: 0.1738 - acc: 0.0000e+00 - val_loss: 8.6018 - val_acc: 0.0000e+00\n",
      "Epoch 80/500\n",
      "3074/3074 - 0s - loss: 0.1531 - acc: 0.0000e+00 - val_loss: 5.9749 - val_acc: 0.0000e+00\n"
     ]
    },
    {
     "name": "stdout",
     "output_type": "stream",
     "text": [
      "Epoch 81/500\n",
      "3074/3074 - 0s - loss: 0.1734 - acc: 0.0000e+00 - val_loss: 3.0747 - val_acc: 0.0000e+00\n",
      "Epoch 82/500\n",
      "3074/3074 - 0s - loss: 0.2614 - acc: 0.0000e+00 - val_loss: 9.6743 - val_acc: 0.0000e+00\n",
      "Epoch 83/500\n",
      "3074/3074 - 0s - loss: 0.2558 - acc: 0.0000e+00 - val_loss: 4.4938 - val_acc: 0.0000e+00\n",
      "Epoch 84/500\n",
      "3074/3074 - 0s - loss: 0.2031 - acc: 0.0000e+00 - val_loss: 6.3785 - val_acc: 0.0000e+00\n",
      "Epoch 85/500\n",
      "3074/3074 - 0s - loss: 0.1765 - acc: 0.0000e+00 - val_loss: 3.1985 - val_acc: 0.0000e+00\n",
      "Epoch 86/500\n",
      "3074/3074 - 1s - loss: 0.1823 - acc: 0.0000e+00 - val_loss: 37.5739 - val_acc: 0.0000e+00\n",
      "Epoch 87/500\n",
      "3074/3074 - 1s - loss: 0.2468 - acc: 0.0000e+00 - val_loss: 5.7563 - val_acc: 0.0000e+00\n",
      "Epoch 88/500\n",
      "3074/3074 - 0s - loss: 0.2303 - acc: 0.0000e+00 - val_loss: 2.2928 - val_acc: 0.0000e+00\n",
      "Epoch 89/500\n",
      "3074/3074 - 0s - loss: 0.1762 - acc: 0.0000e+00 - val_loss: 2.6483 - val_acc: 0.0000e+00\n",
      "Epoch 90/500\n",
      "3074/3074 - 0s - loss: 0.1589 - acc: 0.0000e+00 - val_loss: 2.9427 - val_acc: 0.0000e+00\n",
      "Epoch 91/500\n",
      "3074/3074 - 0s - loss: 0.1492 - acc: 0.0000e+00 - val_loss: 2.8098 - val_acc: 0.0000e+00\n",
      "Epoch 92/500\n",
      "3074/3074 - 0s - loss: 0.1691 - acc: 0.0000e+00 - val_loss: 3.0283 - val_acc: 0.0000e+00\n",
      "Epoch 93/500\n",
      "3074/3074 - 0s - loss: 0.1869 - acc: 0.0000e+00 - val_loss: 3.1975 - val_acc: 0.0000e+00\n",
      "Epoch 94/500\n",
      "3074/3074 - 0s - loss: 0.2054 - acc: 0.0000e+00 - val_loss: 3.0218 - val_acc: 0.0000e+00\n",
      "Epoch 95/500\n",
      "3074/3074 - 0s - loss: 0.1570 - acc: 0.0000e+00 - val_loss: 4.6382 - val_acc: 0.0000e+00\n",
      "Epoch 96/500\n",
      "3074/3074 - 0s - loss: 0.1622 - acc: 0.0000e+00 - val_loss: 2.5546 - val_acc: 0.0000e+00\n",
      "Epoch 97/500\n",
      "3074/3074 - 0s - loss: 0.1859 - acc: 0.0000e+00 - val_loss: 2.2599 - val_acc: 0.0000e+00\n",
      "Epoch 98/500\n",
      "3074/3074 - 0s - loss: 0.1768 - acc: 0.0000e+00 - val_loss: 5.0571 - val_acc: 0.0000e+00\n",
      "Epoch 99/500\n",
      "3074/3074 - 0s - loss: 0.1671 - acc: 0.0000e+00 - val_loss: 3.5778 - val_acc: 0.0000e+00\n",
      "Epoch 100/500\n",
      "3074/3074 - 0s - loss: 0.1946 - acc: 0.0000e+00 - val_loss: 2.2641 - val_acc: 0.0000e+00\n",
      "Epoch 101/500\n",
      "3074/3074 - 0s - loss: 0.1663 - acc: 0.0000e+00 - val_loss: 2.6608 - val_acc: 0.0000e+00\n",
      "Epoch 102/500\n",
      "3074/3074 - 0s - loss: 0.1800 - acc: 0.0000e+00 - val_loss: 15.3153 - val_acc: 0.0000e+00\n",
      "Epoch 103/500\n",
      "3074/3074 - 0s - loss: 0.1579 - acc: 0.0000e+00 - val_loss: 7.1364 - val_acc: 0.0000e+00\n",
      "Epoch 104/500\n",
      "3074/3074 - 0s - loss: 0.1778 - acc: 0.0000e+00 - val_loss: 4.6733 - val_acc: 0.0000e+00\n",
      "Epoch 105/500\n",
      "3074/3074 - 0s - loss: 0.1958 - acc: 0.0000e+00 - val_loss: 3.3291 - val_acc: 0.0000e+00\n",
      "Epoch 106/500\n",
      "3074/3074 - 0s - loss: 0.1985 - acc: 0.0000e+00 - val_loss: 4.2483 - val_acc: 0.0000e+00\n",
      "Epoch 107/500\n",
      "3074/3074 - 0s - loss: 0.1735 - acc: 0.0000e+00 - val_loss: 2.5313 - val_acc: 0.0000e+00\n",
      "Epoch 108/500\n",
      "3074/3074 - 0s - loss: 0.1867 - acc: 0.0000e+00 - val_loss: 2.3225 - val_acc: 0.0000e+00\n",
      "Epoch 109/500\n",
      "3074/3074 - 0s - loss: 0.1534 - acc: 0.0000e+00 - val_loss: 4.7259 - val_acc: 0.0000e+00\n",
      "Epoch 110/500\n",
      "3074/3074 - 0s - loss: 0.1614 - acc: 0.0000e+00 - val_loss: 3.9789 - val_acc: 0.0000e+00\n",
      "Epoch 111/500\n",
      "3074/3074 - 0s - loss: 0.2152 - acc: 0.0000e+00 - val_loss: 7.6990 - val_acc: 0.0000e+00\n",
      "Epoch 112/500\n",
      "3074/3074 - 0s - loss: 0.1939 - acc: 0.0000e+00 - val_loss: 2.3273 - val_acc: 0.0000e+00\n",
      "Epoch 113/500\n",
      "3074/3074 - 0s - loss: 0.2208 - acc: 0.0000e+00 - val_loss: 10.8820 - val_acc: 0.0000e+00\n",
      "Epoch 114/500\n",
      "3074/3074 - 0s - loss: 0.1899 - acc: 0.0000e+00 - val_loss: 2.7178 - val_acc: 0.0000e+00\n",
      "Epoch 115/500\n",
      "3074/3074 - 0s - loss: 0.1846 - acc: 0.0000e+00 - val_loss: 5.0041 - val_acc: 0.0000e+00\n",
      "Epoch 116/500\n",
      "3074/3074 - 0s - loss: 0.2999 - acc: 0.0000e+00 - val_loss: 13.1841 - val_acc: 0.0000e+00\n",
      "Epoch 117/500\n",
      "3074/3074 - 0s - loss: 0.1949 - acc: 0.0000e+00 - val_loss: 7.7496 - val_acc: 0.0000e+00\n",
      "Epoch 118/500\n",
      "3074/3074 - 0s - loss: 0.1778 - acc: 0.0000e+00 - val_loss: 6.0192 - val_acc: 0.0000e+00\n",
      "Epoch 119/500\n",
      "3074/3074 - 0s - loss: 0.1470 - acc: 0.0000e+00 - val_loss: 7.6389 - val_acc: 0.0000e+00\n",
      "Epoch 120/500\n",
      "3074/3074 - 0s - loss: 0.1479 - acc: 0.0000e+00 - val_loss: 2.9614 - val_acc: 0.0000e+00\n",
      "Epoch 121/500\n",
      "3074/3074 - 0s - loss: 0.1661 - acc: 0.0000e+00 - val_loss: 6.5047 - val_acc: 0.0000e+00\n",
      "Epoch 122/500\n",
      "3074/3074 - 0s - loss: 0.1605 - acc: 0.0000e+00 - val_loss: 6.9047 - val_acc: 0.0000e+00\n",
      "Epoch 123/500\n",
      "3074/3074 - 0s - loss: 0.1805 - acc: 0.0000e+00 - val_loss: 10.6953 - val_acc: 0.0000e+00\n",
      "Epoch 124/500\n",
      "3074/3074 - 1s - loss: 0.1785 - acc: 0.0000e+00 - val_loss: 3.3871 - val_acc: 0.0000e+00\n",
      "Epoch 125/500\n",
      "3074/3074 - 0s - loss: 0.1588 - acc: 0.0000e+00 - val_loss: 4.1898 - val_acc: 0.0000e+00\n",
      "Epoch 126/500\n",
      "3074/3074 - 0s - loss: 0.1588 - acc: 0.0000e+00 - val_loss: 5.0580 - val_acc: 0.0000e+00\n",
      "Epoch 127/500\n",
      "3074/3074 - 0s - loss: 0.1854 - acc: 0.0000e+00 - val_loss: 2.6249 - val_acc: 0.0000e+00\n",
      "Epoch 128/500\n",
      "3074/3074 - 0s - loss: 0.1781 - acc: 0.0000e+00 - val_loss: 12.5802 - val_acc: 0.0000e+00\n",
      "Epoch 129/500\n",
      "3074/3074 - 0s - loss: 0.1539 - acc: 0.0000e+00 - val_loss: 5.0250 - val_acc: 0.0000e+00\n",
      "Epoch 130/500\n",
      "3074/3074 - 0s - loss: 0.1555 - acc: 0.0000e+00 - val_loss: 5.5638 - val_acc: 0.0000e+00\n",
      "Epoch 131/500\n",
      "3074/3074 - 0s - loss: 0.1839 - acc: 0.0000e+00 - val_loss: 4.9489 - val_acc: 0.0000e+00\n",
      "Epoch 132/500\n",
      "3074/3074 - 0s - loss: 0.1883 - acc: 0.0000e+00 - val_loss: 3.1880 - val_acc: 0.0000e+00\n",
      "Epoch 133/500\n",
      "3074/3074 - 0s - loss: 0.1703 - acc: 0.0000e+00 - val_loss: 8.9832 - val_acc: 0.0000e+00\n",
      "Epoch 134/500\n",
      "3074/3074 - 0s - loss: 0.1501 - acc: 0.0000e+00 - val_loss: 2.9651 - val_acc: 0.0000e+00\n",
      "Epoch 135/500\n",
      "3074/3074 - 0s - loss: 0.1835 - acc: 0.0000e+00 - val_loss: 6.8800 - val_acc: 0.0000e+00\n",
      "Epoch 136/500\n",
      "3074/3074 - 0s - loss: 0.1695 - acc: 0.0000e+00 - val_loss: 3.1487 - val_acc: 0.0000e+00\n",
      "Epoch 137/500\n",
      "3074/3074 - 0s - loss: 0.1588 - acc: 0.0000e+00 - val_loss: 4.2193 - val_acc: 0.0000e+00\n",
      "Epoch 138/500\n",
      "3074/3074 - 0s - loss: 0.1602 - acc: 0.0000e+00 - val_loss: 2.8519 - val_acc: 0.0000e+00\n",
      "Epoch 139/500\n",
      "3074/3074 - 0s - loss: 0.1505 - acc: 0.0000e+00 - val_loss: 7.3844 - val_acc: 0.0000e+00\n",
      "Epoch 140/500\n",
      "3074/3074 - 0s - loss: 0.1829 - acc: 0.0000e+00 - val_loss: 3.9049 - val_acc: 0.0000e+00\n",
      "Epoch 141/500\n",
      "3074/3074 - 0s - loss: 0.1453 - acc: 0.0000e+00 - val_loss: 2.4869 - val_acc: 0.0000e+00\n",
      "Epoch 142/500\n",
      "3074/3074 - 0s - loss: 0.2233 - acc: 0.0000e+00 - val_loss: 4.8243 - val_acc: 0.0000e+00\n",
      "Epoch 143/500\n",
      "3074/3074 - 0s - loss: 0.2001 - acc: 0.0000e+00 - val_loss: 9.7866 - val_acc: 0.0000e+00\n",
      "Epoch 144/500\n",
      "3074/3074 - 0s - loss: 0.1808 - acc: 0.0000e+00 - val_loss: 7.4046 - val_acc: 0.0000e+00\n",
      "Epoch 145/500\n",
      "3074/3074 - 0s - loss: 0.1726 - acc: 0.0000e+00 - val_loss: 11.1327 - val_acc: 0.0000e+00\n",
      "Epoch 146/500\n",
      "3074/3074 - 0s - loss: 0.1640 - acc: 0.0000e+00 - val_loss: 2.8153 - val_acc: 0.0000e+00\n",
      "Epoch 147/500\n",
      "3074/3074 - 0s - loss: 0.1700 - acc: 0.0000e+00 - val_loss: 34.0849 - val_acc: 0.0000e+00\n",
      "Epoch 148/500\n",
      "3074/3074 - 0s - loss: 0.2692 - acc: 0.0000e+00 - val_loss: 2.2431 - val_acc: 0.0000e+00\n",
      "Epoch 149/500\n",
      "3074/3074 - 0s - loss: 0.1551 - acc: 0.0000e+00 - val_loss: 2.3947 - val_acc: 0.0000e+00\n",
      "Epoch 150/500\n",
      "3074/3074 - 0s - loss: 0.1473 - acc: 0.0000e+00 - val_loss: 2.4580 - val_acc: 0.0000e+00\n",
      "Epoch 151/500\n",
      "3074/3074 - 0s - loss: 0.2049 - acc: 0.0000e+00 - val_loss: 2.8241 - val_acc: 0.0000e+00\n",
      "Epoch 152/500\n",
      "3074/3074 - 0s - loss: 0.1404 - acc: 0.0000e+00 - val_loss: 4.5433 - val_acc: 0.0000e+00\n",
      "Epoch 153/500\n",
      "3074/3074 - 0s - loss: 0.1438 - acc: 0.0000e+00 - val_loss: 11.9470 - val_acc: 0.0000e+00\n",
      "Epoch 154/500\n",
      "3074/3074 - 0s - loss: 0.2159 - acc: 0.0000e+00 - val_loss: 2.5528 - val_acc: 0.0000e+00\n",
      "Epoch 155/500\n",
      "3074/3074 - 0s - loss: 0.2609 - acc: 0.0000e+00 - val_loss: 2.9971 - val_acc: 0.0000e+00\n",
      "Epoch 156/500\n",
      "3074/3074 - 0s - loss: 0.1637 - acc: 0.0000e+00 - val_loss: 13.1764 - val_acc: 0.0000e+00\n",
      "Epoch 157/500\n",
      "3074/3074 - 0s - loss: 0.1573 - acc: 0.0000e+00 - val_loss: 3.6103 - val_acc: 0.0000e+00\n",
      "Epoch 158/500\n",
      "3074/3074 - 0s - loss: 0.1628 - acc: 0.0000e+00 - val_loss: 14.2781 - val_acc: 0.0000e+00\n",
      "Epoch 159/500\n",
      "3074/3074 - 0s - loss: 0.3858 - acc: 0.0000e+00 - val_loss: 3.5782 - val_acc: 0.0000e+00\n",
      "Epoch 160/500\n",
      "3074/3074 - 0s - loss: 0.1702 - acc: 0.0000e+00 - val_loss: 7.3862 - val_acc: 0.0000e+00\n"
     ]
    },
    {
     "name": "stdout",
     "output_type": "stream",
     "text": [
      "Epoch 161/500\n",
      "3074/3074 - 1s - loss: 0.1609 - acc: 0.0000e+00 - val_loss: 3.4530 - val_acc: 0.0000e+00\n",
      "Epoch 162/500\n",
      "3074/3074 - 1s - loss: 0.1778 - acc: 0.0000e+00 - val_loss: 3.4207 - val_acc: 0.0000e+00\n",
      "Epoch 163/500\n",
      "3074/3074 - 0s - loss: 0.1858 - acc: 0.0000e+00 - val_loss: 4.8443 - val_acc: 0.0000e+00\n",
      "Epoch 164/500\n",
      "3074/3074 - 0s - loss: 0.1673 - acc: 0.0000e+00 - val_loss: 2.1791 - val_acc: 0.0000e+00\n",
      "Epoch 165/500\n",
      "3074/3074 - 0s - loss: 0.1476 - acc: 0.0000e+00 - val_loss: 3.1841 - val_acc: 0.0000e+00\n",
      "Epoch 166/500\n",
      "3074/3074 - 0s - loss: 0.1720 - acc: 0.0000e+00 - val_loss: 5.2604 - val_acc: 0.0000e+00\n",
      "Epoch 167/500\n",
      "3074/3074 - 0s - loss: 0.1805 - acc: 0.0000e+00 - val_loss: 2.4023 - val_acc: 0.0000e+00\n",
      "Epoch 168/500\n",
      "3074/3074 - 0s - loss: 0.1792 - acc: 0.0000e+00 - val_loss: 2.4057 - val_acc: 0.0000e+00\n",
      "Epoch 169/500\n",
      "3074/3074 - 0s - loss: 0.1830 - acc: 0.0000e+00 - val_loss: 2.4813 - val_acc: 0.0000e+00\n",
      "Epoch 170/500\n",
      "3074/3074 - 0s - loss: 0.1525 - acc: 0.0000e+00 - val_loss: 2.2613 - val_acc: 0.0000e+00\n",
      "Epoch 171/500\n",
      "3074/3074 - 0s - loss: 0.1506 - acc: 0.0000e+00 - val_loss: 7.8642 - val_acc: 0.0000e+00\n",
      "Epoch 172/500\n",
      "3074/3074 - 0s - loss: 0.1400 - acc: 0.0000e+00 - val_loss: 6.1728 - val_acc: 0.0000e+00\n",
      "Epoch 173/500\n",
      "3074/3074 - 0s - loss: 0.1411 - acc: 0.0000e+00 - val_loss: 8.1098 - val_acc: 0.0000e+00\n",
      "Epoch 174/500\n",
      "3074/3074 - 0s - loss: 0.1453 - acc: 0.0000e+00 - val_loss: 5.2258 - val_acc: 0.0000e+00\n",
      "Epoch 175/500\n",
      "3074/3074 - 0s - loss: 0.1377 - acc: 0.0000e+00 - val_loss: 2.9836 - val_acc: 0.0000e+00\n",
      "Epoch 176/500\n",
      "3074/3074 - 0s - loss: 0.1446 - acc: 0.0000e+00 - val_loss: 4.2248 - val_acc: 0.0000e+00\n",
      "Epoch 177/500\n",
      "3074/3074 - 0s - loss: 0.1580 - acc: 0.0000e+00 - val_loss: 8.8703 - val_acc: 0.0000e+00\n",
      "Epoch 178/500\n",
      "3074/3074 - 0s - loss: 0.1676 - acc: 0.0000e+00 - val_loss: 5.1623 - val_acc: 0.0000e+00\n",
      "Epoch 179/500\n",
      "3074/3074 - 0s - loss: 0.1776 - acc: 0.0000e+00 - val_loss: 2.7945 - val_acc: 0.0000e+00\n",
      "Epoch 180/500\n",
      "3074/3074 - 0s - loss: 0.1616 - acc: 0.0000e+00 - val_loss: 11.7790 - val_acc: 0.0000e+00\n",
      "Epoch 181/500\n",
      "3074/3074 - 0s - loss: 0.1514 - acc: 0.0000e+00 - val_loss: 5.8122 - val_acc: 0.0000e+00\n",
      "Epoch 182/500\n",
      "3074/3074 - 0s - loss: 0.1542 - acc: 0.0000e+00 - val_loss: 3.3093 - val_acc: 0.0000e+00\n",
      "Epoch 183/500\n",
      "3074/3074 - 0s - loss: 0.1679 - acc: 0.0000e+00 - val_loss: 11.0206 - val_acc: 0.0000e+00\n",
      "Epoch 184/500\n",
      "3074/3074 - 0s - loss: 0.1777 - acc: 0.0000e+00 - val_loss: 3.6207 - val_acc: 0.0000e+00\n",
      "Epoch 185/500\n",
      "3074/3074 - 0s - loss: 0.1807 - acc: 0.0000e+00 - val_loss: 2.5304 - val_acc: 0.0000e+00\n",
      "Epoch 186/500\n",
      "3074/3074 - 0s - loss: 0.1510 - acc: 0.0000e+00 - val_loss: 2.8899 - val_acc: 0.0000e+00\n",
      "Epoch 187/500\n",
      "3074/3074 - 0s - loss: 0.1822 - acc: 0.0000e+00 - val_loss: 2.5521 - val_acc: 0.0000e+00\n",
      "Epoch 188/500\n",
      "3074/3074 - 0s - loss: 0.1598 - acc: 0.0000e+00 - val_loss: 12.2359 - val_acc: 0.0000e+00\n",
      "Epoch 189/500\n",
      "3074/3074 - 0s - loss: 0.1674 - acc: 0.0000e+00 - val_loss: 4.6317 - val_acc: 0.0000e+00\n",
      "Epoch 190/500\n",
      "3074/3074 - 0s - loss: 0.1539 - acc: 0.0000e+00 - val_loss: 2.8628 - val_acc: 0.0000e+00\n",
      "Epoch 191/500\n",
      "3074/3074 - 0s - loss: 0.2135 - acc: 0.0000e+00 - val_loss: 10.4101 - val_acc: 0.0000e+00\n",
      "Epoch 192/500\n",
      "3074/3074 - 0s - loss: 0.2310 - acc: 0.0000e+00 - val_loss: 3.2374 - val_acc: 0.0000e+00\n",
      "Epoch 193/500\n",
      "3074/3074 - 0s - loss: 0.1479 - acc: 0.0000e+00 - val_loss: 4.0865 - val_acc: 0.0000e+00\n",
      "Epoch 194/500\n",
      "3074/3074 - 0s - loss: 0.1623 - acc: 0.0000e+00 - val_loss: 10.8165 - val_acc: 0.0000e+00\n",
      "Epoch 195/500\n",
      "3074/3074 - 0s - loss: 0.1659 - acc: 0.0000e+00 - val_loss: 3.3061 - val_acc: 0.0000e+00\n",
      "Epoch 196/500\n",
      "3074/3074 - 1s - loss: 0.1678 - acc: 0.0000e+00 - val_loss: 7.2991 - val_acc: 0.0000e+00\n",
      "Epoch 197/500\n",
      "3074/3074 - 3s - loss: 0.1585 - acc: 0.0000e+00 - val_loss: 6.5365 - val_acc: 0.0000e+00\n",
      "Epoch 198/500\n",
      "3074/3074 - 2s - loss: 0.2973 - acc: 0.0000e+00 - val_loss: 5.1674 - val_acc: 0.0000e+00\n",
      "Epoch 199/500\n",
      "3074/3074 - 3s - loss: 0.1587 - acc: 0.0000e+00 - val_loss: 6.5228 - val_acc: 0.0000e+00\n",
      "Epoch 200/500\n",
      "3074/3074 - 3s - loss: 0.1717 - acc: 0.0000e+00 - val_loss: 4.9571 - val_acc: 0.0000e+00\n",
      "Epoch 201/500\n",
      "3074/3074 - 1s - loss: 0.1495 - acc: 0.0000e+00 - val_loss: 2.2930 - val_acc: 0.0000e+00\n",
      "Epoch 202/500\n",
      "3074/3074 - 0s - loss: 0.1474 - acc: 0.0000e+00 - val_loss: 6.6931 - val_acc: 0.0000e+00\n",
      "Epoch 203/500\n",
      "3074/3074 - 0s - loss: 0.1596 - acc: 0.0000e+00 - val_loss: 2.8206 - val_acc: 0.0000e+00\n",
      "Epoch 204/500\n",
      "3074/3074 - 0s - loss: 0.1606 - acc: 0.0000e+00 - val_loss: 12.1312 - val_acc: 0.0000e+00\n",
      "Epoch 205/500\n",
      "3074/3074 - 0s - loss: 0.1850 - acc: 0.0000e+00 - val_loss: 6.1037 - val_acc: 0.0000e+00\n",
      "Epoch 206/500\n",
      "3074/3074 - 0s - loss: 0.1488 - acc: 0.0000e+00 - val_loss: 4.4638 - val_acc: 0.0000e+00\n",
      "Epoch 207/500\n",
      "3074/3074 - 0s - loss: 0.1454 - acc: 0.0000e+00 - val_loss: 3.1534 - val_acc: 0.0000e+00\n",
      "Epoch 208/500\n",
      "3074/3074 - 0s - loss: 0.1499 - acc: 0.0000e+00 - val_loss: 3.0381 - val_acc: 0.0000e+00\n",
      "Epoch 209/500\n",
      "3074/3074 - 0s - loss: 0.1411 - acc: 0.0000e+00 - val_loss: 6.1494 - val_acc: 0.0000e+00\n",
      "Epoch 210/500\n",
      "3074/3074 - 0s - loss: 0.1582 - acc: 0.0000e+00 - val_loss: 4.3191 - val_acc: 0.0000e+00\n",
      "Epoch 211/500\n",
      "3074/3074 - 0s - loss: 0.1405 - acc: 0.0000e+00 - val_loss: 11.7609 - val_acc: 0.0000e+00\n",
      "Epoch 212/500\n",
      "3074/3074 - 0s - loss: 0.1718 - acc: 0.0000e+00 - val_loss: 7.9405 - val_acc: 0.0000e+00\n",
      "Epoch 213/500\n",
      "3074/3074 - 0s - loss: 0.1704 - acc: 0.0000e+00 - val_loss: 6.7167 - val_acc: 0.0000e+00\n",
      "Epoch 214/500\n",
      "3074/3074 - 1s - loss: 0.1547 - acc: 0.0000e+00 - val_loss: 7.0100 - val_acc: 0.0000e+00\n",
      "Epoch 215/500\n",
      "3074/3074 - 1s - loss: 0.1565 - acc: 0.0000e+00 - val_loss: 5.1989 - val_acc: 0.0000e+00\n",
      "Epoch 216/500\n",
      "3074/3074 - 0s - loss: 0.1739 - acc: 0.0000e+00 - val_loss: 7.5129 - val_acc: 0.0000e+00\n",
      "Epoch 217/500\n",
      "3074/3074 - 0s - loss: 0.1480 - acc: 0.0000e+00 - val_loss: 6.6848 - val_acc: 0.0000e+00\n",
      "Epoch 218/500\n",
      "3074/3074 - 0s - loss: 0.1476 - acc: 0.0000e+00 - val_loss: 4.4214 - val_acc: 0.0000e+00\n",
      "Epoch 219/500\n",
      "3074/3074 - 0s - loss: 0.2021 - acc: 0.0000e+00 - val_loss: 4.1873 - val_acc: 0.0000e+00\n",
      "Epoch 220/500\n",
      "3074/3074 - 0s - loss: 0.1903 - acc: 0.0000e+00 - val_loss: 2.4187 - val_acc: 0.0000e+00\n",
      "Epoch 221/500\n",
      "3074/3074 - 0s - loss: 0.1624 - acc: 0.0000e+00 - val_loss: 4.2767 - val_acc: 0.0000e+00\n",
      "Epoch 222/500\n",
      "3074/3074 - 0s - loss: 0.1990 - acc: 0.0000e+00 - val_loss: 3.8236 - val_acc: 0.0000e+00\n",
      "Epoch 223/500\n",
      "3074/3074 - 0s - loss: 0.1427 - acc: 0.0000e+00 - val_loss: 3.4556 - val_acc: 0.0000e+00\n",
      "Epoch 224/500\n",
      "3074/3074 - 0s - loss: 0.1602 - acc: 0.0000e+00 - val_loss: 6.2844 - val_acc: 0.0000e+00\n",
      "Epoch 225/500\n",
      "3074/3074 - 0s - loss: 0.1605 - acc: 0.0000e+00 - val_loss: 2.4221 - val_acc: 0.0000e+00\n",
      "Epoch 226/500\n",
      "3074/3074 - 0s - loss: 0.1664 - acc: 0.0000e+00 - val_loss: 3.3104 - val_acc: 0.0000e+00\n",
      "Epoch 227/500\n",
      "3074/3074 - 0s - loss: 0.1426 - acc: 0.0000e+00 - val_loss: 3.6670 - val_acc: 0.0000e+00\n",
      "Epoch 228/500\n",
      "3074/3074 - 0s - loss: 0.1378 - acc: 0.0000e+00 - val_loss: 3.4103 - val_acc: 0.0000e+00\n",
      "Epoch 229/500\n",
      "3074/3074 - 0s - loss: 0.1409 - acc: 0.0000e+00 - val_loss: 2.5204 - val_acc: 0.0000e+00\n",
      "Epoch 230/500\n",
      "3074/3074 - 0s - loss: 0.2081 - acc: 0.0000e+00 - val_loss: 10.9660 - val_acc: 0.0000e+00\n",
      "Epoch 231/500\n",
      "3074/3074 - 0s - loss: 0.1570 - acc: 0.0000e+00 - val_loss: 5.2101 - val_acc: 0.0000e+00\n",
      "Epoch 232/500\n",
      "3074/3074 - 0s - loss: 0.1426 - acc: 0.0000e+00 - val_loss: 4.5071 - val_acc: 0.0000e+00\n",
      "Epoch 233/500\n",
      "3074/3074 - 0s - loss: 0.1537 - acc: 0.0000e+00 - val_loss: 3.3384 - val_acc: 0.0000e+00\n",
      "Epoch 234/500\n",
      "3074/3074 - 0s - loss: 0.1627 - acc: 0.0000e+00 - val_loss: 4.1194 - val_acc: 0.0000e+00\n",
      "Epoch 235/500\n",
      "3074/3074 - 0s - loss: 0.1810 - acc: 0.0000e+00 - val_loss: 3.4722 - val_acc: 0.0000e+00\n",
      "Epoch 236/500\n",
      "3074/3074 - 0s - loss: 0.1520 - acc: 0.0000e+00 - val_loss: 6.1657 - val_acc: 0.0000e+00\n",
      "Epoch 237/500\n",
      "3074/3074 - 0s - loss: 0.1370 - acc: 0.0000e+00 - val_loss: 13.0187 - val_acc: 0.0000e+00\n",
      "Epoch 238/500\n",
      "3074/3074 - 0s - loss: 0.1398 - acc: 0.0000e+00 - val_loss: 4.9267 - val_acc: 0.0000e+00\n",
      "Epoch 239/500\n",
      "3074/3074 - 0s - loss: 0.1519 - acc: 0.0000e+00 - val_loss: 9.1975 - val_acc: 0.0000e+00\n",
      "Epoch 240/500\n",
      "3074/3074 - 0s - loss: 0.1726 - acc: 0.0000e+00 - val_loss: 2.6243 - val_acc: 0.0000e+00\n"
     ]
    },
    {
     "name": "stdout",
     "output_type": "stream",
     "text": [
      "Epoch 241/500\n",
      "3074/3074 - 0s - loss: 0.1532 - acc: 0.0000e+00 - val_loss: 3.5232 - val_acc: 0.0000e+00\n",
      "Epoch 242/500\n",
      "3074/3074 - 0s - loss: 0.1835 - acc: 0.0000e+00 - val_loss: 4.9471 - val_acc: 0.0000e+00\n",
      "Epoch 243/500\n",
      "3074/3074 - 0s - loss: 0.1866 - acc: 0.0000e+00 - val_loss: 3.2059 - val_acc: 0.0000e+00\n",
      "Epoch 244/500\n",
      "3074/3074 - 0s - loss: 0.2051 - acc: 0.0000e+00 - val_loss: 4.5575 - val_acc: 0.0000e+00\n",
      "Epoch 245/500\n",
      "3074/3074 - 0s - loss: 0.1809 - acc: 0.0000e+00 - val_loss: 3.7847 - val_acc: 0.0000e+00\n",
      "Epoch 246/500\n",
      "3074/3074 - 0s - loss: 0.1536 - acc: 0.0000e+00 - val_loss: 2.7753 - val_acc: 0.0000e+00\n",
      "Epoch 247/500\n",
      "3074/3074 - 0s - loss: 0.1468 - acc: 0.0000e+00 - val_loss: 6.4683 - val_acc: 0.0000e+00\n",
      "Epoch 248/500\n",
      "3074/3074 - 0s - loss: 0.1490 - acc: 0.0000e+00 - val_loss: 2.6301 - val_acc: 0.0000e+00\n",
      "Epoch 249/500\n",
      "3074/3074 - 0s - loss: 0.1484 - acc: 0.0000e+00 - val_loss: 23.9850 - val_acc: 0.0000e+00\n",
      "Epoch 250/500\n",
      "3074/3074 - 0s - loss: 0.2607 - acc: 0.0000e+00 - val_loss: 2.9525 - val_acc: 0.0000e+00\n",
      "Epoch 251/500\n",
      "3074/3074 - 0s - loss: 0.1468 - acc: 0.0000e+00 - val_loss: 3.1563 - val_acc: 0.0000e+00\n",
      "Epoch 252/500\n",
      "3074/3074 - 0s - loss: 0.1776 - acc: 0.0000e+00 - val_loss: 5.0137 - val_acc: 0.0000e+00\n",
      "Epoch 253/500\n",
      "3074/3074 - 1s - loss: 0.1651 - acc: 0.0000e+00 - val_loss: 3.4853 - val_acc: 0.0000e+00\n",
      "Epoch 254/500\n",
      "3074/3074 - 1s - loss: 0.1492 - acc: 0.0000e+00 - val_loss: 6.2975 - val_acc: 0.0000e+00\n",
      "Epoch 255/500\n",
      "3074/3074 - 0s - loss: 0.1562 - acc: 0.0000e+00 - val_loss: 2.2451 - val_acc: 0.0000e+00\n",
      "Epoch 256/500\n",
      "3074/3074 - 0s - loss: 0.1795 - acc: 0.0000e+00 - val_loss: 4.8890 - val_acc: 0.0000e+00\n",
      "Epoch 257/500\n",
      "3074/3074 - 0s - loss: 0.1429 - acc: 0.0000e+00 - val_loss: 5.3927 - val_acc: 0.0000e+00\n",
      "Epoch 258/500\n",
      "3074/3074 - 0s - loss: 0.1488 - acc: 0.0000e+00 - val_loss: 2.9409 - val_acc: 0.0000e+00\n",
      "Epoch 259/500\n",
      "3074/3074 - 0s - loss: 0.1506 - acc: 0.0000e+00 - val_loss: 12.1253 - val_acc: 0.0000e+00\n",
      "Epoch 260/500\n",
      "3074/3074 - 0s - loss: 0.1476 - acc: 0.0000e+00 - val_loss: 5.9343 - val_acc: 0.0000e+00\n",
      "Epoch 261/500\n",
      "3074/3074 - 0s - loss: 0.1569 - acc: 0.0000e+00 - val_loss: 8.5504 - val_acc: 0.0000e+00\n",
      "Epoch 262/500\n",
      "3074/3074 - 1s - loss: 0.1409 - acc: 0.0000e+00 - val_loss: 5.6202 - val_acc: 0.0000e+00\n",
      "Epoch 263/500\n",
      "3074/3074 - 0s - loss: 0.1564 - acc: 0.0000e+00 - val_loss: 2.4268 - val_acc: 0.0000e+00\n",
      "Epoch 264/500\n",
      "3074/3074 - 0s - loss: 0.1421 - acc: 0.0000e+00 - val_loss: 5.3160 - val_acc: 0.0000e+00\n",
      "Epoch 265/500\n",
      "3074/3074 - 0s - loss: 0.1481 - acc: 0.0000e+00 - val_loss: 3.3344 - val_acc: 0.0000e+00\n",
      "Epoch 266/500\n",
      "3074/3074 - 0s - loss: 0.1580 - acc: 0.0000e+00 - val_loss: 2.4077 - val_acc: 0.0000e+00\n",
      "Epoch 267/500\n",
      "3074/3074 - 0s - loss: 0.1658 - acc: 0.0000e+00 - val_loss: 11.1117 - val_acc: 0.0000e+00\n",
      "Epoch 268/500\n",
      "3074/3074 - 0s - loss: 0.1715 - acc: 0.0000e+00 - val_loss: 2.4984 - val_acc: 0.0000e+00\n",
      "Epoch 269/500\n",
      "3074/3074 - 0s - loss: 0.1765 - acc: 0.0000e+00 - val_loss: 3.4791 - val_acc: 0.0000e+00\n",
      "Epoch 270/500\n",
      "3074/3074 - 0s - loss: 0.1661 - acc: 0.0000e+00 - val_loss: 3.7694 - val_acc: 0.0000e+00\n",
      "Epoch 271/500\n",
      "3074/3074 - 0s - loss: 0.1597 - acc: 0.0000e+00 - val_loss: 10.8560 - val_acc: 0.0000e+00\n",
      "Epoch 272/500\n",
      "3074/3074 - 0s - loss: 0.1520 - acc: 0.0000e+00 - val_loss: 6.1899 - val_acc: 0.0000e+00\n",
      "Epoch 273/500\n",
      "3074/3074 - 0s - loss: 0.1708 - acc: 0.0000e+00 - val_loss: 2.3786 - val_acc: 0.0000e+00\n",
      "Epoch 274/500\n",
      "3074/3074 - 0s - loss: 0.1696 - acc: 0.0000e+00 - val_loss: 5.0744 - val_acc: 0.0000e+00\n",
      "Epoch 275/500\n",
      "3074/3074 - 0s - loss: 0.1485 - acc: 0.0000e+00 - val_loss: 16.1040 - val_acc: 0.0000e+00\n",
      "Epoch 276/500\n",
      "3074/3074 - 0s - loss: 0.1433 - acc: 0.0000e+00 - val_loss: 4.0003 - val_acc: 0.0000e+00\n",
      "Epoch 277/500\n",
      "3074/3074 - 0s - loss: 0.1670 - acc: 0.0000e+00 - val_loss: 9.3037 - val_acc: 0.0000e+00\n",
      "Epoch 278/500\n",
      "3074/3074 - 0s - loss: 0.1557 - acc: 0.0000e+00 - val_loss: 5.1756 - val_acc: 0.0000e+00\n",
      "Epoch 279/500\n",
      "3074/3074 - 0s - loss: 0.1687 - acc: 0.0000e+00 - val_loss: 2.6554 - val_acc: 0.0000e+00\n",
      "Epoch 280/500\n",
      "3074/3074 - 0s - loss: 0.1565 - acc: 0.0000e+00 - val_loss: 2.8622 - val_acc: 0.0000e+00\n",
      "Epoch 281/500\n",
      "3074/3074 - 0s - loss: 0.1499 - acc: 0.0000e+00 - val_loss: 5.9570 - val_acc: 0.0000e+00\n",
      "Epoch 282/500\n",
      "3074/3074 - 0s - loss: 0.1515 - acc: 0.0000e+00 - val_loss: 6.2802 - val_acc: 0.0000e+00\n",
      "Epoch 283/500\n",
      "3074/3074 - 0s - loss: 0.1699 - acc: 0.0000e+00 - val_loss: 7.8026 - val_acc: 0.0000e+00\n",
      "Epoch 284/500\n",
      "3074/3074 - 0s - loss: 0.1592 - acc: 0.0000e+00 - val_loss: 5.1557 - val_acc: 0.0000e+00\n",
      "Epoch 285/500\n",
      "3074/3074 - 0s - loss: 0.1965 - acc: 0.0000e+00 - val_loss: 8.3895 - val_acc: 0.0000e+00\n",
      "Epoch 286/500\n",
      "3074/3074 - 0s - loss: 0.1482 - acc: 0.0000e+00 - val_loss: 7.8894 - val_acc: 0.0000e+00\n",
      "Epoch 287/500\n",
      "3074/3074 - 0s - loss: 0.1542 - acc: 0.0000e+00 - val_loss: 3.8395 - val_acc: 0.0000e+00\n",
      "Epoch 288/500\n",
      "3074/3074 - 0s - loss: 0.1582 - acc: 0.0000e+00 - val_loss: 2.5420 - val_acc: 0.0000e+00\n",
      "Epoch 289/500\n",
      "3074/3074 - 1s - loss: 0.2100 - acc: 0.0000e+00 - val_loss: 5.4424 - val_acc: 0.0000e+00\n",
      "Epoch 290/500\n",
      "3074/3074 - 1s - loss: 0.1393 - acc: 0.0000e+00 - val_loss: 7.3803 - val_acc: 0.0000e+00\n",
      "Epoch 291/500\n",
      "3074/3074 - 0s - loss: 0.1549 - acc: 0.0000e+00 - val_loss: 3.3612 - val_acc: 0.0000e+00\n",
      "Epoch 292/500\n",
      "3074/3074 - 1s - loss: 0.1554 - acc: 0.0000e+00 - val_loss: 8.9044 - val_acc: 0.0000e+00\n",
      "Epoch 293/500\n",
      "3074/3074 - 0s - loss: 0.1628 - acc: 0.0000e+00 - val_loss: 28.6127 - val_acc: 0.0000e+00\n",
      "Epoch 294/500\n",
      "3074/3074 - 0s - loss: 0.3991 - acc: 0.0000e+00 - val_loss: 7.3347 - val_acc: 0.0000e+00\n",
      "Epoch 295/500\n",
      "3074/3074 - 0s - loss: 0.1644 - acc: 0.0000e+00 - val_loss: 5.2846 - val_acc: 0.0000e+00\n",
      "Epoch 296/500\n",
      "3074/3074 - 0s - loss: 0.1594 - acc: 0.0000e+00 - val_loss: 3.4777 - val_acc: 0.0000e+00\n",
      "Epoch 297/500\n",
      "3074/3074 - 0s - loss: 0.1472 - acc: 0.0000e+00 - val_loss: 8.1226 - val_acc: 0.0000e+00\n",
      "Epoch 298/500\n",
      "3074/3074 - 0s - loss: 0.1484 - acc: 0.0000e+00 - val_loss: 8.7335 - val_acc: 0.0000e+00\n",
      "Epoch 299/500\n",
      "3074/3074 - 0s - loss: 0.1478 - acc: 0.0000e+00 - val_loss: 6.6317 - val_acc: 0.0000e+00\n",
      "Epoch 300/500\n",
      "3074/3074 - 0s - loss: 0.1677 - acc: 0.0000e+00 - val_loss: 6.4187 - val_acc: 0.0000e+00\n",
      "Epoch 301/500\n",
      "3074/3074 - 0s - loss: 0.1714 - acc: 0.0000e+00 - val_loss: 5.9203 - val_acc: 0.0000e+00\n",
      "Epoch 302/500\n",
      "3074/3074 - 1s - loss: 0.1528 - acc: 0.0000e+00 - val_loss: 10.6562 - val_acc: 0.0000e+00\n",
      "Epoch 303/500\n",
      "3074/3074 - 0s - loss: 0.1572 - acc: 0.0000e+00 - val_loss: 9.0072 - val_acc: 0.0000e+00\n",
      "Epoch 304/500\n",
      "3074/3074 - 0s - loss: 0.1521 - acc: 0.0000e+00 - val_loss: 8.4044 - val_acc: 0.0000e+00\n",
      "Epoch 305/500\n",
      "3074/3074 - 0s - loss: 0.1425 - acc: 0.0000e+00 - val_loss: 8.2071 - val_acc: 0.0000e+00\n",
      "Epoch 306/500\n",
      "3074/3074 - 0s - loss: 0.1463 - acc: 0.0000e+00 - val_loss: 2.9451 - val_acc: 0.0000e+00\n",
      "Epoch 307/500\n",
      "3074/3074 - 0s - loss: 0.1661 - acc: 0.0000e+00 - val_loss: 9.4724 - val_acc: 0.0000e+00\n",
      "Epoch 308/500\n",
      "3074/3074 - 0s - loss: 0.1510 - acc: 0.0000e+00 - val_loss: 3.0402 - val_acc: 0.0000e+00\n",
      "Epoch 309/500\n",
      "3074/3074 - 0s - loss: 0.1423 - acc: 0.0000e+00 - val_loss: 5.9521 - val_acc: 0.0000e+00\n",
      "Epoch 310/500\n",
      "3074/3074 - 0s - loss: 0.1505 - acc: 0.0000e+00 - val_loss: 7.0735 - val_acc: 0.0000e+00\n",
      "Epoch 311/500\n",
      "3074/3074 - 0s - loss: 0.1589 - acc: 0.0000e+00 - val_loss: 4.0742 - val_acc: 0.0000e+00\n",
      "Epoch 312/500\n",
      "3074/3074 - 0s - loss: 0.1434 - acc: 0.0000e+00 - val_loss: 7.6230 - val_acc: 0.0000e+00\n",
      "Epoch 313/500\n",
      "3074/3074 - 0s - loss: 0.1591 - acc: 0.0000e+00 - val_loss: 3.8536 - val_acc: 0.0000e+00\n",
      "Epoch 314/500\n",
      "3074/3074 - 0s - loss: 0.1512 - acc: 0.0000e+00 - val_loss: 5.9450 - val_acc: 0.0000e+00\n",
      "Epoch 315/500\n",
      "3074/3074 - 0s - loss: 0.1477 - acc: 0.0000e+00 - val_loss: 5.1139 - val_acc: 0.0000e+00\n",
      "Epoch 316/500\n",
      "3074/3074 - 0s - loss: 0.1592 - acc: 0.0000e+00 - val_loss: 10.9711 - val_acc: 0.0000e+00\n",
      "Epoch 317/500\n",
      "3074/3074 - 0s - loss: 0.1582 - acc: 0.0000e+00 - val_loss: 22.4508 - val_acc: 0.0000e+00\n",
      "Epoch 318/500\n",
      "3074/3074 - 0s - loss: 0.1896 - acc: 0.0000e+00 - val_loss: 3.6383 - val_acc: 0.0000e+00\n",
      "Epoch 319/500\n",
      "3074/3074 - 0s - loss: 0.1641 - acc: 0.0000e+00 - val_loss: 8.2309 - val_acc: 0.0000e+00\n",
      "Epoch 320/500\n",
      "3074/3074 - 0s - loss: 0.1443 - acc: 0.0000e+00 - val_loss: 2.3826 - val_acc: 0.0000e+00\n"
     ]
    },
    {
     "name": "stdout",
     "output_type": "stream",
     "text": [
      "Epoch 321/500\n",
      "3074/3074 - 0s - loss: 0.1863 - acc: 0.0000e+00 - val_loss: 7.8394 - val_acc: 0.0000e+00\n",
      "Epoch 322/500\n",
      "3074/3074 - 0s - loss: 0.1566 - acc: 0.0000e+00 - val_loss: 11.2667 - val_acc: 0.0000e+00\n",
      "Epoch 323/500\n",
      "3074/3074 - 0s - loss: 0.1442 - acc: 0.0000e+00 - val_loss: 7.6236 - val_acc: 0.0000e+00\n",
      "Epoch 324/500\n",
      "3074/3074 - 1s - loss: 0.1373 - acc: 0.0000e+00 - val_loss: 4.9362 - val_acc: 0.0000e+00\n",
      "Epoch 325/500\n",
      "3074/3074 - 1s - loss: 0.1688 - acc: 0.0000e+00 - val_loss: 5.7744 - val_acc: 0.0000e+00\n",
      "Epoch 326/500\n",
      "3074/3074 - 0s - loss: 0.1455 - acc: 0.0000e+00 - val_loss: 6.2802 - val_acc: 0.0000e+00\n",
      "Epoch 327/500\n",
      "3074/3074 - 0s - loss: 0.1554 - acc: 0.0000e+00 - val_loss: 3.4106 - val_acc: 0.0000e+00\n",
      "Epoch 328/500\n",
      "3074/3074 - 0s - loss: 0.1642 - acc: 0.0000e+00 - val_loss: 2.4539 - val_acc: 0.0000e+00\n",
      "Epoch 329/500\n",
      "3074/3074 - 0s - loss: 0.2203 - acc: 0.0000e+00 - val_loss: 11.7503 - val_acc: 0.0000e+00\n",
      "Epoch 330/500\n",
      "3074/3074 - 0s - loss: 0.1864 - acc: 0.0000e+00 - val_loss: 4.6534 - val_acc: 0.0000e+00\n",
      "Epoch 331/500\n",
      "3074/3074 - 0s - loss: 0.2190 - acc: 0.0000e+00 - val_loss: 6.4077 - val_acc: 0.0000e+00\n",
      "Epoch 332/500\n",
      "3074/3074 - 0s - loss: 0.1391 - acc: 0.0000e+00 - val_loss: 4.3203 - val_acc: 0.0000e+00\n",
      "Epoch 333/500\n",
      "3074/3074 - 0s - loss: 0.1668 - acc: 0.0000e+00 - val_loss: 6.0011 - val_acc: 0.0000e+00\n",
      "Epoch 334/500\n",
      "3074/3074 - 0s - loss: 0.1480 - acc: 0.0000e+00 - val_loss: 3.7462 - val_acc: 0.0000e+00\n",
      "Epoch 335/500\n",
      "3074/3074 - 0s - loss: 0.1735 - acc: 0.0000e+00 - val_loss: 3.4513 - val_acc: 0.0000e+00\n",
      "Epoch 336/500\n",
      "3074/3074 - 0s - loss: 0.1668 - acc: 0.0000e+00 - val_loss: 3.0129 - val_acc: 0.0000e+00\n",
      "Epoch 337/500\n",
      "3074/3074 - 0s - loss: 0.1443 - acc: 0.0000e+00 - val_loss: 2.6993 - val_acc: 0.0000e+00\n",
      "Epoch 338/500\n",
      "3074/3074 - 0s - loss: 0.1488 - acc: 0.0000e+00 - val_loss: 4.2063 - val_acc: 0.0000e+00\n",
      "Epoch 339/500\n",
      "3074/3074 - 0s - loss: 0.1623 - acc: 0.0000e+00 - val_loss: 3.4780 - val_acc: 0.0000e+00\n",
      "Epoch 340/500\n",
      "3074/3074 - 0s - loss: 0.1913 - acc: 0.0000e+00 - val_loss: 4.5077 - val_acc: 0.0000e+00\n",
      "Epoch 341/500\n",
      "3074/3074 - 1s - loss: 0.1598 - acc: 0.0000e+00 - val_loss: 2.8591 - val_acc: 0.0000e+00\n",
      "Epoch 342/500\n",
      "3074/3074 - 1s - loss: 0.1625 - acc: 0.0000e+00 - val_loss: 3.0981 - val_acc: 0.0000e+00\n",
      "Epoch 343/500\n",
      "3074/3074 - 0s - loss: 0.1601 - acc: 0.0000e+00 - val_loss: 11.3883 - val_acc: 0.0000e+00\n",
      "Epoch 344/500\n",
      "3074/3074 - 0s - loss: 0.1563 - acc: 0.0000e+00 - val_loss: 3.0077 - val_acc: 0.0000e+00\n",
      "Epoch 345/500\n",
      "3074/3074 - 0s - loss: 0.1455 - acc: 0.0000e+00 - val_loss: 5.8886 - val_acc: 0.0000e+00\n",
      "Epoch 346/500\n",
      "3074/3074 - 0s - loss: 0.1389 - acc: 0.0000e+00 - val_loss: 7.4254 - val_acc: 0.0000e+00\n",
      "Epoch 347/500\n",
      "3074/3074 - 0s - loss: 0.1618 - acc: 0.0000e+00 - val_loss: 11.2505 - val_acc: 0.0000e+00\n",
      "Epoch 348/500\n",
      "3074/3074 - 0s - loss: 0.1685 - acc: 0.0000e+00 - val_loss: 13.9433 - val_acc: 0.0000e+00\n",
      "Epoch 349/500\n",
      "3074/3074 - 0s - loss: 0.1499 - acc: 0.0000e+00 - val_loss: 10.9366 - val_acc: 0.0000e+00\n",
      "Epoch 350/500\n",
      "3074/3074 - 0s - loss: 0.1661 - acc: 0.0000e+00 - val_loss: 4.4872 - val_acc: 0.0000e+00\n",
      "Epoch 351/500\n",
      "3074/3074 - 0s - loss: 0.1551 - acc: 0.0000e+00 - val_loss: 4.8473 - val_acc: 0.0000e+00\n",
      "Epoch 352/500\n",
      "3074/3074 - 0s - loss: 0.1370 - acc: 0.0000e+00 - val_loss: 3.5085 - val_acc: 0.0000e+00\n",
      "Epoch 353/500\n",
      "3074/3074 - 0s - loss: 0.1454 - acc: 0.0000e+00 - val_loss: 9.6710 - val_acc: 0.0000e+00\n",
      "Epoch 354/500\n",
      "3074/3074 - 0s - loss: 0.1411 - acc: 0.0000e+00 - val_loss: 10.0313 - val_acc: 0.0000e+00\n",
      "Epoch 355/500\n",
      "3074/3074 - 0s - loss: 0.1467 - acc: 0.0000e+00 - val_loss: 4.4954 - val_acc: 0.0000e+00\n",
      "Epoch 356/500\n",
      "3074/3074 - 0s - loss: 0.1335 - acc: 0.0000e+00 - val_loss: 5.9739 - val_acc: 0.0000e+00\n",
      "Epoch 357/500\n",
      "3074/3074 - 0s - loss: 0.1367 - acc: 0.0000e+00 - val_loss: 3.4912 - val_acc: 0.0000e+00\n",
      "Epoch 358/500\n",
      "3074/3074 - 0s - loss: 0.1370 - acc: 0.0000e+00 - val_loss: 4.2572 - val_acc: 0.0000e+00\n",
      "Epoch 359/500\n",
      "3074/3074 - 0s - loss: 0.1407 - acc: 0.0000e+00 - val_loss: 6.5000 - val_acc: 0.0000e+00\n",
      "Epoch 360/500\n",
      "3074/3074 - 0s - loss: 0.1421 - acc: 0.0000e+00 - val_loss: 4.2589 - val_acc: 0.0000e+00\n",
      "Epoch 361/500\n",
      "3074/3074 - 1s - loss: 0.1393 - acc: 0.0000e+00 - val_loss: 4.5516 - val_acc: 0.0000e+00\n",
      "Epoch 362/500\n",
      "3074/3074 - 1s - loss: 0.1529 - acc: 0.0000e+00 - val_loss: 4.5448 - val_acc: 0.0000e+00\n",
      "Epoch 363/500\n",
      "3074/3074 - 0s - loss: 0.1453 - acc: 0.0000e+00 - val_loss: 9.8214 - val_acc: 0.0000e+00\n",
      "Epoch 364/500\n",
      "3074/3074 - 0s - loss: 0.1882 - acc: 0.0000e+00 - val_loss: 10.9152 - val_acc: 0.0000e+00\n",
      "Epoch 365/500\n",
      "3074/3074 - 0s - loss: 0.1476 - acc: 0.0000e+00 - val_loss: 4.8460 - val_acc: 0.0000e+00\n",
      "Epoch 366/500\n",
      "3074/3074 - 0s - loss: 0.1530 - acc: 0.0000e+00 - val_loss: 2.7750 - val_acc: 0.0000e+00\n",
      "Epoch 367/500\n",
      "3074/3074 - 0s - loss: 0.1673 - acc: 0.0000e+00 - val_loss: 7.4238 - val_acc: 0.0000e+00\n",
      "Epoch 368/500\n",
      "3074/3074 - 0s - loss: 0.1700 - acc: 0.0000e+00 - val_loss: 2.9831 - val_acc: 0.0000e+00\n",
      "Epoch 369/500\n",
      "3074/3074 - 0s - loss: 0.1534 - acc: 0.0000e+00 - val_loss: 5.7142 - val_acc: 0.0000e+00\n",
      "Epoch 370/500\n",
      "3074/3074 - 0s - loss: 0.1427 - acc: 0.0000e+00 - val_loss: 6.8626 - val_acc: 0.0000e+00\n",
      "Epoch 371/500\n",
      "3074/3074 - 0s - loss: 0.1512 - acc: 0.0000e+00 - val_loss: 3.6175 - val_acc: 0.0000e+00\n",
      "Epoch 372/500\n",
      "3074/3074 - 0s - loss: 0.1675 - acc: 0.0000e+00 - val_loss: 3.0265 - val_acc: 0.0000e+00\n",
      "Epoch 373/500\n",
      "3074/3074 - 0s - loss: 0.1428 - acc: 0.0000e+00 - val_loss: 4.7373 - val_acc: 0.0000e+00\n",
      "Epoch 374/500\n",
      "3074/3074 - 0s - loss: 0.1490 - acc: 0.0000e+00 - val_loss: 8.4348 - val_acc: 0.0000e+00\n",
      "Epoch 375/500\n",
      "3074/3074 - 0s - loss: 0.1429 - acc: 0.0000e+00 - val_loss: 9.0777 - val_acc: 0.0000e+00\n",
      "Epoch 376/500\n",
      "3074/3074 - 0s - loss: 0.1477 - acc: 0.0000e+00 - val_loss: 9.8845 - val_acc: 0.0000e+00\n",
      "Epoch 377/500\n",
      "3074/3074 - 0s - loss: 0.1596 - acc: 0.0000e+00 - val_loss: 6.8357 - val_acc: 0.0000e+00\n",
      "Epoch 378/500\n",
      "3074/3074 - 0s - loss: 0.1639 - acc: 0.0000e+00 - val_loss: 5.4815 - val_acc: 0.0000e+00\n",
      "Epoch 379/500\n",
      "3074/3074 - 0s - loss: 0.1649 - acc: 0.0000e+00 - val_loss: 12.9310 - val_acc: 0.0000e+00\n",
      "Epoch 380/500\n",
      "3074/3074 - 0s - loss: 0.1709 - acc: 0.0000e+00 - val_loss: 3.4851 - val_acc: 0.0000e+00\n",
      "Epoch 381/500\n",
      "3074/3074 - 0s - loss: 0.1695 - acc: 0.0000e+00 - val_loss: 7.0272 - val_acc: 0.0000e+00\n",
      "Epoch 382/500\n",
      "3074/3074 - 0s - loss: 0.1422 - acc: 0.0000e+00 - val_loss: 2.5609 - val_acc: 0.0000e+00\n",
      "Epoch 383/500\n",
      "3074/3074 - 0s - loss: 0.1465 - acc: 0.0000e+00 - val_loss: 3.4923 - val_acc: 0.0000e+00\n",
      "Epoch 384/500\n",
      "3074/3074 - 0s - loss: 0.1491 - acc: 0.0000e+00 - val_loss: 3.4343 - val_acc: 0.0000e+00\n",
      "Epoch 385/500\n",
      "3074/3074 - 1s - loss: 0.1395 - acc: 0.0000e+00 - val_loss: 4.4060 - val_acc: 0.0000e+00\n",
      "Epoch 386/500\n",
      "3074/3074 - 0s - loss: 0.1763 - acc: 0.0000e+00 - val_loss: 5.4620 - val_acc: 0.0000e+00\n",
      "Epoch 387/500\n",
      "3074/3074 - 0s - loss: 0.1667 - acc: 0.0000e+00 - val_loss: 3.5821 - val_acc: 0.0000e+00\n",
      "Epoch 388/500\n",
      "3074/3074 - 1s - loss: 0.1509 - acc: 0.0000e+00 - val_loss: 4.1528 - val_acc: 0.0000e+00\n",
      "Epoch 389/500\n",
      "3074/3074 - 0s - loss: 0.1384 - acc: 0.0000e+00 - val_loss: 5.3255 - val_acc: 0.0000e+00\n",
      "Epoch 390/500\n",
      "3074/3074 - 1s - loss: 0.1443 - acc: 0.0000e+00 - val_loss: 3.7693 - val_acc: 0.0000e+00\n",
      "Epoch 391/500\n",
      "3074/3074 - 0s - loss: 0.1462 - acc: 0.0000e+00 - val_loss: 4.8916 - val_acc: 0.0000e+00\n",
      "Epoch 392/500\n",
      "3074/3074 - 0s - loss: 0.1618 - acc: 0.0000e+00 - val_loss: 6.9705 - val_acc: 0.0000e+00\n",
      "Epoch 393/500\n",
      "3074/3074 - 0s - loss: 0.1585 - acc: 0.0000e+00 - val_loss: 5.5452 - val_acc: 0.0000e+00\n",
      "Epoch 394/500\n",
      "3074/3074 - 0s - loss: 0.1573 - acc: 0.0000e+00 - val_loss: 5.6576 - val_acc: 0.0000e+00\n",
      "Epoch 395/500\n",
      "3074/3074 - 1s - loss: 0.1481 - acc: 0.0000e+00 - val_loss: 6.3777 - val_acc: 0.0000e+00\n",
      "Epoch 396/500\n",
      "3074/3074 - 0s - loss: 0.1511 - acc: 0.0000e+00 - val_loss: 2.5347 - val_acc: 0.0000e+00\n",
      "Epoch 397/500\n",
      "3074/3074 - 1s - loss: 0.1513 - acc: 0.0000e+00 - val_loss: 5.6461 - val_acc: 0.0000e+00\n",
      "Epoch 398/500\n",
      "3074/3074 - 0s - loss: 0.1405 - acc: 0.0000e+00 - val_loss: 2.6535 - val_acc: 0.0000e+00\n",
      "Epoch 399/500\n",
      "3074/3074 - 0s - loss: 0.1501 - acc: 0.0000e+00 - val_loss: 3.3643 - val_acc: 0.0000e+00\n",
      "Epoch 400/500\n",
      "3074/3074 - 0s - loss: 0.1588 - acc: 0.0000e+00 - val_loss: 3.8805 - val_acc: 0.0000e+00\n"
     ]
    },
    {
     "name": "stdout",
     "output_type": "stream",
     "text": [
      "Epoch 401/500\n",
      "3074/3074 - 0s - loss: 0.1448 - acc: 0.0000e+00 - val_loss: 11.1647 - val_acc: 0.0000e+00\n",
      "Epoch 402/500\n",
      "3074/3074 - 0s - loss: 0.1564 - acc: 0.0000e+00 - val_loss: 2.5987 - val_acc: 0.0000e+00\n",
      "Epoch 403/500\n",
      "3074/3074 - 0s - loss: 0.1995 - acc: 0.0000e+00 - val_loss: 2.4764 - val_acc: 0.0000e+00\n",
      "Epoch 404/500\n",
      "3074/3074 - 0s - loss: 0.1462 - acc: 0.0000e+00 - val_loss: 6.1470 - val_acc: 0.0000e+00\n",
      "Epoch 405/500\n",
      "3074/3074 - 0s - loss: 0.1400 - acc: 0.0000e+00 - val_loss: 2.8144 - val_acc: 0.0000e+00\n",
      "Epoch 406/500\n",
      "3074/3074 - 0s - loss: 0.1575 - acc: 0.0000e+00 - val_loss: 4.7825 - val_acc: 0.0000e+00\n",
      "Epoch 407/500\n",
      "3074/3074 - 0s - loss: 0.1568 - acc: 0.0000e+00 - val_loss: 7.9926 - val_acc: 0.0000e+00\n",
      "Epoch 408/500\n",
      "3074/3074 - 0s - loss: 0.1493 - acc: 0.0000e+00 - val_loss: 12.0149 - val_acc: 0.0000e+00\n",
      "Epoch 409/500\n",
      "3074/3074 - 0s - loss: 0.2124 - acc: 0.0000e+00 - val_loss: 7.6850 - val_acc: 0.0000e+00\n",
      "Epoch 410/500\n",
      "3074/3074 - 0s - loss: 0.1501 - acc: 0.0000e+00 - val_loss: 6.4971 - val_acc: 0.0000e+00\n",
      "Epoch 411/500\n",
      "3074/3074 - 1s - loss: 0.1566 - acc: 0.0000e+00 - val_loss: 5.4130 - val_acc: 0.0000e+00\n",
      "Epoch 412/500\n",
      "3074/3074 - 0s - loss: 0.1764 - acc: 0.0000e+00 - val_loss: 6.8553 - val_acc: 0.0000e+00\n",
      "Epoch 413/500\n",
      "3074/3074 - 0s - loss: 0.1518 - acc: 0.0000e+00 - val_loss: 2.4595 - val_acc: 0.0000e+00\n",
      "Epoch 414/500\n",
      "3074/3074 - 0s - loss: 0.1888 - acc: 0.0000e+00 - val_loss: 7.5859 - val_acc: 0.0000e+00\n",
      "Epoch 415/500\n",
      "3074/3074 - 0s - loss: 0.1508 - acc: 0.0000e+00 - val_loss: 10.0186 - val_acc: 0.0000e+00\n",
      "Epoch 416/500\n",
      "3074/3074 - 0s - loss: 0.1457 - acc: 0.0000e+00 - val_loss: 5.6037 - val_acc: 0.0000e+00\n",
      "Epoch 417/500\n",
      "3074/3074 - 0s - loss: 0.1446 - acc: 0.0000e+00 - val_loss: 6.3744 - val_acc: 0.0000e+00\n",
      "Epoch 418/500\n",
      "3074/3074 - 0s - loss: 0.1403 - acc: 0.0000e+00 - val_loss: 3.1637 - val_acc: 0.0000e+00\n",
      "Epoch 419/500\n",
      "3074/3074 - 0s - loss: 0.1570 - acc: 0.0000e+00 - val_loss: 6.9825 - val_acc: 0.0000e+00\n",
      "Epoch 420/500\n",
      "3074/3074 - 0s - loss: 0.1425 - acc: 0.0000e+00 - val_loss: 7.4862 - val_acc: 0.0000e+00\n",
      "Epoch 421/500\n",
      "3074/3074 - 0s - loss: 0.1484 - acc: 0.0000e+00 - val_loss: 9.5711 - val_acc: 0.0000e+00\n",
      "Epoch 422/500\n",
      "3074/3074 - 0s - loss: 0.1478 - acc: 0.0000e+00 - val_loss: 5.3322 - val_acc: 0.0000e+00\n",
      "Epoch 423/500\n",
      "3074/3074 - 0s - loss: 0.1500 - acc: 0.0000e+00 - val_loss: 5.4608 - val_acc: 0.0000e+00\n",
      "Epoch 424/500\n",
      "3074/3074 - 0s - loss: 0.1538 - acc: 0.0000e+00 - val_loss: 2.6880 - val_acc: 0.0000e+00\n",
      "Epoch 425/500\n",
      "3074/3074 - 0s - loss: 0.1609 - acc: 0.0000e+00 - val_loss: 8.0893 - val_acc: 0.0000e+00\n",
      "Epoch 426/500\n",
      "3074/3074 - 0s - loss: 0.1578 - acc: 0.0000e+00 - val_loss: 7.4720 - val_acc: 0.0000e+00\n",
      "Epoch 427/500\n",
      "3074/3074 - 0s - loss: 0.1757 - acc: 0.0000e+00 - val_loss: 13.1952 - val_acc: 0.0000e+00\n",
      "Epoch 428/500\n",
      "3074/3074 - 0s - loss: 0.1628 - acc: 0.0000e+00 - val_loss: 7.8582 - val_acc: 0.0000e+00\n",
      "Epoch 429/500\n",
      "3074/3074 - 0s - loss: 0.1433 - acc: 0.0000e+00 - val_loss: 6.8951 - val_acc: 0.0000e+00\n",
      "Epoch 430/500\n",
      "3074/3074 - 0s - loss: 0.1681 - acc: 0.0000e+00 - val_loss: 7.5643 - val_acc: 0.0000e+00\n",
      "Epoch 431/500\n",
      "3074/3074 - 1s - loss: 0.1486 - acc: 0.0000e+00 - val_loss: 8.1640 - val_acc: 0.0000e+00\n",
      "Epoch 432/500\n",
      "3074/3074 - 1s - loss: 0.1540 - acc: 0.0000e+00 - val_loss: 6.8241 - val_acc: 0.0000e+00\n",
      "Epoch 433/500\n",
      "3074/3074 - 1s - loss: 0.1435 - acc: 0.0000e+00 - val_loss: 11.0128 - val_acc: 0.0000e+00\n",
      "Epoch 434/500\n",
      "3074/3074 - 1s - loss: 0.1405 - acc: 0.0000e+00 - val_loss: 9.7368 - val_acc: 0.0000e+00\n",
      "Epoch 435/500\n",
      "3074/3074 - 0s - loss: 0.1443 - acc: 0.0000e+00 - val_loss: 18.5871 - val_acc: 0.0000e+00\n",
      "Epoch 436/500\n",
      "3074/3074 - 0s - loss: 0.1603 - acc: 0.0000e+00 - val_loss: 9.4402 - val_acc: 0.0000e+00\n",
      "Epoch 437/500\n",
      "3074/3074 - 0s - loss: 0.1426 - acc: 0.0000e+00 - val_loss: 6.2047 - val_acc: 0.0000e+00\n",
      "Epoch 438/500\n",
      "3074/3074 - 0s - loss: 0.1632 - acc: 0.0000e+00 - val_loss: 3.4414 - val_acc: 0.0000e+00\n",
      "Epoch 439/500\n",
      "3074/3074 - 0s - loss: 0.1548 - acc: 0.0000e+00 - val_loss: 9.8468 - val_acc: 0.0000e+00\n",
      "Epoch 440/500\n",
      "3074/3074 - 0s - loss: 0.1451 - acc: 0.0000e+00 - val_loss: 8.5798 - val_acc: 0.0000e+00\n",
      "Epoch 441/500\n",
      "3074/3074 - 0s - loss: 0.1486 - acc: 0.0000e+00 - val_loss: 19.9933 - val_acc: 0.0000e+00\n",
      "Epoch 442/500\n",
      "3074/3074 - 0s - loss: 0.1811 - acc: 0.0000e+00 - val_loss: 4.5121 - val_acc: 0.0000e+00\n",
      "Epoch 443/500\n",
      "3074/3074 - 1s - loss: 0.2195 - acc: 0.0000e+00 - val_loss: 3.0615 - val_acc: 0.0000e+00\n",
      "Epoch 444/500\n",
      "3074/3074 - 1s - loss: 0.1377 - acc: 0.0000e+00 - val_loss: 8.2480 - val_acc: 0.0000e+00\n",
      "Epoch 445/500\n",
      "3074/3074 - 0s - loss: 0.1428 - acc: 0.0000e+00 - val_loss: 6.1438 - val_acc: 0.0000e+00\n",
      "Epoch 446/500\n",
      "3074/3074 - 0s - loss: 0.1700 - acc: 0.0000e+00 - val_loss: 9.9342 - val_acc: 0.0000e+00\n",
      "Epoch 447/500\n",
      "3074/3074 - 0s - loss: 0.1430 - acc: 0.0000e+00 - val_loss: 3.6339 - val_acc: 0.0000e+00\n",
      "Epoch 448/500\n",
      "3074/3074 - 0s - loss: 0.1620 - acc: 0.0000e+00 - val_loss: 7.1906 - val_acc: 0.0000e+00\n",
      "Epoch 449/500\n",
      "3074/3074 - 0s - loss: 0.1549 - acc: 0.0000e+00 - val_loss: 2.9854 - val_acc: 0.0000e+00\n",
      "Epoch 450/500\n",
      "3074/3074 - 0s - loss: 0.1805 - acc: 0.0000e+00 - val_loss: 11.2698 - val_acc: 0.0000e+00\n",
      "Epoch 451/500\n",
      "3074/3074 - 0s - loss: 0.1753 - acc: 0.0000e+00 - val_loss: 5.8568 - val_acc: 0.0000e+00\n",
      "Epoch 452/500\n",
      "3074/3074 - 0s - loss: 0.1408 - acc: 0.0000e+00 - val_loss: 14.0036 - val_acc: 0.0000e+00\n",
      "Epoch 453/500\n",
      "3074/3074 - 1s - loss: 0.1345 - acc: 0.0000e+00 - val_loss: 3.9411 - val_acc: 0.0000e+00\n",
      "Epoch 454/500\n",
      "3074/3074 - 0s - loss: 0.1327 - acc: 0.0000e+00 - val_loss: 11.3220 - val_acc: 0.0000e+00\n",
      "Epoch 455/500\n",
      "3074/3074 - 0s - loss: 0.1700 - acc: 0.0000e+00 - val_loss: 6.2877 - val_acc: 0.0000e+00\n",
      "Epoch 456/500\n",
      "3074/3074 - 0s - loss: 0.1301 - acc: 0.0000e+00 - val_loss: 9.3180 - val_acc: 0.0000e+00\n",
      "Epoch 457/500\n",
      "3074/3074 - 1s - loss: 0.1674 - acc: 0.0000e+00 - val_loss: 8.2971 - val_acc: 0.0000e+00\n",
      "Epoch 458/500\n",
      "3074/3074 - 1s - loss: 0.1463 - acc: 0.0000e+00 - val_loss: 6.2137 - val_acc: 0.0000e+00\n",
      "Epoch 459/500\n",
      "3074/3074 - 1s - loss: 0.1430 - acc: 0.0000e+00 - val_loss: 9.9144 - val_acc: 0.0000e+00\n",
      "Epoch 460/500\n",
      "3074/3074 - 1s - loss: 0.1293 - acc: 0.0000e+00 - val_loss: 4.8179 - val_acc: 0.0000e+00\n",
      "Epoch 461/500\n",
      "3074/3074 - 1s - loss: 0.1482 - acc: 0.0000e+00 - val_loss: 3.8794 - val_acc: 0.0000e+00\n",
      "Epoch 462/500\n",
      "3074/3074 - 1s - loss: 0.1649 - acc: 0.0000e+00 - val_loss: 2.6327 - val_acc: 0.0000e+00\n",
      "Epoch 463/500\n",
      "3074/3074 - 0s - loss: 0.1441 - acc: 0.0000e+00 - val_loss: 7.3898 - val_acc: 0.0000e+00\n",
      "Epoch 464/500\n",
      "3074/3074 - 0s - loss: 0.1440 - acc: 0.0000e+00 - val_loss: 5.0501 - val_acc: 0.0000e+00\n",
      "Epoch 465/500\n",
      "3074/3074 - 0s - loss: 0.1332 - acc: 0.0000e+00 - val_loss: 12.5002 - val_acc: 0.0000e+00\n",
      "Epoch 466/500\n",
      "3074/3074 - 0s - loss: 0.1486 - acc: 0.0000e+00 - val_loss: 5.1482 - val_acc: 0.0000e+00\n",
      "Epoch 467/500\n",
      "3074/3074 - 0s - loss: 0.1858 - acc: 0.0000e+00 - val_loss: 3.6755 - val_acc: 0.0000e+00\n",
      "Epoch 468/500\n",
      "3074/3074 - 0s - loss: 0.1408 - acc: 0.0000e+00 - val_loss: 6.1337 - val_acc: 0.0000e+00\n",
      "Epoch 469/500\n",
      "3074/3074 - 0s - loss: 0.1415 - acc: 0.0000e+00 - val_loss: 4.3967 - val_acc: 0.0000e+00\n",
      "Epoch 470/500\n",
      "3074/3074 - 0s - loss: 0.1583 - acc: 0.0000e+00 - val_loss: 9.2470 - val_acc: 0.0000e+00\n",
      "Epoch 471/500\n",
      "3074/3074 - 0s - loss: 0.1385 - acc: 0.0000e+00 - val_loss: 4.8520 - val_acc: 0.0000e+00\n",
      "Epoch 472/500\n",
      "3074/3074 - 0s - loss: 0.1550 - acc: 0.0000e+00 - val_loss: 8.7079 - val_acc: 0.0000e+00\n",
      "Epoch 473/500\n",
      "3074/3074 - 0s - loss: 0.1513 - acc: 0.0000e+00 - val_loss: 11.8698 - val_acc: 0.0000e+00\n",
      "Epoch 474/500\n",
      "3074/3074 - 0s - loss: 0.1615 - acc: 0.0000e+00 - val_loss: 13.9460 - val_acc: 0.0000e+00\n",
      "Epoch 475/500\n",
      "3074/3074 - 0s - loss: 0.1553 - acc: 0.0000e+00 - val_loss: 5.6240 - val_acc: 0.0000e+00\n",
      "Epoch 476/500\n",
      "3074/3074 - 0s - loss: 0.1560 - acc: 0.0000e+00 - val_loss: 9.6643 - val_acc: 0.0000e+00\n",
      "Epoch 477/500\n",
      "3074/3074 - 0s - loss: 0.1472 - acc: 0.0000e+00 - val_loss: 8.2256 - val_acc: 0.0000e+00\n",
      "Epoch 478/500\n",
      "3074/3074 - 0s - loss: 0.1570 - acc: 0.0000e+00 - val_loss: 3.5205 - val_acc: 0.0000e+00\n",
      "Epoch 479/500\n",
      "3074/3074 - 0s - loss: 0.1565 - acc: 0.0000e+00 - val_loss: 6.7499 - val_acc: 0.0000e+00\n",
      "Epoch 480/500\n",
      "3074/3074 - 0s - loss: 0.1366 - acc: 0.0000e+00 - val_loss: 10.3221 - val_acc: 0.0000e+00\n"
     ]
    },
    {
     "name": "stdout",
     "output_type": "stream",
     "text": [
      "Epoch 481/500\n",
      "3074/3074 - 0s - loss: 0.1579 - acc: 0.0000e+00 - val_loss: 4.5985 - val_acc: 0.0000e+00\n",
      "Epoch 482/500\n",
      "3074/3074 - 0s - loss: 0.1335 - acc: 0.0000e+00 - val_loss: 16.2472 - val_acc: 0.0000e+00\n",
      "Epoch 483/500\n",
      "3074/3074 - 0s - loss: 0.1462 - acc: 0.0000e+00 - val_loss: 10.9288 - val_acc: 0.0000e+00\n",
      "Epoch 484/500\n",
      "3074/3074 - 0s - loss: 0.1434 - acc: 0.0000e+00 - val_loss: 6.6407 - val_acc: 0.0000e+00\n",
      "Epoch 485/500\n",
      "3074/3074 - 0s - loss: 0.1643 - acc: 0.0000e+00 - val_loss: 4.4785 - val_acc: 0.0000e+00\n",
      "Epoch 486/500\n",
      "3074/3074 - 0s - loss: 0.1841 - acc: 0.0000e+00 - val_loss: 11.9360 - val_acc: 0.0000e+00\n",
      "Epoch 487/500\n",
      "3074/3074 - 0s - loss: 0.1618 - acc: 0.0000e+00 - val_loss: 5.6849 - val_acc: 0.0000e+00\n",
      "Epoch 488/500\n",
      "3074/3074 - 0s - loss: 0.1337 - acc: 0.0000e+00 - val_loss: 10.5566 - val_acc: 0.0000e+00\n",
      "Epoch 489/500\n",
      "3074/3074 - 0s - loss: 0.1388 - acc: 0.0000e+00 - val_loss: 9.2109 - val_acc: 0.0000e+00\n",
      "Epoch 490/500\n",
      "3074/3074 - 0s - loss: 0.1825 - acc: 0.0000e+00 - val_loss: 11.3631 - val_acc: 0.0000e+00\n",
      "Epoch 491/500\n",
      "3074/3074 - 0s - loss: 0.1429 - acc: 0.0000e+00 - val_loss: 6.2480 - val_acc: 0.0000e+00\n",
      "Epoch 492/500\n",
      "3074/3074 - 0s - loss: 0.1381 - acc: 0.0000e+00 - val_loss: 3.3188 - val_acc: 0.0000e+00\n",
      "Epoch 493/500\n",
      "3074/3074 - 0s - loss: 0.1443 - acc: 0.0000e+00 - val_loss: 8.5884 - val_acc: 0.0000e+00\n",
      "Epoch 494/500\n",
      "3074/3074 - 0s - loss: 0.1300 - acc: 0.0000e+00 - val_loss: 7.3287 - val_acc: 0.0000e+00\n",
      "Epoch 495/500\n",
      "3074/3074 - 0s - loss: 0.1495 - acc: 0.0000e+00 - val_loss: 3.2220 - val_acc: 0.0000e+00\n",
      "Epoch 496/500\n",
      "3074/3074 - 0s - loss: 0.1466 - acc: 0.0000e+00 - val_loss: 14.4592 - val_acc: 0.0000e+00\n",
      "Epoch 497/500\n",
      "3074/3074 - 0s - loss: 0.1828 - acc: 0.0000e+00 - val_loss: 10.9675 - val_acc: 0.0000e+00\n",
      "Epoch 498/500\n",
      "3074/3074 - 0s - loss: 0.1598 - acc: 0.0000e+00 - val_loss: 12.7130 - val_acc: 0.0000e+00\n",
      "Epoch 499/500\n",
      "3074/3074 - 1s - loss: 0.1589 - acc: 0.0000e+00 - val_loss: 5.8541 - val_acc: 0.0000e+00\n",
      "Epoch 500/500\n",
      "3074/3074 - 1s - loss: 0.1448 - acc: 0.0000e+00 - val_loss: 8.9393 - val_acc: 0.0000e+00\n"
     ]
    },
    {
     "data": {
      "text/plain": [
       "<tensorflow.python.keras.callbacks.History at 0x2887b0d18d0>"
      ]
     },
     "execution_count": 25,
     "metadata": {},
     "output_type": "execute_result"
    }
   ],
   "source": [
    "import os\n",
    "model.fit(Narray, NY_train,validation_data=(Narraytest, NY_test),verbose=2,epochs=500)"
   ]
  },
  {
   "cell_type": "code",
   "execution_count": 27,
   "metadata": {},
   "outputs": [],
   "source": [
    "pred = model.predict(Narraytest)"
   ]
  },
  {
   "cell_type": "code",
   "execution_count": 28,
   "metadata": {},
   "outputs": [
    {
     "name": "stdout",
     "output_type": "stream",
     "text": [
      "Score (RMSE): 2.9898605308666464\n"
     ]
    }
   ],
   "source": [
    "score = np.sqrt(metrics.mean_squared_error(pred,NY_test))\n",
    "print(\"Score (RMSE): {}\".format(score))"
   ]
  },
  {
   "cell_type": "code",
   "execution_count": 29,
   "metadata": {},
   "outputs": [
    {
     "name": "stderr",
     "output_type": "stream",
     "text": [
      "W1007 00:30:53.822524 11012 deprecation.py:506] From C:\\Users\\Amit\\Anaconda3\\lib\\site-packages\\tensorflow\\python\\keras\\initializers.py:119: calling RandomUniform.__init__ (from tensorflow.python.ops.init_ops) with dtype is deprecated and will be removed in a future version.\n",
      "Instructions for updating:\n",
      "Call initializer instance with the dtype argument instead of passing it to the constructor\n"
     ]
    },
    {
     "name": "stdout",
     "output_type": "stream",
     "text": [
      "Build model...\n",
      "Train...\n",
      "Train on 3074 samples, validate on 1318 samples\n"
     ]
    },
    {
     "name": "stderr",
     "output_type": "stream",
     "text": [
      "W1007 00:30:54.765775 11012 deprecation.py:323] From C:\\Users\\Amit\\Anaconda3\\lib\\site-packages\\tensorflow\\python\\ops\\math_grad.py:1250: add_dispatch_support.<locals>.wrapper (from tensorflow.python.ops.array_ops) is deprecated and will be removed in a future version.\n",
      "Instructions for updating:\n",
      "Use tf.where in 2.0, which has the same broadcast rule as np.where\n"
     ]
    },
    {
     "name": "stdout",
     "output_type": "stream",
     "text": [
      "Epoch 1/100\n",
      "3074/3074 - 47s - loss: 30.7490 - val_loss: 5.3561\n",
      "Epoch 2/100\n",
      "3074/3074 - 40s - loss: 0.2018 - val_loss: 4.1272\n",
      "Epoch 3/100\n",
      "3074/3074 - 35s - loss: 0.2033 - val_loss: 5.2098\n",
      "Epoch 4/100\n",
      "3074/3074 - 38s - loss: 0.2539 - val_loss: 3.3478\n",
      "Epoch 5/100\n",
      "3074/3074 - 36s - loss: 0.2015 - val_loss: 9.9042\n",
      "Epoch 6/100\n",
      "3074/3074 - 42s - loss: 0.2375 - val_loss: 3.2647\n",
      "Epoch 7/100\n",
      "3074/3074 - 36s - loss: 0.2186 - val_loss: 2.6322\n",
      "Epoch 8/100\n",
      "3074/3074 - 37s - loss: 0.2075 - val_loss: 2.7790\n",
      "Epoch 9/100\n",
      "3074/3074 - 37s - loss: 0.2371 - val_loss: 3.3070\n",
      "Epoch 10/100\n",
      "3074/3074 - 37s - loss: 0.2357 - val_loss: 3.0248\n",
      "Epoch 11/100\n",
      "3074/3074 - 37s - loss: 0.3317 - val_loss: 5.6532\n",
      "Epoch 12/100\n",
      "3074/3074 - 36s - loss: 0.2222 - val_loss: 6.8189\n",
      "Epoch 00012: early stopping\n"
     ]
    },
    {
     "data": {
      "text/plain": [
       "<tensorflow.python.keras.callbacks.History at 0x288029979e8>"
      ]
     },
     "execution_count": 29,
     "metadata": {},
     "output_type": "execute_result"
    }
   ],
   "source": [
    "from tensorflow.keras.models import Sequential\n",
    "from tensorflow.keras.layers import Dense, Embedding ,Dropout\n",
    "from tensorflow.keras.layers import LSTM\n",
    "from tensorflow.keras.callbacks import EarlyStopping\n",
    "import numpy as np\n",
    "\n",
    "print('Build model...')\n",
    "model = Sequential()\n",
    "\n",
    "model.add(LSTM(1200,activation='relu',dropout=0.0, recurrent_dropout=0.0, input_shape=(4, 5), kernel_initializer='random_uniform'))\n",
    "model.add(Dense(600))\n",
    "model.add(Dense(300))\n",
    "model.add(Dense(100))\n",
    "model.add(Dense(1))\n",
    "\n",
    "model.compile(loss='mean_squared_error', optimizer='adam')\n",
    "\n",
    "monitor = EarlyStopping(monitor='val_loss', min_delta=1e-3, patience=5, verbose=1, mode='auto')\n",
    "checkpointer = ModelCheckpoint(filepath=\"C://Users//Amit//Desktop//CSC215_P2_Stock_Price.csv\", verbose=0, save_best_only=True)\n",
    "print('Train...')\n",
    "\n",
    "model.fit(NX_train,NY_train,validation_data=(NX_test,NY_test), callbacks=[monitor,checkpointer],verbose=2, epochs=100)"
   ]
  },
  {
   "cell_type": "code",
   "execution_count": 30,
   "metadata": {},
   "outputs": [],
   "source": [
    "pred = model.predict(NX_test)"
   ]
  },
  {
   "cell_type": "code",
   "execution_count": 31,
   "metadata": {},
   "outputs": [
    {
     "name": "stdout",
     "output_type": "stream",
     "text": [
      "Score (RMSE): 2.611308094327078\n"
     ]
    }
   ],
   "source": [
    "score = np.sqrt(metrics.mean_squared_error(pred,NY_test))\n",
    "print(\"Score (RMSE): {}\".format(score))"
   ]
  },
  {
   "cell_type": "code",
   "execution_count": 130,
   "metadata": {},
   "outputs": [],
   "source": [
    "Nconvx_train = NX_train.reshape(3074,1,4,5)\n",
    "Nconvx_test = NX_test.reshape(1318,1,4,5)\n",
    "Nconvx_train = x_train.astype('float32')\n",
    "Nconvx_test = x_test.astype('float32')"
   ]
  },
  {
   "cell_type": "code",
   "execution_count": 131,
   "metadata": {},
   "outputs": [],
   "source": [
    "convmodel = Sequential()"
   ]
  },
  {
   "cell_type": "code",
   "execution_count": 132,
   "metadata": {},
   "outputs": [],
   "source": [
    "from tensorflow.keras.models import Sequential\n",
    "from tensorflow.keras.layers import Dense, Dropout, Flatten\n",
    "from tensorflow.keras.layers import Conv2D, MaxPooling2D"
   ]
  },
  {
   "cell_type": "code",
   "execution_count": 133,
   "metadata": {},
   "outputs": [],
   "source": [
    "convmodel.add(Conv2D(512, kernel_size=(3, 3), strides=(1, 1), padding='same',\n",
    "                 activation='relu',\n",
    "                 input_shape=(1,4,5)))"
   ]
  },
  {
   "cell_type": "code",
   "execution_count": 134,
   "metadata": {},
   "outputs": [],
   "source": [
    "convmodel.add(Conv2D(256, (3, 3),padding='same', activation='relu'))"
   ]
  },
  {
   "cell_type": "code",
   "execution_count": 135,
   "metadata": {},
   "outputs": [],
   "source": [
    "convmodel.add(MaxPooling2D(padding = 'same',pool_size=(2, 2), strides=None))"
   ]
  },
  {
   "cell_type": "code",
   "execution_count": 136,
   "metadata": {},
   "outputs": [],
   "source": [
    "convmodel.add(Flatten())"
   ]
  },
  {
   "cell_type": "code",
   "execution_count": 137,
   "metadata": {},
   "outputs": [],
   "source": [
    "convmodel.add(Dense(1000, activation='relu'))"
   ]
  },
  {
   "cell_type": "code",
   "execution_count": 138,
   "metadata": {},
   "outputs": [],
   "source": [
    "convmodel.add(Dense(1))"
   ]
  },
  {
   "cell_type": "code",
   "execution_count": 139,
   "metadata": {},
   "outputs": [],
   "source": [
    "import tensorflow as tf\n",
    "from tensorflow.keras.optimizers import Adam\n",
    "\n",
    "# show not only log loss but also accuracy for each epoch using metrics=['accuracy']\n",
    "\n",
    "convmodel.compile(loss=tf.keras.losses.mean_squared_error, optimizer=Adam(lr=0.001, decay=1e-6), metrics=['accuracy'])"
   ]
  },
  {
   "cell_type": "code",
   "execution_count": 140,
   "metadata": {},
   "outputs": [
    {
     "name": "stdout",
     "output_type": "stream",
     "text": [
      "Train on 3074 samples, validate on 1318 samples\n",
      "Epoch 1/100\n",
      "3074/3074 - 5s - loss: 337.8205 - acc: 0.0000e+00 - val_loss: 3260.7046 - val_acc: 0.0000e+00\n",
      "Epoch 2/100\n",
      "3074/3074 - 3s - loss: 208.4635 - acc: 0.0000e+00 - val_loss: 1159.3489 - val_acc: 0.0000e+00\n",
      "Epoch 3/100\n",
      "3074/3074 - 4s - loss: 72.6698 - acc: 0.0000e+00 - val_loss: 15.7681 - val_acc: 0.0000e+00\n",
      "Epoch 4/100\n",
      "3074/3074 - 3s - loss: 1.8700 - acc: 0.0000e+00 - val_loss: 1410.0768 - val_acc: 0.0000e+00\n",
      "Epoch 5/100\n",
      "3074/3074 - 3s - loss: 100.6318 - acc: 0.0000e+00 - val_loss: 767.4310 - val_acc: 0.0000e+00\n",
      "Epoch 6/100\n",
      "3074/3074 - 3s - loss: 54.7972 - acc: 0.0000e+00 - val_loss: 65.5347 - val_acc: 0.0000e+00\n",
      "Epoch 7/100\n",
      "3074/3074 - 4s - loss: 5.1987 - acc: 0.0000e+00 - val_loss: 87.4802 - val_acc: 0.0000e+00\n",
      "Epoch 8/100\n",
      "3074/3074 - 3s - loss: 5.2033 - acc: 0.0000e+00 - val_loss: 381.6139 - val_acc: 0.0000e+00\n",
      "Epoch 00008: early stopping\n"
     ]
    },
    {
     "data": {
      "text/plain": [
       "<tensorflow.python.keras.callbacks.History at 0x205d5d3d358>"
      ]
     },
     "execution_count": 140,
     "metadata": {},
     "output_type": "execute_result"
    }
   ],
   "source": [
    "import os\n",
    "monitor = EarlyStopping(monitor='val_loss', min_delta=1e-3, patience=5, verbose=1, mode='auto')\n",
    "checkpointer = ModelCheckpoint(filepath=\"C://Users//Amit//Desktop//CSC215_P2_Stock_Price.csv\", verbose=0, save_best_only=True)\n",
    "\n",
    "Nconvx_train = NX_train.reshape(3074,1,4,5)\n",
    "Nconvx_test = NX_test.reshape(1318,1,4,5)\n",
    "convmodel.fit(Nconvx_train, NY_train,\n",
    "              callbacks=[monitor,checkpointer],\n",
    "          batch_size=3074,\n",
    "          epochs=100,\n",
    "          verbose=2,\n",
    "          validation_data=(Nconvx_test, NY_test))"
   ]
  },
  {
   "cell_type": "code",
   "execution_count": 143,
   "metadata": {},
   "outputs": [
    {
     "name": "stdout",
     "output_type": "stream",
     "text": [
      "Score (RMSE): 19.534939666376943\n"
     ]
    }
   ],
   "source": [
    "pred = convmodel.predict(Nconvx_test)\n",
    "score = np.sqrt(metrics.mean_squared_error(pred.flatten(),NY_test))\n",
    "print(\"Score (RMSE): {}\".format(score))"
   ]
  },
  {
   "cell_type": "markdown",
   "metadata": {},
   "source": [
    "# Predicting Google's Stock Price"
   ]
  },
  {
   "cell_type": "markdown",
   "metadata": {},
   "source": [
    "# Fully connected NN was our best model for predicting google's stock price"
   ]
  },
  {
   "cell_type": "code",
   "execution_count": 146,
   "metadata": {},
   "outputs": [],
   "source": [
    "dataset=pd.read_csv('C://Users//Amit//Desktop//GOOG.csv')"
   ]
  },
  {
   "cell_type": "code",
   "execution_count": 147,
   "metadata": {},
   "outputs": [],
   "source": [
    "dataset= dataset.drop(columns=['Date','Adj Close'])"
   ]
  },
  {
   "cell_type": "code",
   "execution_count": 148,
   "metadata": {},
   "outputs": [
    {
     "data": {
      "text/html": [
       "<div>\n",
       "<style scoped>\n",
       "    .dataframe tbody tr th:only-of-type {\n",
       "        vertical-align: middle;\n",
       "    }\n",
       "\n",
       "    .dataframe tbody tr th {\n",
       "        vertical-align: top;\n",
       "    }\n",
       "\n",
       "    .dataframe thead th {\n",
       "        text-align: right;\n",
       "    }\n",
       "</style>\n",
       "<table border=\"1\" class=\"dataframe\">\n",
       "  <thead>\n",
       "    <tr style=\"text-align: right;\">\n",
       "      <th></th>\n",
       "      <th>Open</th>\n",
       "      <th>High</th>\n",
       "      <th>Low</th>\n",
       "      <th>Volume</th>\n",
       "      <th>Close</th>\n",
       "    </tr>\n",
       "  </thead>\n",
       "  <tbody>\n",
       "    <tr>\n",
       "      <th>0</th>\n",
       "      <td>49.676899</td>\n",
       "      <td>51.693783</td>\n",
       "      <td>47.669952</td>\n",
       "      <td>44994500</td>\n",
       "      <td>49.845802</td>\n",
       "    </tr>\n",
       "    <tr>\n",
       "      <th>1</th>\n",
       "      <td>50.178635</td>\n",
       "      <td>54.187561</td>\n",
       "      <td>49.925285</td>\n",
       "      <td>23005800</td>\n",
       "      <td>53.805050</td>\n",
       "    </tr>\n",
       "    <tr>\n",
       "      <th>2</th>\n",
       "      <td>55.017166</td>\n",
       "      <td>56.373344</td>\n",
       "      <td>54.172661</td>\n",
       "      <td>18393200</td>\n",
       "      <td>54.346527</td>\n",
       "    </tr>\n",
       "    <tr>\n",
       "      <th>3</th>\n",
       "      <td>55.260582</td>\n",
       "      <td>55.439419</td>\n",
       "      <td>51.450363</td>\n",
       "      <td>15361800</td>\n",
       "      <td>52.096165</td>\n",
       "    </tr>\n",
       "    <tr>\n",
       "      <th>4</th>\n",
       "      <td>52.140873</td>\n",
       "      <td>53.651051</td>\n",
       "      <td>51.604362</td>\n",
       "      <td>9257400</td>\n",
       "      <td>52.657513</td>\n",
       "    </tr>\n",
       "  </tbody>\n",
       "</table>\n",
       "</div>"
      ],
      "text/plain": [
       "        Open       High        Low    Volume      Close\n",
       "0  49.676899  51.693783  47.669952  44994500  49.845802\n",
       "1  50.178635  54.187561  49.925285  23005800  53.805050\n",
       "2  55.017166  56.373344  54.172661  18393200  54.346527\n",
       "3  55.260582  55.439419  51.450363  15361800  52.096165\n",
       "4  52.140873  53.651051  51.604362   9257400  52.657513"
      ]
     },
     "execution_count": 148,
     "metadata": {},
     "output_type": "execute_result"
    }
   ],
   "source": [
    "dataset = dataset[['Open','High','Low','Volume','Close']]\n",
    "dataset.head()"
   ]
  },
  {
   "cell_type": "code",
   "execution_count": 149,
   "metadata": {},
   "outputs": [],
   "source": [
    "from scipy.stats import zscore\n",
    "\n",
    "dataset['Open'] = zscore(dataset['Open'])\n",
    "dataset['High'] = zscore(dataset['High'])\n",
    "dataset['Low'] = zscore(dataset['Low'])\n",
    "dataset['Volume'] = zscore(dataset['Volume'])"
   ]
  },
  {
   "cell_type": "code",
   "execution_count": 150,
   "metadata": {},
   "outputs": [
    {
     "data": {
      "text/plain": [
       "(3578, 5)"
      ]
     },
     "execution_count": 150,
     "metadata": {},
     "output_type": "execute_result"
    }
   ],
   "source": [
    "dataset.shape"
   ]
  },
  {
   "cell_type": "code",
   "execution_count": 151,
   "metadata": {},
   "outputs": [],
   "source": [
    "xtrain = dataset.iloc[0:2504,:].values\n",
    "ytrain = dataset.iloc[0:2504,4].values\n",
    "\n",
    "xtest = dataset.iloc[2504:3578,:].values\n",
    "ytest = dataset.iloc[2504:3578,4].values"
   ]
  },
  {
   "cell_type": "code",
   "execution_count": 152,
   "metadata": {},
   "outputs": [],
   "source": [
    "x_train=xtrain\n",
    "y_train=ytrain\n",
    "x_test=xtest\n",
    "y_test=ytest"
   ]
  },
  {
   "cell_type": "code",
   "execution_count": 153,
   "metadata": {},
   "outputs": [],
   "source": [
    "X_train =[]\n",
    "Y_train = []\n",
    "\n",
    "\n",
    "for i in range(4, len(x_train)):\n",
    "    X_train.append(x_train[i-4:i ,:])\n",
    "    Y_train.append(xtrain[i,4])"
   ]
  },
  {
   "cell_type": "code",
   "execution_count": 154,
   "metadata": {},
   "outputs": [],
   "source": [
    "for i in range(4, 8):\n",
    "    X_train.append(x_train[i-4:i ,:])\n",
    "    Y_train.append(xtrain[i,4])"
   ]
  },
  {
   "cell_type": "code",
   "execution_count": 155,
   "metadata": {},
   "outputs": [],
   "source": [
    "X_train=np.array(X_train)"
   ]
  },
  {
   "cell_type": "code",
   "execution_count": 156,
   "metadata": {},
   "outputs": [
    {
     "data": {
      "text/plain": [
       "(2504, 4, 5)"
      ]
     },
     "execution_count": 156,
     "metadata": {},
     "output_type": "execute_result"
    }
   ],
   "source": [
    "X_train.shape"
   ]
  },
  {
   "cell_type": "code",
   "execution_count": 157,
   "metadata": {},
   "outputs": [],
   "source": [
    "X_test =[]\n",
    "Y_test = []\n",
    "\n",
    "\n",
    "for i in range(4, len(x_test)):\n",
    "    X_test.append(x_test[i-4:i ,:])\n",
    "    Y_test.append(xtest[i,4])"
   ]
  },
  {
   "cell_type": "code",
   "execution_count": 158,
   "metadata": {},
   "outputs": [],
   "source": [
    "for i in range(4, 8):\n",
    "    X_test.append(x_test[i-4:i ,:])\n",
    "    Y_test.append(xtest[i,4])"
   ]
  },
  {
   "cell_type": "code",
   "execution_count": 159,
   "metadata": {},
   "outputs": [],
   "source": [
    "Y_train=np.array(Y_train)\n",
    "X_test=np.array(X_test)\n",
    "Y_test=np.array(Y_test)"
   ]
  },
  {
   "cell_type": "code",
   "execution_count": 160,
   "metadata": {},
   "outputs": [
    {
     "data": {
      "text/plain": [
       "(2504, 4, 5)"
      ]
     },
     "execution_count": 160,
     "metadata": {},
     "output_type": "execute_result"
    }
   ],
   "source": [
    "X_train.shape"
   ]
  },
  {
   "cell_type": "code",
   "execution_count": 161,
   "metadata": {},
   "outputs": [
    {
     "data": {
      "text/plain": [
       "(1074, 4, 5)"
      ]
     },
     "execution_count": 161,
     "metadata": {},
     "output_type": "execute_result"
    }
   ],
   "source": [
    "X_test.shape"
   ]
  },
  {
   "cell_type": "code",
   "execution_count": 162,
   "metadata": {},
   "outputs": [],
   "source": [
    "Narray = X_train.reshape(2504,20)\n",
    "Narraytest = X_test.reshape(1074, 20)"
   ]
  },
  {
   "cell_type": "code",
   "execution_count": 67,
   "metadata": {},
   "outputs": [],
   "source": [
    "model = Sequential()\n",
    "#All 4 neural network models have 4 layers and 21 neurons\n",
    "#activations using Relu, and sigmoid and optimizer is Adam\n",
    "\n",
    "model.add(Dense(700, input_dim = 20,activation='relu')) #hidden 1\n",
    "model.add(Dense(350, activation='relu'))\n",
    "#model.add(Dense(125, activation='sigmoid'))\n",
    "#model.add(Dense(10, activation='relu')) \n",
    "#model.add(Dense(10, activation='relu')) \n",
    "model.add(Dense(1)) \n",
    "model.compile(loss='mean_squared_error', optimizer='adam', metrics = ['accuracy'])\n",
    "monitor = EarlyStopping(monitor='val_loss', min_delta=1e-3, patience=5, verbose=1, mode='auto')\n",
    "checkpointer = ModelCheckpoint(filepath=\"C://Users//Amit//Desktop//GOOG.csv\", verbose=0, save_best_only=True)"
   ]
  },
  {
   "cell_type": "code",
   "execution_count": 69,
   "metadata": {},
   "outputs": [
    {
     "name": "stdout",
     "output_type": "stream",
     "text": [
      "Train on 2504 samples, validate on 1074 samples\n",
      "Epoch 1/500\n",
      "2504/2504 - 1s - loss: 37.8067 - acc: 0.0000e+00 - val_loss: 375.2976 - val_acc: 0.0000e+00\n",
      "Epoch 2/500\n",
      "2504/2504 - 1s - loss: 40.6014 - acc: 0.0000e+00 - val_loss: 154.3705 - val_acc: 0.0000e+00\n",
      "Epoch 3/500\n",
      "2504/2504 - 0s - loss: 31.6127 - acc: 0.0000e+00 - val_loss: 161.2365 - val_acc: 0.0000e+00\n",
      "Epoch 4/500\n",
      "2504/2504 - 0s - loss: 33.6263 - acc: 0.0000e+00 - val_loss: 173.4554 - val_acc: 0.0000e+00\n",
      "Epoch 5/500\n",
      "2504/2504 - 1s - loss: 31.4649 - acc: 0.0000e+00 - val_loss: 166.0404 - val_acc: 0.0000e+00\n",
      "Epoch 6/500\n",
      "2504/2504 - 0s - loss: 38.6047 - acc: 0.0000e+00 - val_loss: 332.0395 - val_acc: 0.0000e+00\n",
      "Epoch 7/500\n",
      "2504/2504 - 0s - loss: 31.1858 - acc: 0.0000e+00 - val_loss: 183.0960 - val_acc: 0.0000e+00\n",
      "Epoch 00007: early stopping\n"
     ]
    },
    {
     "data": {
      "text/plain": [
       "<tensorflow.python.keras.callbacks.History at 0x288292a2630>"
      ]
     },
     "execution_count": 69,
     "metadata": {},
     "output_type": "execute_result"
    }
   ],
   "source": [
    "import os\n",
    "model.fit(Narray, Y_train,validation_data=(Narraytest, Y_test),callbacks=[monitor,checkpointer],verbose=2,epochs=500)"
   ]
  },
  {
   "cell_type": "code",
   "execution_count": 70,
   "metadata": {},
   "outputs": [
    {
     "name": "stdout",
     "output_type": "stream",
     "text": [
      "Score (RMSE): 13.53129695379117\n"
     ]
    }
   ],
   "source": [
    "pred = model.predict(Narraytest)\n",
    "score = np.sqrt(metrics.mean_squared_error(pred,Y_test))\n",
    "print(\"Score (RMSE): {}\".format(score))"
   ]
  },
  {
   "cell_type": "code",
   "execution_count": 124,
   "metadata": {},
   "outputs": [
    {
     "name": "stdout",
     "output_type": "stream",
     "text": [
      "Build model...\n",
      "Train...\n",
      "Train on 2504 samples, validate on 1074 samples\n",
      "Epoch 1/100\n",
      "2504/2504 - 41s - loss: 5979.8760 - val_loss: 247.4424\n",
      "Epoch 2/100\n",
      "2504/2504 - 30s - loss: 44.9593 - val_loss: 378.2571\n",
      "Epoch 3/100\n",
      "2504/2504 - 30s - loss: 44.0271 - val_loss: 277.2493\n",
      "Epoch 4/100\n",
      "2504/2504 - 30s - loss: 45.0631 - val_loss: 255.6689\n",
      "Epoch 5/100\n",
      "2504/2504 - 30s - loss: 42.6309 - val_loss: 283.8240\n",
      "Epoch 6/100\n",
      "2504/2504 - 30s - loss: 44.7368 - val_loss: 226.0398\n",
      "Epoch 7/100\n",
      "2504/2504 - 31s - loss: 41.6323 - val_loss: 234.5867\n",
      "Epoch 8/100\n",
      "2504/2504 - 30s - loss: 51.3994 - val_loss: 349.5501\n",
      "Epoch 9/100\n",
      "2504/2504 - 29s - loss: 54.5963 - val_loss: 227.3811\n",
      "Epoch 10/100\n",
      "2504/2504 - 29s - loss: 48.2375 - val_loss: 223.7715\n",
      "Epoch 11/100\n",
      "2504/2504 - 30s - loss: 48.0421 - val_loss: 292.8144\n",
      "Epoch 12/100\n",
      "2504/2504 - 30s - loss: 39.0244 - val_loss: 209.4456\n",
      "Epoch 13/100\n",
      "2504/2504 - 29s - loss: 41.6093 - val_loss: 212.0887\n",
      "Epoch 14/100\n",
      "2504/2504 - 29s - loss: 44.3110 - val_loss: 396.1469\n",
      "Epoch 15/100\n",
      "2504/2504 - 31s - loss: 40.2886 - val_loss: 222.7641\n",
      "Epoch 16/100\n",
      "2504/2504 - 31s - loss: 36.1686 - val_loss: 582.4370\n",
      "Epoch 17/100\n",
      "2504/2504 - 30s - loss: 45.0378 - val_loss: 175.6608\n",
      "Epoch 18/100\n",
      "2504/2504 - 29s - loss: 38.5268 - val_loss: 276.3212\n",
      "Epoch 19/100\n",
      "2504/2504 - 31s - loss: 39.4266 - val_loss: 290.5558\n",
      "Epoch 20/100\n",
      "2504/2504 - 29s - loss: 35.3800 - val_loss: 189.6923\n",
      "Epoch 21/100\n",
      "2504/2504 - 30s - loss: 34.8113 - val_loss: 164.3075\n",
      "Epoch 22/100\n",
      "2504/2504 - 29s - loss: 37.0651 - val_loss: 957.0350\n",
      "Epoch 23/100\n",
      "2504/2504 - 31s - loss: 51.2721 - val_loss: 573.2484\n",
      "Epoch 24/100\n",
      "2504/2504 - 43s - loss: 38.9123 - val_loss: 961.7856\n",
      "Epoch 25/100\n",
      "2504/2504 - 31s - loss: 68.4323 - val_loss: 910.5094\n",
      "Epoch 26/100\n",
      "2504/2504 - 29s - loss: 67.7923 - val_loss: 358.4232\n",
      "Epoch 00026: early stopping\n"
     ]
    },
    {
     "data": {
      "text/plain": [
       "<tensorflow.python.keras.callbacks.History at 0x288d4522ac8>"
      ]
     },
     "execution_count": 124,
     "metadata": {},
     "output_type": "execute_result"
    }
   ],
   "source": [
    "from tensorflow.keras.models import Sequential\n",
    "from tensorflow.keras.layers import Dense, Embedding ,Dropout\n",
    "from tensorflow.keras.layers import LSTM\n",
    "from tensorflow.keras.callbacks import EarlyStopping\n",
    "import numpy as np\n",
    "\n",
    "print('Build model...')\n",
    "model = Sequential()\n",
    "\n",
    "model.add(LSTM(1200,activation='relu',dropout=0.0, recurrent_dropout=0.0, input_shape=(4, 5), kernel_initializer='random_uniform'))\n",
    "model.add(Dense(600))\n",
    "model.add(Dense(300))\n",
    "model.add(Dense(100))\n",
    "model.add(Dense(1))\n",
    "\n",
    "model.compile(loss='mean_squared_error', optimizer='adam')\n",
    "\n",
    "monitor = EarlyStopping(monitor='val_loss', min_delta=1e-12, patience=5, verbose=1, mode='auto')\n",
    "checkpointer = ModelCheckpoint(filepath=\"C://Users//Amit//Desktop//GOOG.csv\", verbose=0, save_best_only=True)\n",
    "print('Train...')\n",
    "\n",
    "model.fit(X_train,Y_train,validation_data=(X_test,Y_test), callbacks=[monitor,checkpointer],verbose=2, epochs=100)"
   ]
  },
  {
   "cell_type": "code",
   "execution_count": 125,
   "metadata": {},
   "outputs": [
    {
     "name": "stdout",
     "output_type": "stream",
     "text": [
      "Score (RMSE): 18.93206941322686\n"
     ]
    }
   ],
   "source": [
    "pred = model.predict(X_test)\n",
    "score = np.sqrt(metrics.mean_squared_error(pred,Y_test))\n",
    "print(\"Score (RMSE): {}\".format(score))"
   ]
  },
  {
   "cell_type": "code",
   "execution_count": 163,
   "metadata": {},
   "outputs": [],
   "source": [
    "Nconvx_train = X_train.reshape(2504,1,4,5)\n",
    "Nconvx_test = X_test.reshape(1074,1,4,5)\n",
    "Nconvx_train = x_train.astype('float32')\n",
    "Nconvx_test = x_test.astype('float32')"
   ]
  },
  {
   "cell_type": "code",
   "execution_count": 174,
   "metadata": {},
   "outputs": [],
   "source": [
    "convmodel = Sequential()"
   ]
  },
  {
   "cell_type": "code",
   "execution_count": 175,
   "metadata": {},
   "outputs": [],
   "source": [
    "from tensorflow.keras.models import Sequential\n",
    "from tensorflow.keras.layers import Dense, Dropout, Flatten\n",
    "from tensorflow.keras.layers import Conv2D, MaxPooling2D"
   ]
  },
  {
   "cell_type": "code",
   "execution_count": 176,
   "metadata": {},
   "outputs": [],
   "source": [
    "convmodel.add(Conv2D(512, kernel_size=(3, 3), strides=(1, 1), padding='same',\n",
    "                 activation='relu',\n",
    "                 input_shape=(1,4,5)))"
   ]
  },
  {
   "cell_type": "code",
   "execution_count": 177,
   "metadata": {},
   "outputs": [],
   "source": [
    "convmodel.add(Conv2D(256, (3, 3),padding='same', activation='relu'))"
   ]
  },
  {
   "cell_type": "code",
   "execution_count": 178,
   "metadata": {},
   "outputs": [],
   "source": [
    "convmodel.add(MaxPooling2D(padding = 'same',pool_size=(2, 2), strides=None))"
   ]
  },
  {
   "cell_type": "code",
   "execution_count": 179,
   "metadata": {},
   "outputs": [],
   "source": [
    "convmodel.add(Flatten())"
   ]
  },
  {
   "cell_type": "code",
   "execution_count": 180,
   "metadata": {},
   "outputs": [],
   "source": [
    "convmodel.add(Dense(1000, activation='relu'))"
   ]
  },
  {
   "cell_type": "code",
   "execution_count": 181,
   "metadata": {},
   "outputs": [],
   "source": [
    "convmodel.add(Dense(1))"
   ]
  },
  {
   "cell_type": "code",
   "execution_count": 184,
   "metadata": {},
   "outputs": [],
   "source": [
    "import tensorflow as tf\n",
    "from tensorflow.keras.optimizers import Adam\n",
    "\n",
    "# show not only log loss but also accuracy for each epoch using metrics=['accuracy']\n",
    "\n",
    "convmodel.compile(loss=tf.keras.losses.mean_squared_error, optimizer=Adam(lr=0.001, decay=1e-12))"
   ]
  },
  {
   "cell_type": "code",
   "execution_count": 185,
   "metadata": {},
   "outputs": [
    {
     "name": "stdout",
     "output_type": "stream",
     "text": [
      "Train on 2504 samples, validate on 1074 samples\n",
      "Epoch 1/100\n",
      "2504/2504 - 5s - loss: 7427.1040 - val_loss: 35537.1484\n",
      "Epoch 2/100\n",
      "2504/2504 - 3s - loss: 4522.6772 - val_loss: 15996.2920\n",
      "Epoch 3/100\n",
      "2504/2504 - 3s - loss: 2043.6136 - val_loss: 1587.1984\n",
      "Epoch 4/100\n",
      "2504/2504 - 3s - loss: 213.2686 - val_loss: 16349.8525\n",
      "Epoch 5/100\n",
      "2504/2504 - 3s - loss: 2080.8284 - val_loss: 16341.1045\n",
      "Epoch 6/100\n",
      "2504/2504 - 3s - loss: 2080.2693 - val_loss: 4362.1987\n",
      "Epoch 7/100\n",
      "2504/2504 - 3s - loss: 564.6150 - val_loss: 1031.5095\n",
      "Epoch 8/100\n",
      "2504/2504 - 3s - loss: 144.1370 - val_loss: 9392.8750\n",
      "Epoch 9/100\n",
      "2504/2504 - 3s - loss: 1204.0968 - val_loss: 9609.1797\n",
      "Epoch 10/100\n",
      "2504/2504 - 3s - loss: 1231.2562 - val_loss: 2067.8257\n",
      "Epoch 11/100\n",
      "2504/2504 - 3s - loss: 275.3275 - val_loss: 949.8903\n",
      "Epoch 12/100\n",
      "2504/2504 - 3s - loss: 133.2538 - val_loss: 5403.2490\n",
      "Epoch 13/100\n",
      "2504/2504 - 2s - loss: 696.9372 - val_loss: 6653.6777\n",
      "Epoch 14/100\n",
      "2504/2504 - 4s - loss: 855.3249 - val_loss: 3119.7832\n",
      "Epoch 15/100\n",
      "2504/2504 - 6s - loss: 408.1052 - val_loss: 313.2747\n",
      "Epoch 16/100\n",
      "2504/2504 - 4s - loss: 52.7583 - val_loss: 2088.9883\n",
      "Epoch 17/100\n",
      "2504/2504 - 3s - loss: 277.4648 - val_loss: 4439.2139\n",
      "Epoch 18/100\n",
      "2504/2504 - 3s - loss: 574.9201 - val_loss: 2845.4670\n",
      "Epoch 19/100\n",
      "2504/2504 - 3s - loss: 373.0401 - val_loss: 454.2928\n",
      "Epoch 20/100\n",
      "2504/2504 - 3s - loss: 70.4701 - val_loss: 978.1130\n",
      "Epoch 00020: early stopping\n"
     ]
    },
    {
     "data": {
      "text/plain": [
       "<tensorflow.python.keras.callbacks.History at 0x205ad2fd160>"
      ]
     },
     "execution_count": 185,
     "metadata": {},
     "output_type": "execute_result"
    }
   ],
   "source": [
    "import os\n",
    "monitor = EarlyStopping(monitor='val_loss', min_delta=1e-3, patience=5, verbose=1, mode='auto')\n",
    "checkpointer = ModelCheckpoint(filepath=\"C://Users//Amit//Desktop//GOOG.csv\", verbose=0, save_best_only=True)\n",
    "\n",
    "Nconvx_train = X_train.reshape(2504,1,4,5)\n",
    "Nconvx_test = X_test.reshape(1074,1,4,5)\n",
    "convmodel.fit(Nconvx_train, Y_train,\n",
    "              callbacks=[monitor,checkpointer],\n",
    "          batch_size=3074,\n",
    "          epochs=100,\n",
    "          verbose=2,\n",
    "          validation_data=(Nconvx_test, Y_test))"
   ]
  },
  {
   "cell_type": "code",
   "execution_count": 186,
   "metadata": {},
   "outputs": [
    {
     "name": "stdout",
     "output_type": "stream",
     "text": [
      "Score (RMSE): 31.27480037679218\n"
     ]
    }
   ],
   "source": [
    "pred = convmodel.predict(Nconvx_test)\n",
    "score = np.sqrt(metrics.mean_squared_error(pred,Y_test))\n",
    "print(\"Score (RMSE): {}\".format(score))"
   ]
  }
 ],
 "metadata": {
  "kernelspec": {
   "display_name": "Python 3",
   "language": "python",
   "name": "python3"
  },
  "language_info": {
   "codemirror_mode": {
    "name": "ipython",
    "version": 3
   },
   "file_extension": ".py",
   "mimetype": "text/x-python",
   "name": "python",
   "nbconvert_exporter": "python",
   "pygments_lexer": "ipython3",
   "version": "3.7.3"
  }
 },
 "nbformat": 4,
 "nbformat_minor": 2
}
